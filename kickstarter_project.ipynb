{
 "cells": [
  {
   "cell_type": "markdown",
   "metadata": {},
   "source": [
    "# KICKSTARTER (final project)"
   ]
  },
  {
   "cell_type": "markdown",
   "metadata": {},
   "source": [
    "**What is Kickstarter?**\n",
    "\n",
    "Kickstarter is a funding platform for creative projects. Everything from film, games, and music to art, design, and technology. Kickstarter is full of ambitious, innovative, and imaginative projects that are brought to life through the direct support of others.\n",
    "\n",
    "Every project creator sets their project's funding goal and deadline. If people like the project, they can pledge money to make it happen. If the project succeeds in reaching its funding goal, all backers' credit cards are charged when time expires. Funding on Kickstarter is all-or-nothing. If the project falls short of its funding goal, no one is charged."
   ]
  },
  {
   "cell_type": "markdown",
   "metadata": {},
   "source": [
    "**Objective**\n",
    "\n",
    "Goal of this analysis it to be able to predict whether or not a project will receive it's goal funds."
   ]
  },
  {
   "cell_type": "markdown",
   "metadata": {},
   "source": [
    "**Data Source:**\n",
    "\n",
    "https://webrobots.io/kickstarter-datasets/"
   ]
  },
  {
   "cell_type": "markdown",
   "metadata": {},
   "source": [
    "## import libraries"
   ]
  },
  {
   "cell_type": "code",
   "execution_count": 1,
   "metadata": {},
   "outputs": [],
   "source": [
    "import pandas as pd\n",
    "import numpy as np\n",
    "import seaborn as sns\n",
    "import matplotlib.pyplot as plt\n",
    "import glob\n",
    "import math\n",
    "from wordcloud import WordCloud, STOPWORDS, ImageColorGenerator\n",
    "from deep_translator import GoogleTranslator\n",
    "import langid\n",
    "\n",
    "# scipy libraries\n",
    "from scipy import stats\n",
    "from scipy.stats.mstats import winsorize\n",
    "\n",
    "# statsmodels libraries\n",
    "import statsmodels.api as sm\n",
    "from statsmodels.formula.api import ols\n",
    "\n",
    "# sklearn libraries\n",
    "from sklearn.preprocessing import OneHotEncoder, Normalizer, LabelEncoder, StandardScaler, MinMaxScaler\n",
    "from sklearn.model_selection import train_test_split\n",
    "from sklearn.linear_model import LinearRegression, LogisticRegression\n",
    "from sklearn.metrics import mean_squared_error, r2_score, confusion_matrix\n",
    "from sklearn.neighbors import KNeighborsRegressor\n",
    "\n",
    "# balancing libraries\n",
    "from imblearn.over_sampling import SMOTE\n",
    "from imblearn.under_sampling import TomekLinks\n",
    "\n",
    "# ignore warnings\n",
    "import warnings\n",
    "warnings.filterwarnings('ignore')"
   ]
  },
  {
   "cell_type": "markdown",
   "metadata": {},
   "source": [
    "## import data"
   ]
  },
  {
   "cell_type": "code",
   "execution_count": 2,
   "metadata": {},
   "outputs": [],
   "source": [
    "from src.math_functions import create_dataframe\n",
    "\n",
    "df = create_dataframe()"
   ]
  },
  {
   "cell_type": "markdown",
   "metadata": {},
   "source": [
    "## first review and clean data"
   ]
  },
  {
   "cell_type": "markdown",
   "metadata": {},
   "source": [
    "### review"
   ]
  },
  {
   "cell_type": "code",
   "execution_count": 3,
   "metadata": {},
   "outputs": [
    {
     "name": "stdout",
     "output_type": "stream",
     "text": [
      "This dataset contains 543589 rows and 39 columns\n"
     ]
    }
   ],
   "source": [
    "print(\"This dataset contains {} rows and {} columns\".format(*df.shape))"
   ]
  },
  {
   "cell_type": "code",
   "execution_count": 4,
   "metadata": {},
   "outputs": [
    {
     "data": {
      "text/html": [
       "<div>\n",
       "<style scoped>\n",
       "    .dataframe tbody tr th:only-of-type {\n",
       "        vertical-align: middle;\n",
       "    }\n",
       "\n",
       "    .dataframe tbody tr th {\n",
       "        vertical-align: top;\n",
       "    }\n",
       "\n",
       "    .dataframe thead th {\n",
       "        text-align: right;\n",
       "    }\n",
       "</style>\n",
       "<table border=\"1\" class=\"dataframe\">\n",
       "  <thead>\n",
       "    <tr style=\"text-align: right;\">\n",
       "      <th></th>\n",
       "      <th>backers_count</th>\n",
       "      <th>blurb</th>\n",
       "      <th>category</th>\n",
       "      <th>converted_pledged_amount</th>\n",
       "      <th>country</th>\n",
       "      <th>country_displayable_name</th>\n",
       "      <th>created_at</th>\n",
       "      <th>creator</th>\n",
       "      <th>currency</th>\n",
       "      <th>currency_symbol</th>\n",
       "      <th>...</th>\n",
       "      <th>source_url</th>\n",
       "      <th>spotlight</th>\n",
       "      <th>staff_pick</th>\n",
       "      <th>state</th>\n",
       "      <th>state_changed_at</th>\n",
       "      <th>static_usd_rate</th>\n",
       "      <th>urls</th>\n",
       "      <th>usd_pledged</th>\n",
       "      <th>usd_type</th>\n",
       "      <th>usd_exchange_rate</th>\n",
       "    </tr>\n",
       "  </thead>\n",
       "  <tbody>\n",
       "    <tr>\n",
       "      <th>945</th>\n",
       "      <td>27</td>\n",
       "      <td>Zombies &amp; ghosts &amp; DANCE, oh my! HELP us to cr...</td>\n",
       "      <td>{\"id\":24,\"name\":\"Performance Art\",\"analytics_n...</td>\n",
       "      <td>1635</td>\n",
       "      <td>US</td>\n",
       "      <td>the United States</td>\n",
       "      <td>1345999351</td>\n",
       "      <td>{\"id\":476701067,\"name\":\"Blind Faith Project\",\"...</td>\n",
       "      <td>USD</td>\n",
       "      <td>$</td>\n",
       "      <td>...</td>\n",
       "      <td>https://www.kickstarter.com/discover/categorie...</td>\n",
       "      <td>True</td>\n",
       "      <td>False</td>\n",
       "      <td>successful</td>\n",
       "      <td>1348625995</td>\n",
       "      <td>1.0</td>\n",
       "      <td>{\"web\":{\"project\":\"https://www.kickstarter.com...</td>\n",
       "      <td>1635.00</td>\n",
       "      <td>international</td>\n",
       "      <td>1.0</td>\n",
       "    </tr>\n",
       "    <tr>\n",
       "      <th>846</th>\n",
       "      <td>200</td>\n",
       "      <td>RUBY is an online lifestyle publication that p...</td>\n",
       "      <td>{\"id\":361,\"name\":\"Web\",\"analytics_name\":\"Web\",...</td>\n",
       "      <td>15101</td>\n",
       "      <td>US</td>\n",
       "      <td>the United States</td>\n",
       "      <td>1398370895</td>\n",
       "      <td>{\"id\":797162015,\"name\":\"RUBY Magazine\",\"slug\":...</td>\n",
       "      <td>USD</td>\n",
       "      <td>$</td>\n",
       "      <td>...</td>\n",
       "      <td>https://www.kickstarter.com/discover/categorie...</td>\n",
       "      <td>True</td>\n",
       "      <td>True</td>\n",
       "      <td>successful</td>\n",
       "      <td>1428503456</td>\n",
       "      <td>1.0</td>\n",
       "      <td>{\"web\":{\"project\":\"https://www.kickstarter.com...</td>\n",
       "      <td>15101.25</td>\n",
       "      <td>international</td>\n",
       "      <td>1.0</td>\n",
       "    </tr>\n",
       "    <tr>\n",
       "      <th>3269</th>\n",
       "      <td>38</td>\n",
       "      <td>The Crimson Coyote is a bi-weekly podcast abou...</td>\n",
       "      <td>{\"id\":239,\"name\":\"Radio &amp; Podcasts\",\"analytics...</td>\n",
       "      <td>1205</td>\n",
       "      <td>US</td>\n",
       "      <td>the United States</td>\n",
       "      <td>1564672416</td>\n",
       "      <td>{\"id\":1722142188,\"name\":\"Jessie Askinazi\",\"slu...</td>\n",
       "      <td>USD</td>\n",
       "      <td>$</td>\n",
       "      <td>...</td>\n",
       "      <td>https://www.kickstarter.com/discover/categorie...</td>\n",
       "      <td>True</td>\n",
       "      <td>False</td>\n",
       "      <td>successful</td>\n",
       "      <td>1567742833</td>\n",
       "      <td>1.0</td>\n",
       "      <td>{\"web\":{\"project\":\"https://www.kickstarter.com...</td>\n",
       "      <td>1205.00</td>\n",
       "      <td>international</td>\n",
       "      <td>NaN</td>\n",
       "    </tr>\n",
       "    <tr>\n",
       "      <th>3354</th>\n",
       "      <td>140</td>\n",
       "      <td>A retrospective concert of chamber music at Ro...</td>\n",
       "      <td>{\"id\":14,\"name\":\"Music\",\"analytics_name\":\"Musi...</td>\n",
       "      <td>13115</td>\n",
       "      <td>US</td>\n",
       "      <td>the United States</td>\n",
       "      <td>1561573978</td>\n",
       "      <td>{\"id\":588957667,\"name\":\"Max Johnson\",\"slug\":\"m...</td>\n",
       "      <td>USD</td>\n",
       "      <td>$</td>\n",
       "      <td>...</td>\n",
       "      <td>https://www.kickstarter.com/discover/categorie...</td>\n",
       "      <td>True</td>\n",
       "      <td>True</td>\n",
       "      <td>successful</td>\n",
       "      <td>1577854740</td>\n",
       "      <td>1.0</td>\n",
       "      <td>{\"web\":{\"project\":\"https://www.kickstarter.com...</td>\n",
       "      <td>13115.82</td>\n",
       "      <td>international</td>\n",
       "      <td>1.0</td>\n",
       "    </tr>\n",
       "    <tr>\n",
       "      <th>2725</th>\n",
       "      <td>262</td>\n",
       "      <td>Artist Shrine and Harambee Arts create a monum...</td>\n",
       "      <td>{\"id\":53,\"name\":\"Public Art\",\"analytics_name\":...</td>\n",
       "      <td>26197</td>\n",
       "      <td>US</td>\n",
       "      <td>the United States</td>\n",
       "      <td>1385411557</td>\n",
       "      <td>{\"id\":1249932987,\"name\":\"Gloria Simoneaux\",\"is...</td>\n",
       "      <td>USD</td>\n",
       "      <td>$</td>\n",
       "      <td>...</td>\n",
       "      <td>https://www.kickstarter.com/discover/categorie...</td>\n",
       "      <td>True</td>\n",
       "      <td>False</td>\n",
       "      <td>successful</td>\n",
       "      <td>1391036807</td>\n",
       "      <td>1.0</td>\n",
       "      <td>{\"web\":{\"project\":\"https://www.kickstarter.com...</td>\n",
       "      <td>26197.23</td>\n",
       "      <td>domestic</td>\n",
       "      <td>1.0</td>\n",
       "    </tr>\n",
       "  </tbody>\n",
       "</table>\n",
       "<p>5 rows × 39 columns</p>\n",
       "</div>"
      ],
      "text/plain": [
       "      backers_count                                              blurb  \\\n",
       "945              27  Zombies & ghosts & DANCE, oh my! HELP us to cr...   \n",
       "846             200  RUBY is an online lifestyle publication that p...   \n",
       "3269             38  The Crimson Coyote is a bi-weekly podcast abou...   \n",
       "3354            140  A retrospective concert of chamber music at Ro...   \n",
       "2725            262  Artist Shrine and Harambee Arts create a monum...   \n",
       "\n",
       "                                               category  \\\n",
       "945   {\"id\":24,\"name\":\"Performance Art\",\"analytics_n...   \n",
       "846   {\"id\":361,\"name\":\"Web\",\"analytics_name\":\"Web\",...   \n",
       "3269  {\"id\":239,\"name\":\"Radio & Podcasts\",\"analytics...   \n",
       "3354  {\"id\":14,\"name\":\"Music\",\"analytics_name\":\"Musi...   \n",
       "2725  {\"id\":53,\"name\":\"Public Art\",\"analytics_name\":...   \n",
       "\n",
       "      converted_pledged_amount country country_displayable_name  created_at  \\\n",
       "945                       1635      US        the United States  1345999351   \n",
       "846                      15101      US        the United States  1398370895   \n",
       "3269                      1205      US        the United States  1564672416   \n",
       "3354                     13115      US        the United States  1561573978   \n",
       "2725                     26197      US        the United States  1385411557   \n",
       "\n",
       "                                                creator currency  \\\n",
       "945   {\"id\":476701067,\"name\":\"Blind Faith Project\",\"...      USD   \n",
       "846   {\"id\":797162015,\"name\":\"RUBY Magazine\",\"slug\":...      USD   \n",
       "3269  {\"id\":1722142188,\"name\":\"Jessie Askinazi\",\"slu...      USD   \n",
       "3354  {\"id\":588957667,\"name\":\"Max Johnson\",\"slug\":\"m...      USD   \n",
       "2725  {\"id\":1249932987,\"name\":\"Gloria Simoneaux\",\"is...      USD   \n",
       "\n",
       "     currency_symbol  ...                                         source_url  \\\n",
       "945                $  ...  https://www.kickstarter.com/discover/categorie...   \n",
       "846                $  ...  https://www.kickstarter.com/discover/categorie...   \n",
       "3269               $  ...  https://www.kickstarter.com/discover/categorie...   \n",
       "3354               $  ...  https://www.kickstarter.com/discover/categorie...   \n",
       "2725               $  ...  https://www.kickstarter.com/discover/categorie...   \n",
       "\n",
       "     spotlight  staff_pick       state state_changed_at  static_usd_rate  \\\n",
       "945       True       False  successful       1348625995              1.0   \n",
       "846       True        True  successful       1428503456              1.0   \n",
       "3269      True       False  successful       1567742833              1.0   \n",
       "3354      True        True  successful       1577854740              1.0   \n",
       "2725      True       False  successful       1391036807              1.0   \n",
       "\n",
       "                                                   urls  usd_pledged  \\\n",
       "945   {\"web\":{\"project\":\"https://www.kickstarter.com...      1635.00   \n",
       "846   {\"web\":{\"project\":\"https://www.kickstarter.com...     15101.25   \n",
       "3269  {\"web\":{\"project\":\"https://www.kickstarter.com...      1205.00   \n",
       "3354  {\"web\":{\"project\":\"https://www.kickstarter.com...     13115.82   \n",
       "2725  {\"web\":{\"project\":\"https://www.kickstarter.com...     26197.23   \n",
       "\n",
       "           usd_type  usd_exchange_rate  \n",
       "945   international                1.0  \n",
       "846   international                1.0  \n",
       "3269  international                NaN  \n",
       "3354  international                1.0  \n",
       "2725       domestic                1.0  \n",
       "\n",
       "[5 rows x 39 columns]"
      ]
     },
     "execution_count": 4,
     "metadata": {},
     "output_type": "execute_result"
    }
   ],
   "source": [
    "df.sample(5)"
   ]
  },
  {
   "cell_type": "markdown",
   "metadata": {},
   "source": [
    "### review column names"
   ]
  },
  {
   "cell_type": "code",
   "execution_count": 5,
   "metadata": {
    "scrolled": false
   },
   "outputs": [
    {
     "data": {
      "text/plain": [
       "Index(['backers_count', 'blurb', 'category', 'converted_pledged_amount',\n",
       "       'country', 'country_displayable_name', 'created_at', 'creator',\n",
       "       'currency', 'currency_symbol', 'currency_trailing_code',\n",
       "       'current_currency', 'deadline', 'disable_communication', 'friends',\n",
       "       'fx_rate', 'goal', 'id', 'is_backing', 'is_starrable', 'is_starred',\n",
       "       'launched_at', 'location', 'name', 'permissions', 'photo', 'pledged',\n",
       "       'profile', 'slug', 'source_url', 'spotlight', 'staff_pick', 'state',\n",
       "       'state_changed_at', 'static_usd_rate', 'urls', 'usd_pledged',\n",
       "       'usd_type', 'usd_exchange_rate'],\n",
       "      dtype='object')"
      ]
     },
     "execution_count": 5,
     "metadata": {},
     "output_type": "execute_result"
    }
   ],
   "source": [
    "df.columns"
   ]
  },
  {
   "cell_type": "markdown",
   "metadata": {},
   "source": [
    "no cleaning of column names required"
   ]
  },
  {
   "cell_type": "markdown",
   "metadata": {},
   "source": [
    "### drop duplicates"
   ]
  },
  {
   "cell_type": "code",
   "execution_count": 6,
   "metadata": {},
   "outputs": [],
   "source": [
    "from src.math_functions import drop_and_compare_duplicates\n",
    "\n",
    "df = drop_and_compare_duplicates(df)"
   ]
  },
  {
   "cell_type": "markdown",
   "metadata": {},
   "source": [
    "### drop duplicate projects with different values"
   ]
  },
  {
   "cell_type": "code",
   "execution_count": 7,
   "metadata": {},
   "outputs": [],
   "source": [
    "from src.math_functions import drop_and_compare_duplicate_id\n",
    "\n",
    "df = drop_and_compare_duplicate_id(df)"
   ]
  },
  {
   "cell_type": "markdown",
   "metadata": {},
   "source": [
    "### extract category information"
   ]
  },
  {
   "cell_type": "code",
   "execution_count": 8,
   "metadata": {
    "scrolled": true
   },
   "outputs": [
    {
     "data": {
      "text/html": [
       "<div>\n",
       "<style scoped>\n",
       "    .dataframe tbody tr th:only-of-type {\n",
       "        vertical-align: middle;\n",
       "    }\n",
       "\n",
       "    .dataframe tbody tr th {\n",
       "        vertical-align: top;\n",
       "    }\n",
       "\n",
       "    .dataframe thead th {\n",
       "        text-align: right;\n",
       "    }\n",
       "</style>\n",
       "<table border=\"1\" class=\"dataframe\">\n",
       "  <thead>\n",
       "    <tr style=\"text-align: right;\">\n",
       "      <th></th>\n",
       "      <th>backers_count</th>\n",
       "      <th>blurb</th>\n",
       "      <th>category</th>\n",
       "      <th>converted_pledged_amount</th>\n",
       "      <th>country</th>\n",
       "      <th>country_displayable_name</th>\n",
       "      <th>created_at</th>\n",
       "      <th>creator</th>\n",
       "      <th>currency</th>\n",
       "      <th>currency_symbol</th>\n",
       "      <th>...</th>\n",
       "      <th>staff_pick</th>\n",
       "      <th>state</th>\n",
       "      <th>state_changed_at</th>\n",
       "      <th>static_usd_rate</th>\n",
       "      <th>urls</th>\n",
       "      <th>usd_pledged</th>\n",
       "      <th>usd_type</th>\n",
       "      <th>usd_exchange_rate</th>\n",
       "      <th>category_slug</th>\n",
       "      <th>category_parent_name</th>\n",
       "    </tr>\n",
       "  </thead>\n",
       "  <tbody>\n",
       "    <tr>\n",
       "      <th>0</th>\n",
       "      <td>4</td>\n",
       "      <td>Raising money to help my grandmother recover f...</td>\n",
       "      <td>{\"id\":44,\"name\":\"World Music\",\"analytics_name\"...</td>\n",
       "      <td>62</td>\n",
       "      <td>US</td>\n",
       "      <td>the United States</td>\n",
       "      <td>1476879198</td>\n",
       "      <td>{\"id\":1501687606,\"name\":\"Devan Porter\",\"is_reg...</td>\n",
       "      <td>USD</td>\n",
       "      <td>$</td>\n",
       "      <td>...</td>\n",
       "      <td>False</td>\n",
       "      <td>failed</td>\n",
       "      <td>1479479560</td>\n",
       "      <td>1.000000</td>\n",
       "      <td>{\"web\":{\"project\":\"https://www.kickstarter.com...</td>\n",
       "      <td>62.000000</td>\n",
       "      <td>international</td>\n",
       "      <td>NaN</td>\n",
       "      <td>music/world music</td>\n",
       "      <td>Music</td>\n",
       "    </tr>\n",
       "    <tr>\n",
       "      <th>1</th>\n",
       "      <td>11</td>\n",
       "      <td>My work is performance based but I branch out ...</td>\n",
       "      <td>{\"id\":24,\"name\":\"Performance Art\",\"analytics_n...</td>\n",
       "      <td>262</td>\n",
       "      <td>GB</td>\n",
       "      <td>the United Kingdom</td>\n",
       "      <td>1428415625</td>\n",
       "      <td>{\"id\":923770533,\"name\":\"Fiona Powell\",\"is_regi...</td>\n",
       "      <td>GBP</td>\n",
       "      <td>£</td>\n",
       "      <td>...</td>\n",
       "      <td>False</td>\n",
       "      <td>successful</td>\n",
       "      <td>1430946012</td>\n",
       "      <td>1.491538</td>\n",
       "      <td>{\"web\":{\"project\":\"https://www.kickstarter.com...</td>\n",
       "      <td>258.036032</td>\n",
       "      <td>international</td>\n",
       "      <td>NaN</td>\n",
       "      <td>art/performance art</td>\n",
       "      <td>Art</td>\n",
       "    </tr>\n",
       "    <tr>\n",
       "      <th>2</th>\n",
       "      <td>18</td>\n",
       "      <td>A sanctuary for humans and felines alike! Come...</td>\n",
       "      <td>{\"id\":314,\"name\":\"Spaces\",\"analytics_name\":\"Sp...</td>\n",
       "      <td>776</td>\n",
       "      <td>US</td>\n",
       "      <td>the United States</td>\n",
       "      <td>1445787145</td>\n",
       "      <td>{\"id\":920978851,\"name\":\"Tori\",\"is_registered\":...</td>\n",
       "      <td>USD</td>\n",
       "      <td>$</td>\n",
       "      <td>...</td>\n",
       "      <td>False</td>\n",
       "      <td>failed</td>\n",
       "      <td>1448555133</td>\n",
       "      <td>1.000000</td>\n",
       "      <td>{\"web\":{\"project\":\"https://www.kickstarter.com...</td>\n",
       "      <td>776.000000</td>\n",
       "      <td>international</td>\n",
       "      <td>NaN</td>\n",
       "      <td>food/spaces</td>\n",
       "      <td>Food</td>\n",
       "    </tr>\n",
       "    <tr>\n",
       "      <th>3</th>\n",
       "      <td>42</td>\n",
       "      <td>Taste Makers is a socially conscious brand tha...</td>\n",
       "      <td>{\"id\":269,\"name\":\"Ready-to-wear\",\"analytics_na...</td>\n",
       "      <td>2158</td>\n",
       "      <td>CA</td>\n",
       "      <td>Canada</td>\n",
       "      <td>1426394434</td>\n",
       "      <td>{\"id\":1827655104,\"name\":\"Taste Makers By Trish...</td>\n",
       "      <td>CAD</td>\n",
       "      <td>$</td>\n",
       "      <td>...</td>\n",
       "      <td>True</td>\n",
       "      <td>failed</td>\n",
       "      <td>1438280891</td>\n",
       "      <td>0.811910</td>\n",
       "      <td>{\"web\":{\"project\":\"https://www.kickstarter.com...</td>\n",
       "      <td>2271.723453</td>\n",
       "      <td>international</td>\n",
       "      <td>NaN</td>\n",
       "      <td>fashion/ready-to-wear</td>\n",
       "      <td>Fashion</td>\n",
       "    </tr>\n",
       "    <tr>\n",
       "      <th>4</th>\n",
       "      <td>3</td>\n",
       "      <td>All your herbal tea remedies here. From colds ...</td>\n",
       "      <td>{\"id\":307,\"name\":\"Drinks\",\"analytics_name\":\"Dr...</td>\n",
       "      <td>96</td>\n",
       "      <td>US</td>\n",
       "      <td>the United States</td>\n",
       "      <td>1534903328</td>\n",
       "      <td>{\"id\":160842473,\"name\":\"Vito Finazzo\",\"is_regi...</td>\n",
       "      <td>USD</td>\n",
       "      <td>$</td>\n",
       "      <td>...</td>\n",
       "      <td>False</td>\n",
       "      <td>failed</td>\n",
       "      <td>1540093916</td>\n",
       "      <td>1.000000</td>\n",
       "      <td>{\"web\":{\"project\":\"https://www.kickstarter.com...</td>\n",
       "      <td>96.000000</td>\n",
       "      <td>international</td>\n",
       "      <td>NaN</td>\n",
       "      <td>food/drinks</td>\n",
       "      <td>Food</td>\n",
       "    </tr>\n",
       "    <tr>\n",
       "      <th>...</th>\n",
       "      <td>...</td>\n",
       "      <td>...</td>\n",
       "      <td>...</td>\n",
       "      <td>...</td>\n",
       "      <td>...</td>\n",
       "      <td>...</td>\n",
       "      <td>...</td>\n",
       "      <td>...</td>\n",
       "      <td>...</td>\n",
       "      <td>...</td>\n",
       "      <td>...</td>\n",
       "      <td>...</td>\n",
       "      <td>...</td>\n",
       "      <td>...</td>\n",
       "      <td>...</td>\n",
       "      <td>...</td>\n",
       "      <td>...</td>\n",
       "      <td>...</td>\n",
       "      <td>...</td>\n",
       "      <td>...</td>\n",
       "      <td>...</td>\n",
       "    </tr>\n",
       "    <tr>\n",
       "      <th>202430</th>\n",
       "      <td>13</td>\n",
       "      <td>An oboe recital with music and photography to ...</td>\n",
       "      <td>{\"id\":36,\"name\":\"Classical Music\",\"analytics_n...</td>\n",
       "      <td>915</td>\n",
       "      <td>US</td>\n",
       "      <td>the United States</td>\n",
       "      <td>1375640768</td>\n",
       "      <td>{\"id\":1763180118,\"name\":\"Jennifer Stucki\",\"is_...</td>\n",
       "      <td>USD</td>\n",
       "      <td>$</td>\n",
       "      <td>...</td>\n",
       "      <td>False</td>\n",
       "      <td>successful</td>\n",
       "      <td>1379825940</td>\n",
       "      <td>1.000000</td>\n",
       "      <td>{\"web\":{\"project\":\"https://www.kickstarter.com...</td>\n",
       "      <td>915.000000</td>\n",
       "      <td>international</td>\n",
       "      <td>NaN</td>\n",
       "      <td>music/classical music</td>\n",
       "      <td>Music</td>\n",
       "    </tr>\n",
       "    <tr>\n",
       "      <th>202431</th>\n",
       "      <td>52</td>\n",
       "      <td>Growing fish and produce year round in the \"Po...</td>\n",
       "      <td>{\"id\":305,\"name\":\"Community Gardens\",\"analytic...</td>\n",
       "      <td>2460</td>\n",
       "      <td>CA</td>\n",
       "      <td>Canada</td>\n",
       "      <td>1419960769</td>\n",
       "      <td>{\"id\":1810768137,\"name\":\"Earl Decker\",\"is_regi...</td>\n",
       "      <td>CAD</td>\n",
       "      <td>$</td>\n",
       "      <td>...</td>\n",
       "      <td>False</td>\n",
       "      <td>failed</td>\n",
       "      <td>1423675583</td>\n",
       "      <td>0.860877</td>\n",
       "      <td>{\"web\":{\"project\":\"https://www.kickstarter.com...</td>\n",
       "      <td>2660.971116</td>\n",
       "      <td>international</td>\n",
       "      <td>NaN</td>\n",
       "      <td>food/community gardens</td>\n",
       "      <td>Food</td>\n",
       "    </tr>\n",
       "    <tr>\n",
       "      <th>202432</th>\n",
       "      <td>53</td>\n",
       "      <td>MOMENTS OF INSIGHT is a project consisting of ...</td>\n",
       "      <td>{\"id\":20,\"name\":\"Conceptual Art\",\"analytics_na...</td>\n",
       "      <td>18758</td>\n",
       "      <td>US</td>\n",
       "      <td>the United States</td>\n",
       "      <td>1303753700</td>\n",
       "      <td>{\"id\":1743305220,\"name\":\"Chaucer Silverson\",\"i...</td>\n",
       "      <td>USD</td>\n",
       "      <td>$</td>\n",
       "      <td>...</td>\n",
       "      <td>True</td>\n",
       "      <td>successful</td>\n",
       "      <td>1312432269</td>\n",
       "      <td>1.000000</td>\n",
       "      <td>{\"web\":{\"project\":\"https://www.kickstarter.com...</td>\n",
       "      <td>18758.000000</td>\n",
       "      <td>international</td>\n",
       "      <td>NaN</td>\n",
       "      <td>art/conceptual art</td>\n",
       "      <td>Art</td>\n",
       "    </tr>\n",
       "    <tr>\n",
       "      <th>202433</th>\n",
       "      <td>0</td>\n",
       "      <td>Would like to be able to photograph dream wedd...</td>\n",
       "      <td>{\"id\":276,\"name\":\"Fine Art\",\"analytics_name\":\"...</td>\n",
       "      <td>0</td>\n",
       "      <td>CA</td>\n",
       "      <td>Canada</td>\n",
       "      <td>1404849038</td>\n",
       "      <td>{\"id\":667466823,\"name\":\"Laura\",\"is_registered\"...</td>\n",
       "      <td>CAD</td>\n",
       "      <td>$</td>\n",
       "      <td>...</td>\n",
       "      <td>False</td>\n",
       "      <td>failed</td>\n",
       "      <td>1406215380</td>\n",
       "      <td>0.938523</td>\n",
       "      <td>{\"web\":{\"project\":\"https://www.kickstarter.com...</td>\n",
       "      <td>0.000000</td>\n",
       "      <td>international</td>\n",
       "      <td>NaN</td>\n",
       "      <td>photography/fine art</td>\n",
       "      <td>Photography</td>\n",
       "    </tr>\n",
       "    <tr>\n",
       "      <th>202434</th>\n",
       "      <td>2076</td>\n",
       "      <td>COLD, FRESH, &amp; CARBONATED wherever you go! Cas...</td>\n",
       "      <td>{\"id\":307,\"name\":\"Drinks\",\"analytics_name\":\"Dr...</td>\n",
       "      <td>304142</td>\n",
       "      <td>US</td>\n",
       "      <td>the United States</td>\n",
       "      <td>1417200147</td>\n",
       "      <td>{\"id\":584321487,\"name\":\"Drink Tanks\",\"is_regis...</td>\n",
       "      <td>USD</td>\n",
       "      <td>$</td>\n",
       "      <td>...</td>\n",
       "      <td>False</td>\n",
       "      <td>successful</td>\n",
       "      <td>1428631231</td>\n",
       "      <td>1.000000</td>\n",
       "      <td>{\"web\":{\"project\":\"https://www.kickstarter.com...</td>\n",
       "      <td>304142.000000</td>\n",
       "      <td>international</td>\n",
       "      <td>NaN</td>\n",
       "      <td>food/drinks</td>\n",
       "      <td>Food</td>\n",
       "    </tr>\n",
       "  </tbody>\n",
       "</table>\n",
       "<p>202435 rows × 41 columns</p>\n",
       "</div>"
      ],
      "text/plain": [
       "        backers_count                                              blurb  \\\n",
       "0                   4  Raising money to help my grandmother recover f...   \n",
       "1                  11  My work is performance based but I branch out ...   \n",
       "2                  18  A sanctuary for humans and felines alike! Come...   \n",
       "3                  42  Taste Makers is a socially conscious brand tha...   \n",
       "4                   3  All your herbal tea remedies here. From colds ...   \n",
       "...               ...                                                ...   \n",
       "202430             13  An oboe recital with music and photography to ...   \n",
       "202431             52  Growing fish and produce year round in the \"Po...   \n",
       "202432             53  MOMENTS OF INSIGHT is a project consisting of ...   \n",
       "202433              0  Would like to be able to photograph dream wedd...   \n",
       "202434           2076  COLD, FRESH, & CARBONATED wherever you go! Cas...   \n",
       "\n",
       "                                                 category  \\\n",
       "0       {\"id\":44,\"name\":\"World Music\",\"analytics_name\"...   \n",
       "1       {\"id\":24,\"name\":\"Performance Art\",\"analytics_n...   \n",
       "2       {\"id\":314,\"name\":\"Spaces\",\"analytics_name\":\"Sp...   \n",
       "3       {\"id\":269,\"name\":\"Ready-to-wear\",\"analytics_na...   \n",
       "4       {\"id\":307,\"name\":\"Drinks\",\"analytics_name\":\"Dr...   \n",
       "...                                                   ...   \n",
       "202430  {\"id\":36,\"name\":\"Classical Music\",\"analytics_n...   \n",
       "202431  {\"id\":305,\"name\":\"Community Gardens\",\"analytic...   \n",
       "202432  {\"id\":20,\"name\":\"Conceptual Art\",\"analytics_na...   \n",
       "202433  {\"id\":276,\"name\":\"Fine Art\",\"analytics_name\":\"...   \n",
       "202434  {\"id\":307,\"name\":\"Drinks\",\"analytics_name\":\"Dr...   \n",
       "\n",
       "        converted_pledged_amount country country_displayable_name  created_at  \\\n",
       "0                             62      US        the United States  1476879198   \n",
       "1                            262      GB       the United Kingdom  1428415625   \n",
       "2                            776      US        the United States  1445787145   \n",
       "3                           2158      CA                   Canada  1426394434   \n",
       "4                             96      US        the United States  1534903328   \n",
       "...                          ...     ...                      ...         ...   \n",
       "202430                       915      US        the United States  1375640768   \n",
       "202431                      2460      CA                   Canada  1419960769   \n",
       "202432                     18758      US        the United States  1303753700   \n",
       "202433                         0      CA                   Canada  1404849038   \n",
       "202434                    304142      US        the United States  1417200147   \n",
       "\n",
       "                                                  creator currency  \\\n",
       "0       {\"id\":1501687606,\"name\":\"Devan Porter\",\"is_reg...      USD   \n",
       "1       {\"id\":923770533,\"name\":\"Fiona Powell\",\"is_regi...      GBP   \n",
       "2       {\"id\":920978851,\"name\":\"Tori\",\"is_registered\":...      USD   \n",
       "3       {\"id\":1827655104,\"name\":\"Taste Makers By Trish...      CAD   \n",
       "4       {\"id\":160842473,\"name\":\"Vito Finazzo\",\"is_regi...      USD   \n",
       "...                                                   ...      ...   \n",
       "202430  {\"id\":1763180118,\"name\":\"Jennifer Stucki\",\"is_...      USD   \n",
       "202431  {\"id\":1810768137,\"name\":\"Earl Decker\",\"is_regi...      CAD   \n",
       "202432  {\"id\":1743305220,\"name\":\"Chaucer Silverson\",\"i...      USD   \n",
       "202433  {\"id\":667466823,\"name\":\"Laura\",\"is_registered\"...      CAD   \n",
       "202434  {\"id\":584321487,\"name\":\"Drink Tanks\",\"is_regis...      USD   \n",
       "\n",
       "       currency_symbol  ...  staff_pick       state  state_changed_at  \\\n",
       "0                    $  ...       False      failed        1479479560   \n",
       "1                    £  ...       False  successful        1430946012   \n",
       "2                    $  ...       False      failed        1448555133   \n",
       "3                    $  ...        True      failed        1438280891   \n",
       "4                    $  ...       False      failed        1540093916   \n",
       "...                ...  ...         ...         ...               ...   \n",
       "202430               $  ...       False  successful        1379825940   \n",
       "202431               $  ...       False      failed        1423675583   \n",
       "202432               $  ...        True  successful        1312432269   \n",
       "202433               $  ...       False      failed        1406215380   \n",
       "202434               $  ...       False  successful        1428631231   \n",
       "\n",
       "        static_usd_rate                                               urls  \\\n",
       "0              1.000000  {\"web\":{\"project\":\"https://www.kickstarter.com...   \n",
       "1              1.491538  {\"web\":{\"project\":\"https://www.kickstarter.com...   \n",
       "2              1.000000  {\"web\":{\"project\":\"https://www.kickstarter.com...   \n",
       "3              0.811910  {\"web\":{\"project\":\"https://www.kickstarter.com...   \n",
       "4              1.000000  {\"web\":{\"project\":\"https://www.kickstarter.com...   \n",
       "...                 ...                                                ...   \n",
       "202430         1.000000  {\"web\":{\"project\":\"https://www.kickstarter.com...   \n",
       "202431         0.860877  {\"web\":{\"project\":\"https://www.kickstarter.com...   \n",
       "202432         1.000000  {\"web\":{\"project\":\"https://www.kickstarter.com...   \n",
       "202433         0.938523  {\"web\":{\"project\":\"https://www.kickstarter.com...   \n",
       "202434         1.000000  {\"web\":{\"project\":\"https://www.kickstarter.com...   \n",
       "\n",
       "          usd_pledged       usd_type  usd_exchange_rate  \\\n",
       "0           62.000000  international                NaN   \n",
       "1          258.036032  international                NaN   \n",
       "2          776.000000  international                NaN   \n",
       "3         2271.723453  international                NaN   \n",
       "4           96.000000  international                NaN   \n",
       "...               ...            ...                ...   \n",
       "202430     915.000000  international                NaN   \n",
       "202431    2660.971116  international                NaN   \n",
       "202432   18758.000000  international                NaN   \n",
       "202433       0.000000  international                NaN   \n",
       "202434  304142.000000  international                NaN   \n",
       "\n",
       "                 category_slug  category_parent_name  \n",
       "0            music/world music                 Music  \n",
       "1          art/performance art                   Art  \n",
       "2                  food/spaces                  Food  \n",
       "3        fashion/ready-to-wear               Fashion  \n",
       "4                  food/drinks                  Food  \n",
       "...                        ...                   ...  \n",
       "202430   music/classical music                 Music  \n",
       "202431  food/community gardens                  Food  \n",
       "202432      art/conceptual art                   Art  \n",
       "202433    photography/fine art           Photography  \n",
       "202434             food/drinks                  Food  \n",
       "\n",
       "[202435 rows x 41 columns]"
      ]
     },
     "execution_count": 8,
     "metadata": {},
     "output_type": "execute_result"
    }
   ],
   "source": [
    "from src.math_functions import get_category_data\n",
    "\n",
    "get_category_data('category', df)"
   ]
  },
  {
   "cell_type": "markdown",
   "metadata": {},
   "source": [
    "### convert timestamps"
   ]
  },
  {
   "cell_type": "code",
   "execution_count": 10,
   "metadata": {},
   "outputs": [
    {
     "data": {
      "text/html": [
       "<div>\n",
       "<style scoped>\n",
       "    .dataframe tbody tr th:only-of-type {\n",
       "        vertical-align: middle;\n",
       "    }\n",
       "\n",
       "    .dataframe tbody tr th {\n",
       "        vertical-align: top;\n",
       "    }\n",
       "\n",
       "    .dataframe thead th {\n",
       "        text-align: right;\n",
       "    }\n",
       "</style>\n",
       "<table border=\"1\" class=\"dataframe\">\n",
       "  <thead>\n",
       "    <tr style=\"text-align: right;\">\n",
       "      <th></th>\n",
       "      <th>backers_count</th>\n",
       "      <th>blurb</th>\n",
       "      <th>category</th>\n",
       "      <th>converted_pledged_amount</th>\n",
       "      <th>country</th>\n",
       "      <th>country_displayable_name</th>\n",
       "      <th>created_at</th>\n",
       "      <th>creator</th>\n",
       "      <th>currency</th>\n",
       "      <th>currency_symbol</th>\n",
       "      <th>...</th>\n",
       "      <th>category_parent_name</th>\n",
       "      <th>created_at_date</th>\n",
       "      <th>created_at_time</th>\n",
       "      <th>created_at_weekday</th>\n",
       "      <th>launched_at_date</th>\n",
       "      <th>launched_at_time</th>\n",
       "      <th>launched_at_weekday</th>\n",
       "      <th>deadline_date</th>\n",
       "      <th>deadline_time</th>\n",
       "      <th>deadline_weekday</th>\n",
       "    </tr>\n",
       "  </thead>\n",
       "  <tbody>\n",
       "    <tr>\n",
       "      <th>0</th>\n",
       "      <td>4</td>\n",
       "      <td>Raising money to help my grandmother recover f...</td>\n",
       "      <td>{\"id\":44,\"name\":\"World Music\",\"analytics_name\"...</td>\n",
       "      <td>62</td>\n",
       "      <td>US</td>\n",
       "      <td>the United States</td>\n",
       "      <td>1476879198</td>\n",
       "      <td>{\"id\":1501687606,\"name\":\"Devan Porter\",\"is_reg...</td>\n",
       "      <td>USD</td>\n",
       "      <td>$</td>\n",
       "      <td>...</td>\n",
       "      <td>Music</td>\n",
       "      <td>2016-10-19</td>\n",
       "      <td>14:13:18</td>\n",
       "      <td>Wednesday</td>\n",
       "      <td>2016-10-19</td>\n",
       "      <td>15:32:40</td>\n",
       "      <td>Wednesday</td>\n",
       "      <td>2016-11-18</td>\n",
       "      <td>15:32:40</td>\n",
       "      <td>Friday</td>\n",
       "    </tr>\n",
       "    <tr>\n",
       "      <th>1</th>\n",
       "      <td>11</td>\n",
       "      <td>My work is performance based but I branch out ...</td>\n",
       "      <td>{\"id\":24,\"name\":\"Performance Art\",\"analytics_n...</td>\n",
       "      <td>262</td>\n",
       "      <td>GB</td>\n",
       "      <td>the United Kingdom</td>\n",
       "      <td>1428415625</td>\n",
       "      <td>{\"id\":923770533,\"name\":\"Fiona Powell\",\"is_regi...</td>\n",
       "      <td>GBP</td>\n",
       "      <td>£</td>\n",
       "      <td>...</td>\n",
       "      <td>Art</td>\n",
       "      <td>2015-04-07</td>\n",
       "      <td>16:07:05</td>\n",
       "      <td>Tuesday</td>\n",
       "      <td>2015-04-08</td>\n",
       "      <td>00:37:44</td>\n",
       "      <td>Wednesday</td>\n",
       "      <td>2015-05-06</td>\n",
       "      <td>23:00:00</td>\n",
       "      <td>Wednesday</td>\n",
       "    </tr>\n",
       "    <tr>\n",
       "      <th>2</th>\n",
       "      <td>18</td>\n",
       "      <td>A sanctuary for humans and felines alike! Come...</td>\n",
       "      <td>{\"id\":314,\"name\":\"Spaces\",\"analytics_name\":\"Sp...</td>\n",
       "      <td>776</td>\n",
       "      <td>US</td>\n",
       "      <td>the United States</td>\n",
       "      <td>1445787145</td>\n",
       "      <td>{\"id\":920978851,\"name\":\"Tori\",\"is_registered\":...</td>\n",
       "      <td>USD</td>\n",
       "      <td>$</td>\n",
       "      <td>...</td>\n",
       "      <td>Food</td>\n",
       "      <td>2015-10-25</td>\n",
       "      <td>16:32:25</td>\n",
       "      <td>Sunday</td>\n",
       "      <td>2015-10-27</td>\n",
       "      <td>16:25:33</td>\n",
       "      <td>Tuesday</td>\n",
       "      <td>2015-11-26</td>\n",
       "      <td>17:25:33</td>\n",
       "      <td>Thursday</td>\n",
       "    </tr>\n",
       "    <tr>\n",
       "      <th>3</th>\n",
       "      <td>42</td>\n",
       "      <td>Taste Makers is a socially conscious brand tha...</td>\n",
       "      <td>{\"id\":269,\"name\":\"Ready-to-wear\",\"analytics_na...</td>\n",
       "      <td>2158</td>\n",
       "      <td>CA</td>\n",
       "      <td>Canada</td>\n",
       "      <td>1426394434</td>\n",
       "      <td>{\"id\":1827655104,\"name\":\"Taste Makers By Trish...</td>\n",
       "      <td>CAD</td>\n",
       "      <td>$</td>\n",
       "      <td>...</td>\n",
       "      <td>Fashion</td>\n",
       "      <td>2015-03-15</td>\n",
       "      <td>05:40:34</td>\n",
       "      <td>Sunday</td>\n",
       "      <td>2015-06-15</td>\n",
       "      <td>20:28:11</td>\n",
       "      <td>Monday</td>\n",
       "      <td>2015-07-30</td>\n",
       "      <td>20:28:11</td>\n",
       "      <td>Thursday</td>\n",
       "    </tr>\n",
       "    <tr>\n",
       "      <th>4</th>\n",
       "      <td>3</td>\n",
       "      <td>All your herbal tea remedies here. From colds ...</td>\n",
       "      <td>{\"id\":307,\"name\":\"Drinks\",\"analytics_name\":\"Dr...</td>\n",
       "      <td>96</td>\n",
       "      <td>US</td>\n",
       "      <td>the United States</td>\n",
       "      <td>1534903328</td>\n",
       "      <td>{\"id\":160842473,\"name\":\"Vito Finazzo\",\"is_regi...</td>\n",
       "      <td>USD</td>\n",
       "      <td>$</td>\n",
       "      <td>...</td>\n",
       "      <td>Food</td>\n",
       "      <td>2018-08-22</td>\n",
       "      <td>04:02:08</td>\n",
       "      <td>Wednesday</td>\n",
       "      <td>2018-08-22</td>\n",
       "      <td>05:51:56</td>\n",
       "      <td>Wednesday</td>\n",
       "      <td>2018-10-21</td>\n",
       "      <td>05:51:56</td>\n",
       "      <td>Sunday</td>\n",
       "    </tr>\n",
       "    <tr>\n",
       "      <th>...</th>\n",
       "      <td>...</td>\n",
       "      <td>...</td>\n",
       "      <td>...</td>\n",
       "      <td>...</td>\n",
       "      <td>...</td>\n",
       "      <td>...</td>\n",
       "      <td>...</td>\n",
       "      <td>...</td>\n",
       "      <td>...</td>\n",
       "      <td>...</td>\n",
       "      <td>...</td>\n",
       "      <td>...</td>\n",
       "      <td>...</td>\n",
       "      <td>...</td>\n",
       "      <td>...</td>\n",
       "      <td>...</td>\n",
       "      <td>...</td>\n",
       "      <td>...</td>\n",
       "      <td>...</td>\n",
       "      <td>...</td>\n",
       "      <td>...</td>\n",
       "    </tr>\n",
       "    <tr>\n",
       "      <th>202430</th>\n",
       "      <td>13</td>\n",
       "      <td>An oboe recital with music and photography to ...</td>\n",
       "      <td>{\"id\":36,\"name\":\"Classical Music\",\"analytics_n...</td>\n",
       "      <td>915</td>\n",
       "      <td>US</td>\n",
       "      <td>the United States</td>\n",
       "      <td>1375640768</td>\n",
       "      <td>{\"id\":1763180118,\"name\":\"Jennifer Stucki\",\"is_...</td>\n",
       "      <td>USD</td>\n",
       "      <td>$</td>\n",
       "      <td>...</td>\n",
       "      <td>Music</td>\n",
       "      <td>2013-08-04</td>\n",
       "      <td>20:26:08</td>\n",
       "      <td>Sunday</td>\n",
       "      <td>2013-08-13</td>\n",
       "      <td>21:22:35</td>\n",
       "      <td>Tuesday</td>\n",
       "      <td>2013-09-22</td>\n",
       "      <td>06:59:00</td>\n",
       "      <td>Sunday</td>\n",
       "    </tr>\n",
       "    <tr>\n",
       "      <th>202431</th>\n",
       "      <td>52</td>\n",
       "      <td>Growing fish and produce year round in the \"Po...</td>\n",
       "      <td>{\"id\":305,\"name\":\"Community Gardens\",\"analytic...</td>\n",
       "      <td>2460</td>\n",
       "      <td>CA</td>\n",
       "      <td>Canada</td>\n",
       "      <td>1419960769</td>\n",
       "      <td>{\"id\":1810768137,\"name\":\"Earl Decker\",\"is_regi...</td>\n",
       "      <td>CAD</td>\n",
       "      <td>$</td>\n",
       "      <td>...</td>\n",
       "      <td>Food</td>\n",
       "      <td>2014-12-30</td>\n",
       "      <td>18:32:49</td>\n",
       "      <td>Tuesday</td>\n",
       "      <td>2015-01-02</td>\n",
       "      <td>18:26:23</td>\n",
       "      <td>Friday</td>\n",
       "      <td>2015-02-11</td>\n",
       "      <td>18:26:23</td>\n",
       "      <td>Wednesday</td>\n",
       "    </tr>\n",
       "    <tr>\n",
       "      <th>202432</th>\n",
       "      <td>53</td>\n",
       "      <td>MOMENTS OF INSIGHT is a project consisting of ...</td>\n",
       "      <td>{\"id\":20,\"name\":\"Conceptual Art\",\"analytics_na...</td>\n",
       "      <td>18758</td>\n",
       "      <td>US</td>\n",
       "      <td>the United States</td>\n",
       "      <td>1303753700</td>\n",
       "      <td>{\"id\":1743305220,\"name\":\"Chaucer Silverson\",\"i...</td>\n",
       "      <td>USD</td>\n",
       "      <td>$</td>\n",
       "      <td>...</td>\n",
       "      <td>Art</td>\n",
       "      <td>2011-04-25</td>\n",
       "      <td>19:48:20</td>\n",
       "      <td>Monday</td>\n",
       "      <td>2011-06-24</td>\n",
       "      <td>21:29:15</td>\n",
       "      <td>Friday</td>\n",
       "      <td>2011-08-04</td>\n",
       "      <td>06:30:00</td>\n",
       "      <td>Thursday</td>\n",
       "    </tr>\n",
       "    <tr>\n",
       "      <th>202433</th>\n",
       "      <td>0</td>\n",
       "      <td>Would like to be able to photograph dream wedd...</td>\n",
       "      <td>{\"id\":276,\"name\":\"Fine Art\",\"analytics_name\":\"...</td>\n",
       "      <td>0</td>\n",
       "      <td>CA</td>\n",
       "      <td>Canada</td>\n",
       "      <td>1404849038</td>\n",
       "      <td>{\"id\":667466823,\"name\":\"Laura\",\"is_registered\"...</td>\n",
       "      <td>CAD</td>\n",
       "      <td>$</td>\n",
       "      <td>...</td>\n",
       "      <td>Photography</td>\n",
       "      <td>2014-07-08</td>\n",
       "      <td>21:50:38</td>\n",
       "      <td>Tuesday</td>\n",
       "      <td>2014-07-11</td>\n",
       "      <td>20:56:05</td>\n",
       "      <td>Friday</td>\n",
       "      <td>2014-07-24</td>\n",
       "      <td>17:23:00</td>\n",
       "      <td>Thursday</td>\n",
       "    </tr>\n",
       "    <tr>\n",
       "      <th>202434</th>\n",
       "      <td>2076</td>\n",
       "      <td>COLD, FRESH, &amp; CARBONATED wherever you go! Cas...</td>\n",
       "      <td>{\"id\":307,\"name\":\"Drinks\",\"analytics_name\":\"Dr...</td>\n",
       "      <td>304142</td>\n",
       "      <td>US</td>\n",
       "      <td>the United States</td>\n",
       "      <td>1417200147</td>\n",
       "      <td>{\"id\":584321487,\"name\":\"Drink Tanks\",\"is_regis...</td>\n",
       "      <td>USD</td>\n",
       "      <td>$</td>\n",
       "      <td>...</td>\n",
       "      <td>Food</td>\n",
       "      <td>2014-11-28</td>\n",
       "      <td>19:42:27</td>\n",
       "      <td>Friday</td>\n",
       "      <td>2015-03-02</td>\n",
       "      <td>16:14:38</td>\n",
       "      <td>Monday</td>\n",
       "      <td>2015-04-10</td>\n",
       "      <td>04:00:00</td>\n",
       "      <td>Friday</td>\n",
       "    </tr>\n",
       "  </tbody>\n",
       "</table>\n",
       "<p>202435 rows × 50 columns</p>\n",
       "</div>"
      ],
      "text/plain": [
       "        backers_count                                              blurb  \\\n",
       "0                   4  Raising money to help my grandmother recover f...   \n",
       "1                  11  My work is performance based but I branch out ...   \n",
       "2                  18  A sanctuary for humans and felines alike! Come...   \n",
       "3                  42  Taste Makers is a socially conscious brand tha...   \n",
       "4                   3  All your herbal tea remedies here. From colds ...   \n",
       "...               ...                                                ...   \n",
       "202430             13  An oboe recital with music and photography to ...   \n",
       "202431             52  Growing fish and produce year round in the \"Po...   \n",
       "202432             53  MOMENTS OF INSIGHT is a project consisting of ...   \n",
       "202433              0  Would like to be able to photograph dream wedd...   \n",
       "202434           2076  COLD, FRESH, & CARBONATED wherever you go! Cas...   \n",
       "\n",
       "                                                 category  \\\n",
       "0       {\"id\":44,\"name\":\"World Music\",\"analytics_name\"...   \n",
       "1       {\"id\":24,\"name\":\"Performance Art\",\"analytics_n...   \n",
       "2       {\"id\":314,\"name\":\"Spaces\",\"analytics_name\":\"Sp...   \n",
       "3       {\"id\":269,\"name\":\"Ready-to-wear\",\"analytics_na...   \n",
       "4       {\"id\":307,\"name\":\"Drinks\",\"analytics_name\":\"Dr...   \n",
       "...                                                   ...   \n",
       "202430  {\"id\":36,\"name\":\"Classical Music\",\"analytics_n...   \n",
       "202431  {\"id\":305,\"name\":\"Community Gardens\",\"analytic...   \n",
       "202432  {\"id\":20,\"name\":\"Conceptual Art\",\"analytics_na...   \n",
       "202433  {\"id\":276,\"name\":\"Fine Art\",\"analytics_name\":\"...   \n",
       "202434  {\"id\":307,\"name\":\"Drinks\",\"analytics_name\":\"Dr...   \n",
       "\n",
       "        converted_pledged_amount country country_displayable_name  created_at  \\\n",
       "0                             62      US        the United States  1476879198   \n",
       "1                            262      GB       the United Kingdom  1428415625   \n",
       "2                            776      US        the United States  1445787145   \n",
       "3                           2158      CA                   Canada  1426394434   \n",
       "4                             96      US        the United States  1534903328   \n",
       "...                          ...     ...                      ...         ...   \n",
       "202430                       915      US        the United States  1375640768   \n",
       "202431                      2460      CA                   Canada  1419960769   \n",
       "202432                     18758      US        the United States  1303753700   \n",
       "202433                         0      CA                   Canada  1404849038   \n",
       "202434                    304142      US        the United States  1417200147   \n",
       "\n",
       "                                                  creator currency  \\\n",
       "0       {\"id\":1501687606,\"name\":\"Devan Porter\",\"is_reg...      USD   \n",
       "1       {\"id\":923770533,\"name\":\"Fiona Powell\",\"is_regi...      GBP   \n",
       "2       {\"id\":920978851,\"name\":\"Tori\",\"is_registered\":...      USD   \n",
       "3       {\"id\":1827655104,\"name\":\"Taste Makers By Trish...      CAD   \n",
       "4       {\"id\":160842473,\"name\":\"Vito Finazzo\",\"is_regi...      USD   \n",
       "...                                                   ...      ...   \n",
       "202430  {\"id\":1763180118,\"name\":\"Jennifer Stucki\",\"is_...      USD   \n",
       "202431  {\"id\":1810768137,\"name\":\"Earl Decker\",\"is_regi...      CAD   \n",
       "202432  {\"id\":1743305220,\"name\":\"Chaucer Silverson\",\"i...      USD   \n",
       "202433  {\"id\":667466823,\"name\":\"Laura\",\"is_registered\"...      CAD   \n",
       "202434  {\"id\":584321487,\"name\":\"Drink Tanks\",\"is_regis...      USD   \n",
       "\n",
       "       currency_symbol  ...  category_parent_name created_at_date  \\\n",
       "0                    $  ...                 Music      2016-10-19   \n",
       "1                    £  ...                   Art      2015-04-07   \n",
       "2                    $  ...                  Food      2015-10-25   \n",
       "3                    $  ...               Fashion      2015-03-15   \n",
       "4                    $  ...                  Food      2018-08-22   \n",
       "...                ...  ...                   ...             ...   \n",
       "202430               $  ...                 Music      2013-08-04   \n",
       "202431               $  ...                  Food      2014-12-30   \n",
       "202432               $  ...                   Art      2011-04-25   \n",
       "202433               $  ...           Photography      2014-07-08   \n",
       "202434               $  ...                  Food      2014-11-28   \n",
       "\n",
       "        created_at_time  created_at_weekday launched_at_date  \\\n",
       "0              14:13:18           Wednesday       2016-10-19   \n",
       "1              16:07:05             Tuesday       2015-04-08   \n",
       "2              16:32:25              Sunday       2015-10-27   \n",
       "3              05:40:34              Sunday       2015-06-15   \n",
       "4              04:02:08           Wednesday       2018-08-22   \n",
       "...                 ...                 ...              ...   \n",
       "202430         20:26:08              Sunday       2013-08-13   \n",
       "202431         18:32:49             Tuesday       2015-01-02   \n",
       "202432         19:48:20              Monday       2011-06-24   \n",
       "202433         21:50:38             Tuesday       2014-07-11   \n",
       "202434         19:42:27              Friday       2015-03-02   \n",
       "\n",
       "        launched_at_time  launched_at_weekday  deadline_date deadline_time  \\\n",
       "0               15:32:40            Wednesday     2016-11-18      15:32:40   \n",
       "1               00:37:44            Wednesday     2015-05-06      23:00:00   \n",
       "2               16:25:33              Tuesday     2015-11-26      17:25:33   \n",
       "3               20:28:11               Monday     2015-07-30      20:28:11   \n",
       "4               05:51:56            Wednesday     2018-10-21      05:51:56   \n",
       "...                  ...                  ...            ...           ...   \n",
       "202430          21:22:35              Tuesday     2013-09-22      06:59:00   \n",
       "202431          18:26:23               Friday     2015-02-11      18:26:23   \n",
       "202432          21:29:15               Friday     2011-08-04      06:30:00   \n",
       "202433          20:56:05               Friday     2014-07-24      17:23:00   \n",
       "202434          16:14:38               Monday     2015-04-10      04:00:00   \n",
       "\n",
       "        deadline_weekday  \n",
       "0                 Friday  \n",
       "1              Wednesday  \n",
       "2               Thursday  \n",
       "3               Thursday  \n",
       "4                 Sunday  \n",
       "...                  ...  \n",
       "202430            Sunday  \n",
       "202431         Wednesday  \n",
       "202432          Thursday  \n",
       "202433          Thursday  \n",
       "202434            Friday  \n",
       "\n",
       "[202435 rows x 50 columns]"
      ]
     },
     "execution_count": 10,
     "metadata": {},
     "output_type": "execute_result"
    }
   ],
   "source": [
    "from src.math_functions import get_data_from_timestamp\n",
    "\n",
    "get_data_from_timestamp('created_at', df)\n",
    "get_data_from_timestamp('launched_at', df)\n",
    "get_data_from_timestamp('deadline', df)"
   ]
  },
  {
   "cell_type": "markdown",
   "metadata": {},
   "source": [
    "### add project duration column"
   ]
  },
  {
   "cell_type": "code",
   "execution_count": 12,
   "metadata": {},
   "outputs": [],
   "source": [
    "# time between deadline and launched\n",
    "\n",
    "project_duration = []\n",
    "\n",
    "for i,j in zip(df.deadline, df.launched_at):\n",
    "    a = ((i - j) / 60 / 60 / 24)\n",
    "    project_duration.append(a)\n",
    "    \n",
    "df['project_duration'] = project_duration"
   ]
  },
  {
   "cell_type": "markdown",
   "metadata": {},
   "source": [
    "### define target column"
   ]
  },
  {
   "cell_type": "markdown",
   "metadata": {},
   "source": [
    "The target for this analysis is going to be wether or not a project will be successfully funded or not. This information is currently stored in the state column. So I will start by looking at the unique values in the state column."
   ]
  },
  {
   "cell_type": "code",
   "execution_count": 13,
   "metadata": {},
   "outputs": [
    {
     "data": {
      "text/plain": [
       "successful    108652\n",
       "failed         75902\n",
       "canceled        9370\n",
       "live            8511\n",
       "Name: state, dtype: int64"
      ]
     },
     "execution_count": 13,
     "metadata": {},
     "output_type": "execute_result"
    }
   ],
   "source": [
    "df['state'].value_counts()"
   ]
  },
  {
   "cell_type": "markdown",
   "metadata": {},
   "source": [
    "There are 4 different unique values 'successful', 'failed', 'canceled', 'live'. I definetly don't want to include the projects that are still 'live' and I don't know the reason why projects have been 'canceled'. I will therefore only keep the 'successful' and 'failed' projects."
   ]
  },
  {
   "cell_type": "code",
   "execution_count": 14,
   "metadata": {},
   "outputs": [],
   "source": [
    "df = df[(df['state']=='successful') | (df['state']=='failed')]"
   ]
  },
  {
   "cell_type": "code",
   "execution_count": 15,
   "metadata": {},
   "outputs": [
    {
     "data": {
      "text/plain": [
       "successful    108652\n",
       "failed         75902\n",
       "Name: state, dtype: int64"
      ]
     },
     "execution_count": 15,
     "metadata": {},
     "output_type": "execute_result"
    }
   ],
   "source": [
    "df['state'].value_counts()"
   ]
  },
  {
   "cell_type": "markdown",
   "metadata": {},
   "source": [
    "### extract language/text information"
   ]
  },
  {
   "cell_type": "markdown",
   "metadata": {},
   "source": [
    "#### remove digits from blurb and name"
   ]
  },
  {
   "cell_type": "code",
   "execution_count": 17,
   "metadata": {},
   "outputs": [],
   "source": [
    "df.blurb = df.blurb.str.replace('\\d+', '')"
   ]
  },
  {
   "cell_type": "code",
   "execution_count": 18,
   "metadata": {},
   "outputs": [],
   "source": [
    "df.name = df.name.str.replace('\\d+', '')"
   ]
  },
  {
   "cell_type": "markdown",
   "metadata": {},
   "source": [
    "#### add language column"
   ]
  },
  {
   "cell_type": "code",
   "execution_count": 20,
   "metadata": {},
   "outputs": [
    {
     "data": {
      "text/html": [
       "<div>\n",
       "<style scoped>\n",
       "    .dataframe tbody tr th:only-of-type {\n",
       "        vertical-align: middle;\n",
       "    }\n",
       "\n",
       "    .dataframe tbody tr th {\n",
       "        vertical-align: top;\n",
       "    }\n",
       "\n",
       "    .dataframe thead th {\n",
       "        text-align: right;\n",
       "    }\n",
       "</style>\n",
       "<table border=\"1\" class=\"dataframe\">\n",
       "  <thead>\n",
       "    <tr style=\"text-align: right;\">\n",
       "      <th></th>\n",
       "      <th>backers_count</th>\n",
       "      <th>blurb</th>\n",
       "      <th>category</th>\n",
       "      <th>converted_pledged_amount</th>\n",
       "      <th>country</th>\n",
       "      <th>country_displayable_name</th>\n",
       "      <th>created_at</th>\n",
       "      <th>creator</th>\n",
       "      <th>currency</th>\n",
       "      <th>currency_symbol</th>\n",
       "      <th>...</th>\n",
       "      <th>created_at_weekday</th>\n",
       "      <th>launched_at_date</th>\n",
       "      <th>launched_at_time</th>\n",
       "      <th>launched_at_weekday</th>\n",
       "      <th>deadline_date</th>\n",
       "      <th>deadline_time</th>\n",
       "      <th>deadline_weekday</th>\n",
       "      <th>project_duration</th>\n",
       "      <th>blurb_language</th>\n",
       "      <th>name_language</th>\n",
       "    </tr>\n",
       "  </thead>\n",
       "  <tbody>\n",
       "    <tr>\n",
       "      <th>0</th>\n",
       "      <td>4</td>\n",
       "      <td>Raising money to help my grandmother recover f...</td>\n",
       "      <td>{\"id\":44,\"name\":\"World Music\",\"analytics_name\"...</td>\n",
       "      <td>62</td>\n",
       "      <td>US</td>\n",
       "      <td>the United States</td>\n",
       "      <td>1476879198</td>\n",
       "      <td>{\"id\":1501687606,\"name\":\"Devan Porter\",\"is_reg...</td>\n",
       "      <td>USD</td>\n",
       "      <td>$</td>\n",
       "      <td>...</td>\n",
       "      <td>Wednesday</td>\n",
       "      <td>2016-10-19</td>\n",
       "      <td>15:32:40</td>\n",
       "      <td>Wednesday</td>\n",
       "      <td>2016-11-18</td>\n",
       "      <td>15:32:40</td>\n",
       "      <td>Friday</td>\n",
       "      <td>30.041667</td>\n",
       "      <td>en</td>\n",
       "      <td>en</td>\n",
       "    </tr>\n",
       "    <tr>\n",
       "      <th>1</th>\n",
       "      <td>11</td>\n",
       "      <td>My work is performance based but I branch out ...</td>\n",
       "      <td>{\"id\":24,\"name\":\"Performance Art\",\"analytics_n...</td>\n",
       "      <td>262</td>\n",
       "      <td>GB</td>\n",
       "      <td>the United Kingdom</td>\n",
       "      <td>1428415625</td>\n",
       "      <td>{\"id\":923770533,\"name\":\"Fiona Powell\",\"is_regi...</td>\n",
       "      <td>GBP</td>\n",
       "      <td>£</td>\n",
       "      <td>...</td>\n",
       "      <td>Tuesday</td>\n",
       "      <td>2015-04-08</td>\n",
       "      <td>00:37:44</td>\n",
       "      <td>Wednesday</td>\n",
       "      <td>2015-05-06</td>\n",
       "      <td>23:00:00</td>\n",
       "      <td>Wednesday</td>\n",
       "      <td>28.932130</td>\n",
       "      <td>en</td>\n",
       "      <td>en</td>\n",
       "    </tr>\n",
       "    <tr>\n",
       "      <th>2</th>\n",
       "      <td>18</td>\n",
       "      <td>A sanctuary for humans and felines alike! Come...</td>\n",
       "      <td>{\"id\":314,\"name\":\"Spaces\",\"analytics_name\":\"Sp...</td>\n",
       "      <td>776</td>\n",
       "      <td>US</td>\n",
       "      <td>the United States</td>\n",
       "      <td>1445787145</td>\n",
       "      <td>{\"id\":920978851,\"name\":\"Tori\",\"is_registered\":...</td>\n",
       "      <td>USD</td>\n",
       "      <td>$</td>\n",
       "      <td>...</td>\n",
       "      <td>Sunday</td>\n",
       "      <td>2015-10-27</td>\n",
       "      <td>16:25:33</td>\n",
       "      <td>Tuesday</td>\n",
       "      <td>2015-11-26</td>\n",
       "      <td>17:25:33</td>\n",
       "      <td>Thursday</td>\n",
       "      <td>30.041667</td>\n",
       "      <td>en</td>\n",
       "      <td>en</td>\n",
       "    </tr>\n",
       "    <tr>\n",
       "      <th>3</th>\n",
       "      <td>42</td>\n",
       "      <td>Taste Makers is a socially conscious brand tha...</td>\n",
       "      <td>{\"id\":269,\"name\":\"Ready-to-wear\",\"analytics_na...</td>\n",
       "      <td>2158</td>\n",
       "      <td>CA</td>\n",
       "      <td>Canada</td>\n",
       "      <td>1426394434</td>\n",
       "      <td>{\"id\":1827655104,\"name\":\"Taste Makers By Trish...</td>\n",
       "      <td>CAD</td>\n",
       "      <td>$</td>\n",
       "      <td>...</td>\n",
       "      <td>Sunday</td>\n",
       "      <td>2015-06-15</td>\n",
       "      <td>20:28:11</td>\n",
       "      <td>Monday</td>\n",
       "      <td>2015-07-30</td>\n",
       "      <td>20:28:11</td>\n",
       "      <td>Thursday</td>\n",
       "      <td>45.000000</td>\n",
       "      <td>en</td>\n",
       "      <td>en</td>\n",
       "    </tr>\n",
       "    <tr>\n",
       "      <th>4</th>\n",
       "      <td>3</td>\n",
       "      <td>All your herbal tea remedies here. From colds ...</td>\n",
       "      <td>{\"id\":307,\"name\":\"Drinks\",\"analytics_name\":\"Dr...</td>\n",
       "      <td>96</td>\n",
       "      <td>US</td>\n",
       "      <td>the United States</td>\n",
       "      <td>1534903328</td>\n",
       "      <td>{\"id\":160842473,\"name\":\"Vito Finazzo\",\"is_regi...</td>\n",
       "      <td>USD</td>\n",
       "      <td>$</td>\n",
       "      <td>...</td>\n",
       "      <td>Wednesday</td>\n",
       "      <td>2018-08-22</td>\n",
       "      <td>05:51:56</td>\n",
       "      <td>Wednesday</td>\n",
       "      <td>2018-10-21</td>\n",
       "      <td>05:51:56</td>\n",
       "      <td>Sunday</td>\n",
       "      <td>60.000000</td>\n",
       "      <td>en</td>\n",
       "      <td>en</td>\n",
       "    </tr>\n",
       "    <tr>\n",
       "      <th>...</th>\n",
       "      <td>...</td>\n",
       "      <td>...</td>\n",
       "      <td>...</td>\n",
       "      <td>...</td>\n",
       "      <td>...</td>\n",
       "      <td>...</td>\n",
       "      <td>...</td>\n",
       "      <td>...</td>\n",
       "      <td>...</td>\n",
       "      <td>...</td>\n",
       "      <td>...</td>\n",
       "      <td>...</td>\n",
       "      <td>...</td>\n",
       "      <td>...</td>\n",
       "      <td>...</td>\n",
       "      <td>...</td>\n",
       "      <td>...</td>\n",
       "      <td>...</td>\n",
       "      <td>...</td>\n",
       "      <td>...</td>\n",
       "      <td>...</td>\n",
       "    </tr>\n",
       "    <tr>\n",
       "      <th>202430</th>\n",
       "      <td>13</td>\n",
       "      <td>An oboe recital with music and photography to ...</td>\n",
       "      <td>{\"id\":36,\"name\":\"Classical Music\",\"analytics_n...</td>\n",
       "      <td>915</td>\n",
       "      <td>US</td>\n",
       "      <td>the United States</td>\n",
       "      <td>1375640768</td>\n",
       "      <td>{\"id\":1763180118,\"name\":\"Jennifer Stucki\",\"is_...</td>\n",
       "      <td>USD</td>\n",
       "      <td>$</td>\n",
       "      <td>...</td>\n",
       "      <td>Sunday</td>\n",
       "      <td>2013-08-13</td>\n",
       "      <td>21:22:35</td>\n",
       "      <td>Tuesday</td>\n",
       "      <td>2013-09-22</td>\n",
       "      <td>06:59:00</td>\n",
       "      <td>Sunday</td>\n",
       "      <td>39.400289</td>\n",
       "      <td>en</td>\n",
       "      <td>en</td>\n",
       "    </tr>\n",
       "    <tr>\n",
       "      <th>202431</th>\n",
       "      <td>52</td>\n",
       "      <td>Growing fish and produce year round in the \"Po...</td>\n",
       "      <td>{\"id\":305,\"name\":\"Community Gardens\",\"analytic...</td>\n",
       "      <td>2460</td>\n",
       "      <td>CA</td>\n",
       "      <td>Canada</td>\n",
       "      <td>1419960769</td>\n",
       "      <td>{\"id\":1810768137,\"name\":\"Earl Decker\",\"is_regi...</td>\n",
       "      <td>CAD</td>\n",
       "      <td>$</td>\n",
       "      <td>...</td>\n",
       "      <td>Tuesday</td>\n",
       "      <td>2015-01-02</td>\n",
       "      <td>18:26:23</td>\n",
       "      <td>Friday</td>\n",
       "      <td>2015-02-11</td>\n",
       "      <td>18:26:23</td>\n",
       "      <td>Wednesday</td>\n",
       "      <td>40.000000</td>\n",
       "      <td>en</td>\n",
       "      <td>en</td>\n",
       "    </tr>\n",
       "    <tr>\n",
       "      <th>202432</th>\n",
       "      <td>53</td>\n",
       "      <td>MOMENTS OF INSIGHT is a project consisting of ...</td>\n",
       "      <td>{\"id\":20,\"name\":\"Conceptual Art\",\"analytics_na...</td>\n",
       "      <td>18758</td>\n",
       "      <td>US</td>\n",
       "      <td>the United States</td>\n",
       "      <td>1303753700</td>\n",
       "      <td>{\"id\":1743305220,\"name\":\"Chaucer Silverson\",\"i...</td>\n",
       "      <td>USD</td>\n",
       "      <td>$</td>\n",
       "      <td>...</td>\n",
       "      <td>Monday</td>\n",
       "      <td>2011-06-24</td>\n",
       "      <td>21:29:15</td>\n",
       "      <td>Friday</td>\n",
       "      <td>2011-08-04</td>\n",
       "      <td>06:30:00</td>\n",
       "      <td>Thursday</td>\n",
       "      <td>40.375521</td>\n",
       "      <td>en</td>\n",
       "      <td>en</td>\n",
       "    </tr>\n",
       "    <tr>\n",
       "      <th>202433</th>\n",
       "      <td>0</td>\n",
       "      <td>Would like to be able to photograph dream wedd...</td>\n",
       "      <td>{\"id\":276,\"name\":\"Fine Art\",\"analytics_name\":\"...</td>\n",
       "      <td>0</td>\n",
       "      <td>CA</td>\n",
       "      <td>Canada</td>\n",
       "      <td>1404849038</td>\n",
       "      <td>{\"id\":667466823,\"name\":\"Laura\",\"is_registered\"...</td>\n",
       "      <td>CAD</td>\n",
       "      <td>$</td>\n",
       "      <td>...</td>\n",
       "      <td>Tuesday</td>\n",
       "      <td>2014-07-11</td>\n",
       "      <td>20:56:05</td>\n",
       "      <td>Friday</td>\n",
       "      <td>2014-07-24</td>\n",
       "      <td>17:23:00</td>\n",
       "      <td>Thursday</td>\n",
       "      <td>12.852025</td>\n",
       "      <td>en</td>\n",
       "      <td>en</td>\n",
       "    </tr>\n",
       "    <tr>\n",
       "      <th>202434</th>\n",
       "      <td>2076</td>\n",
       "      <td>COLD, FRESH, &amp; CARBONATED wherever you go! Cas...</td>\n",
       "      <td>{\"id\":307,\"name\":\"Drinks\",\"analytics_name\":\"Dr...</td>\n",
       "      <td>304142</td>\n",
       "      <td>US</td>\n",
       "      <td>the United States</td>\n",
       "      <td>1417200147</td>\n",
       "      <td>{\"id\":584321487,\"name\":\"Drink Tanks\",\"is_regis...</td>\n",
       "      <td>USD</td>\n",
       "      <td>$</td>\n",
       "      <td>...</td>\n",
       "      <td>Friday</td>\n",
       "      <td>2015-03-02</td>\n",
       "      <td>16:14:38</td>\n",
       "      <td>Monday</td>\n",
       "      <td>2015-04-10</td>\n",
       "      <td>04:00:00</td>\n",
       "      <td>Friday</td>\n",
       "      <td>38.448171</td>\n",
       "      <td>en</td>\n",
       "      <td>en</td>\n",
       "    </tr>\n",
       "  </tbody>\n",
       "</table>\n",
       "<p>184554 rows × 53 columns</p>\n",
       "</div>"
      ],
      "text/plain": [
       "        backers_count                                              blurb  \\\n",
       "0                   4  Raising money to help my grandmother recover f...   \n",
       "1                  11  My work is performance based but I branch out ...   \n",
       "2                  18  A sanctuary for humans and felines alike! Come...   \n",
       "3                  42  Taste Makers is a socially conscious brand tha...   \n",
       "4                   3  All your herbal tea remedies here. From colds ...   \n",
       "...               ...                                                ...   \n",
       "202430             13  An oboe recital with music and photography to ...   \n",
       "202431             52  Growing fish and produce year round in the \"Po...   \n",
       "202432             53  MOMENTS OF INSIGHT is a project consisting of ...   \n",
       "202433              0  Would like to be able to photograph dream wedd...   \n",
       "202434           2076  COLD, FRESH, & CARBONATED wherever you go! Cas...   \n",
       "\n",
       "                                                 category  \\\n",
       "0       {\"id\":44,\"name\":\"World Music\",\"analytics_name\"...   \n",
       "1       {\"id\":24,\"name\":\"Performance Art\",\"analytics_n...   \n",
       "2       {\"id\":314,\"name\":\"Spaces\",\"analytics_name\":\"Sp...   \n",
       "3       {\"id\":269,\"name\":\"Ready-to-wear\",\"analytics_na...   \n",
       "4       {\"id\":307,\"name\":\"Drinks\",\"analytics_name\":\"Dr...   \n",
       "...                                                   ...   \n",
       "202430  {\"id\":36,\"name\":\"Classical Music\",\"analytics_n...   \n",
       "202431  {\"id\":305,\"name\":\"Community Gardens\",\"analytic...   \n",
       "202432  {\"id\":20,\"name\":\"Conceptual Art\",\"analytics_na...   \n",
       "202433  {\"id\":276,\"name\":\"Fine Art\",\"analytics_name\":\"...   \n",
       "202434  {\"id\":307,\"name\":\"Drinks\",\"analytics_name\":\"Dr...   \n",
       "\n",
       "        converted_pledged_amount country country_displayable_name  created_at  \\\n",
       "0                             62      US        the United States  1476879198   \n",
       "1                            262      GB       the United Kingdom  1428415625   \n",
       "2                            776      US        the United States  1445787145   \n",
       "3                           2158      CA                   Canada  1426394434   \n",
       "4                             96      US        the United States  1534903328   \n",
       "...                          ...     ...                      ...         ...   \n",
       "202430                       915      US        the United States  1375640768   \n",
       "202431                      2460      CA                   Canada  1419960769   \n",
       "202432                     18758      US        the United States  1303753700   \n",
       "202433                         0      CA                   Canada  1404849038   \n",
       "202434                    304142      US        the United States  1417200147   \n",
       "\n",
       "                                                  creator currency  \\\n",
       "0       {\"id\":1501687606,\"name\":\"Devan Porter\",\"is_reg...      USD   \n",
       "1       {\"id\":923770533,\"name\":\"Fiona Powell\",\"is_regi...      GBP   \n",
       "2       {\"id\":920978851,\"name\":\"Tori\",\"is_registered\":...      USD   \n",
       "3       {\"id\":1827655104,\"name\":\"Taste Makers By Trish...      CAD   \n",
       "4       {\"id\":160842473,\"name\":\"Vito Finazzo\",\"is_regi...      USD   \n",
       "...                                                   ...      ...   \n",
       "202430  {\"id\":1763180118,\"name\":\"Jennifer Stucki\",\"is_...      USD   \n",
       "202431  {\"id\":1810768137,\"name\":\"Earl Decker\",\"is_regi...      CAD   \n",
       "202432  {\"id\":1743305220,\"name\":\"Chaucer Silverson\",\"i...      USD   \n",
       "202433  {\"id\":667466823,\"name\":\"Laura\",\"is_registered\"...      CAD   \n",
       "202434  {\"id\":584321487,\"name\":\"Drink Tanks\",\"is_regis...      USD   \n",
       "\n",
       "       currency_symbol  ...  created_at_weekday launched_at_date  \\\n",
       "0                    $  ...           Wednesday       2016-10-19   \n",
       "1                    £  ...             Tuesday       2015-04-08   \n",
       "2                    $  ...              Sunday       2015-10-27   \n",
       "3                    $  ...              Sunday       2015-06-15   \n",
       "4                    $  ...           Wednesday       2018-08-22   \n",
       "...                ...  ...                 ...              ...   \n",
       "202430               $  ...              Sunday       2013-08-13   \n",
       "202431               $  ...             Tuesday       2015-01-02   \n",
       "202432               $  ...              Monday       2011-06-24   \n",
       "202433               $  ...             Tuesday       2014-07-11   \n",
       "202434               $  ...              Friday       2015-03-02   \n",
       "\n",
       "        launched_at_time  launched_at_weekday deadline_date  deadline_time  \\\n",
       "0               15:32:40            Wednesday    2016-11-18       15:32:40   \n",
       "1               00:37:44            Wednesday    2015-05-06       23:00:00   \n",
       "2               16:25:33              Tuesday    2015-11-26       17:25:33   \n",
       "3               20:28:11               Monday    2015-07-30       20:28:11   \n",
       "4               05:51:56            Wednesday    2018-10-21       05:51:56   \n",
       "...                  ...                  ...           ...            ...   \n",
       "202430          21:22:35              Tuesday    2013-09-22       06:59:00   \n",
       "202431          18:26:23               Friday    2015-02-11       18:26:23   \n",
       "202432          21:29:15               Friday    2011-08-04       06:30:00   \n",
       "202433          20:56:05               Friday    2014-07-24       17:23:00   \n",
       "202434          16:14:38               Monday    2015-04-10       04:00:00   \n",
       "\n",
       "        deadline_weekday  project_duration blurb_language  name_language  \n",
       "0                 Friday         30.041667             en             en  \n",
       "1              Wednesday         28.932130             en             en  \n",
       "2               Thursday         30.041667             en             en  \n",
       "3               Thursday         45.000000             en             en  \n",
       "4                 Sunday         60.000000             en             en  \n",
       "...                  ...               ...            ...            ...  \n",
       "202430            Sunday         39.400289             en             en  \n",
       "202431         Wednesday         40.000000             en             en  \n",
       "202432          Thursday         40.375521             en             en  \n",
       "202433          Thursday         12.852025             en             en  \n",
       "202434            Friday         38.448171             en             en  \n",
       "\n",
       "[184554 rows x 53 columns]"
      ]
     },
     "execution_count": 20,
     "metadata": {},
     "output_type": "execute_result"
    }
   ],
   "source": [
    "from src.language_functions import add_language_column\n",
    "\n",
    "add_language_column('blurb', df)\n",
    "add_language_column('name', df)"
   ]
  },
  {
   "cell_type": "markdown",
   "metadata": {},
   "source": [
    "# create backup"
   ]
  },
  {
   "cell_type": "code",
   "execution_count": 22,
   "metadata": {},
   "outputs": [],
   "source": [
    "df.to_csv('after_language.csv')"
   ]
  },
  {
   "cell_type": "code",
   "execution_count": 20,
   "metadata": {},
   "outputs": [],
   "source": [
    "df = pd.read_csv('after_language.csv')"
   ]
  },
  {
   "cell_type": "markdown",
   "metadata": {},
   "source": [
    "#### split dataframes into translate and not translate"
   ]
  },
  {
   "cell_type": "code",
   "execution_count": 4,
   "metadata": {},
   "outputs": [],
   "source": [
    "to_translate = df[(df['blurb_language']!='en') | (df['name_language']!='en')]"
   ]
  },
  {
   "cell_type": "code",
   "execution_count": 5,
   "metadata": {},
   "outputs": [],
   "source": [
    "not_translate = df[(df['blurb_language']=='en') & (df['name_language']=='en')]"
   ]
  },
  {
   "cell_type": "markdown",
   "metadata": {},
   "source": [
    "#### run translation and combine all results in new columns 'description' and 'title'"
   ]
  },
  {
   "cell_type": "code",
   "execution_count": 8,
   "metadata": {},
   "outputs": [
    {
     "ename": "NotValidPayload",
     "evalue": ". --> text must be a valid text with maximum 5000 character, otherwise it cannot be translated",
     "output_type": "error",
     "traceback": [
      "\u001b[1;31m---------------------------------------------------------------------------\u001b[0m",
      "\u001b[1;31mNotValidPayload\u001b[0m                           Traceback (most recent call last)",
      "\u001b[1;32m<ipython-input-8-051fb90ef2ec>\u001b[0m in \u001b[0;36m<module>\u001b[1;34m\u001b[0m\n\u001b[0;32m      8\u001b[0m             \u001b[0mtrans\u001b[0m\u001b[1;33m.\u001b[0m\u001b[0mappend\u001b[0m\u001b[1;33m(\u001b[0m\u001b[1;34m''\u001b[0m\u001b[1;33m)\u001b[0m\u001b[1;33m\u001b[0m\u001b[1;33m\u001b[0m\u001b[0m\n\u001b[0;32m      9\u001b[0m         \u001b[1;32melse\u001b[0m\u001b[1;33m:\u001b[0m\u001b[1;33m\u001b[0m\u001b[1;33m\u001b[0m\u001b[0m\n\u001b[1;32m---> 10\u001b[1;33m             \u001b[0ma\u001b[0m \u001b[1;33m=\u001b[0m \u001b[0mGoogleTranslator\u001b[0m\u001b[1;33m(\u001b[0m\u001b[0msource\u001b[0m\u001b[1;33m=\u001b[0m\u001b[1;34m'auto'\u001b[0m\u001b[1;33m,\u001b[0m \u001b[0mtarget\u001b[0m\u001b[1;33m=\u001b[0m\u001b[1;34m'en'\u001b[0m\u001b[1;33m)\u001b[0m\u001b[1;33m.\u001b[0m\u001b[0mtranslate\u001b[0m\u001b[1;33m(\u001b[0m\u001b[0mi\u001b[0m\u001b[1;33m)\u001b[0m\u001b[1;33m\u001b[0m\u001b[1;33m\u001b[0m\u001b[0m\n\u001b[0m\u001b[0;32m     11\u001b[0m             \u001b[0mtrans\u001b[0m\u001b[1;33m.\u001b[0m\u001b[0mappend\u001b[0m\u001b[1;33m(\u001b[0m\u001b[0ma\u001b[0m\u001b[1;33m)\u001b[0m\u001b[1;33m\u001b[0m\u001b[1;33m\u001b[0m\u001b[0m\n\u001b[0;32m     12\u001b[0m \u001b[1;33m\u001b[0m\u001b[0m\n",
      "\u001b[1;32m~\\anaconda3\\lib\\site-packages\\deep_translator\\google_trans.py\u001b[0m in \u001b[0;36mtranslate\u001b[1;34m(self, text, **kwargs)\u001b[0m\n\u001b[0;32m     85\u001b[0m         \"\"\"\n\u001b[0;32m     86\u001b[0m \u001b[1;33m\u001b[0m\u001b[0m\n\u001b[1;32m---> 87\u001b[1;33m         \u001b[1;32mif\u001b[0m \u001b[0mself\u001b[0m\u001b[1;33m.\u001b[0m\u001b[0m_validate_payload\u001b[0m\u001b[1;33m(\u001b[0m\u001b[0mtext\u001b[0m\u001b[1;33m)\u001b[0m\u001b[1;33m:\u001b[0m\u001b[1;33m\u001b[0m\u001b[1;33m\u001b[0m\u001b[0m\n\u001b[0m\u001b[0;32m     88\u001b[0m             \u001b[0mtext\u001b[0m \u001b[1;33m=\u001b[0m \u001b[0mtext\u001b[0m\u001b[1;33m.\u001b[0m\u001b[0mstrip\u001b[0m\u001b[1;33m(\u001b[0m\u001b[1;33m)\u001b[0m\u001b[1;33m\u001b[0m\u001b[1;33m\u001b[0m\u001b[0m\n\u001b[0;32m     89\u001b[0m \u001b[1;33m\u001b[0m\u001b[0m\n",
      "\u001b[1;32m~\\anaconda3\\lib\\site-packages\\deep_translator\\parent.py\u001b[0m in \u001b[0;36m_validate_payload\u001b[1;34m(payload, min_chars, max_chars)\u001b[0m\n\u001b[0;32m     48\u001b[0m         \u001b[1;31m# check if payload contains only symbols\u001b[0m\u001b[1;33m\u001b[0m\u001b[1;33m\u001b[0m\u001b[1;33m\u001b[0m\u001b[0m\n\u001b[0;32m     49\u001b[0m         \u001b[1;32mif\u001b[0m \u001b[0mall\u001b[0m\u001b[1;33m(\u001b[0m\u001b[0mi\u001b[0m \u001b[1;32min\u001b[0m \u001b[0mstring\u001b[0m\u001b[1;33m.\u001b[0m\u001b[0mpunctuation\u001b[0m \u001b[1;32mfor\u001b[0m \u001b[0mi\u001b[0m \u001b[1;32min\u001b[0m \u001b[0mpayload\u001b[0m\u001b[1;33m)\u001b[0m\u001b[1;33m:\u001b[0m\u001b[1;33m\u001b[0m\u001b[1;33m\u001b[0m\u001b[0m\n\u001b[1;32m---> 50\u001b[1;33m             \u001b[1;32mraise\u001b[0m \u001b[0mNotValidPayload\u001b[0m\u001b[1;33m(\u001b[0m\u001b[0mpayload\u001b[0m\u001b[1;33m)\u001b[0m\u001b[1;33m\u001b[0m\u001b[1;33m\u001b[0m\u001b[0m\n\u001b[0m\u001b[0;32m     51\u001b[0m \u001b[1;33m\u001b[0m\u001b[0m\n\u001b[0;32m     52\u001b[0m         \u001b[1;32mif\u001b[0m \u001b[1;32mnot\u001b[0m \u001b[0mBaseTranslator\u001b[0m\u001b[1;33m.\u001b[0m\u001b[0m__check_length\u001b[0m\u001b[1;33m(\u001b[0m\u001b[0mpayload\u001b[0m\u001b[1;33m,\u001b[0m \u001b[0mmin_chars\u001b[0m\u001b[1;33m,\u001b[0m \u001b[0mmax_chars\u001b[0m\u001b[1;33m)\u001b[0m\u001b[1;33m:\u001b[0m\u001b[1;33m\u001b[0m\u001b[1;33m\u001b[0m\u001b[0m\n",
      "\u001b[1;31mNotValidPayload\u001b[0m: . --> text must be a valid text with maximum 5000 character, otherwise it cannot be translated"
     ]
    }
   ],
   "source": [
    "trans = []\n",
    "\n",
    "for i in to_translate['blurb']:\n",
    "    if isinstance(i, float):\n",
    "        trans.append('')\n",
    "    else:\n",
    "        if len(i) >= 5000:\n",
    "            trans.append('')\n",
    "        else:\n",
    "            a = GoogleTranslator(source='auto', target='en').translate(i)\n",
    "            trans.append(a)\n",
    "    \n",
    "to_translate['description'] = trans"
   ]
  },
  {
   "cell_type": "code",
   "execution_count": null,
   "metadata": {},
   "outputs": [],
   "source": [
    "not_translate['description'] = not_translate['blurb']"
   ]
  },
  {
   "cell_type": "code",
   "execution_count": null,
   "metadata": {},
   "outputs": [],
   "source": [
    "trans = []\n",
    "\n",
    "for i in to_translate['name']:\n",
    "    if isinstance(i, float):\n",
    "        trans.append('')\n",
    "    else:\n",
    "        if len(i) >= 5000:\n",
    "            trans.append('')\n",
    "        else:\n",
    "            a = GoogleTranslator(source='auto', target='en').translate(i)\n",
    "            trans.append(a)\n",
    "    \n",
    "to_translate['title'] = trans"
   ]
  },
  {
   "cell_type": "code",
   "execution_count": null,
   "metadata": {},
   "outputs": [],
   "source": [
    "not_translate['title'] = not_translate['name']"
   ]
  },
  {
   "cell_type": "markdown",
   "metadata": {},
   "source": [
    "#### backup dataframes"
   ]
  },
  {
   "cell_type": "code",
   "execution_count": 26,
   "metadata": {},
   "outputs": [],
   "source": [
    "to_translate.to_csv('translations_backup.csv')"
   ]
  },
  {
   "cell_type": "code",
   "execution_count": 27,
   "metadata": {},
   "outputs": [],
   "source": [
    "not_translate.to_csv('df_backup.csv')"
   ]
  },
  {
   "cell_type": "code",
   "execution_count": 22,
   "metadata": {},
   "outputs": [],
   "source": [
    "df = pd.concat(map(pd.read_csv, ['translations_backup.csv', 'df_backup.csv']))"
   ]
  },
  {
   "cell_type": "code",
   "execution_count": 26,
   "metadata": {},
   "outputs": [
    {
     "data": {
      "text/plain": [
       "id                                                                     171116\n",
       "backers_count                                                              42\n",
       "blurb                                An audio drama sci-fi/fantasy podcast...\n",
       "category                    {\"id\":239,\"name\":\"Radio & Podcasts\",\"analytics...\n",
       "converted_pledged_amount                                                 2048\n",
       "country                                                                    US\n",
       "country_displayable_name                                    the United States\n",
       "created_at                                                         1555070549\n",
       "creator                     {\"id\":1495220562,\"name\":\"Jeremiah Isley\",\"slug...\n",
       "currency                                                                  USD\n",
       "currency_symbol                                                             $\n",
       "currency_trailing_code                                                   True\n",
       "current_currency                                                          USD\n",
       "deadline                                                           1560373200\n",
       "disable_communication                                                   False\n",
       "friends                                                                   NaN\n",
       "fx_rate                                                                     1\n",
       "goal                                                                     2000\n",
       "is_backing                                                                NaN\n",
       "is_starrable                                                            False\n",
       "is_starred                                                                NaN\n",
       "launched_at                                                        1557752310\n",
       "location                    {\"id\":2503755,\"name\":\"Tallmadge\",\"slug\":\"tallm...\n",
       "name                                                                  Cryptic\n",
       "permissions                                                               NaN\n",
       "photo                       {\"key\":\"assets/025/407/236/b010d26aa6d4ca5eb13...\n",
       "pledged                                                                  2048\n",
       "profile                     {\"id\":3709713,\"project_id\":3709713,\"state\":\"in...\n",
       "slug                                                                  cryptic\n",
       "source_url                  https://www.kickstarter.com/discover/categorie...\n",
       "spotlight                                                                True\n",
       "staff_pick                                                              False\n",
       "state                                                              successful\n",
       "state_changed_at                                                   1560373200\n",
       "static_usd_rate                                                             1\n",
       "urls                        {\"web\":{\"project\":\"https://www.kickstarter.com...\n",
       "usd_pledged                                                              2048\n",
       "usd_type                                                        international\n",
       "usd_exchange_rate                                                         NaN\n",
       "category_name                                                Radio & Podcasts\n",
       "category_analytics_name                                      Radio & Podcasts\n",
       "category_slug                                     publishing/radio & podcasts\n",
       "category_parent_name                                               Publishing\n",
       "created_at_date                                                    2019-04-12\n",
       "created_at_time                                                      14:02:29\n",
       "created_at_weekday                                                     Friday\n",
       "launched_at_date                                                   2019-05-13\n",
       "launched_at_time                                                     14:58:30\n",
       "launched_at_weekday                                                    Monday\n",
       "deadline_date                                                      2019-06-12\n",
       "deadline_time                                                        23:00:00\n",
       "deadline_weekday                                                    Wednesday\n",
       "project_duration                                                      30.3344\n",
       "funded_rate                                                             1.024\n",
       "blurb_language                                                             es\n",
       "description                          An audio drama sci-fi/fantasy podcast...\n",
       "name_language                                                              en\n",
       "Name: 0, dtype: object"
      ]
     },
     "execution_count": 26,
     "metadata": {},
     "output_type": "execute_result"
    }
   ],
   "source": [
    "df.iloc[0]"
   ]
  },
  {
   "cell_type": "code",
   "execution_count": 24,
   "metadata": {},
   "outputs": [
    {
     "data": {
      "text/html": [
       "<div>\n",
       "<style scoped>\n",
       "    .dataframe tbody tr th:only-of-type {\n",
       "        vertical-align: middle;\n",
       "    }\n",
       "\n",
       "    .dataframe tbody tr th {\n",
       "        vertical-align: top;\n",
       "    }\n",
       "\n",
       "    .dataframe thead th {\n",
       "        text-align: right;\n",
       "    }\n",
       "</style>\n",
       "<table border=\"1\" class=\"dataframe\">\n",
       "  <thead>\n",
       "    <tr style=\"text-align: right;\">\n",
       "      <th></th>\n",
       "      <th>id</th>\n",
       "      <th>backers_count</th>\n",
       "      <th>blurb</th>\n",
       "      <th>category</th>\n",
       "      <th>converted_pledged_amount</th>\n",
       "      <th>country</th>\n",
       "      <th>country_displayable_name</th>\n",
       "      <th>created_at</th>\n",
       "      <th>creator</th>\n",
       "      <th>currency</th>\n",
       "      <th>...</th>\n",
       "      <th>launched_at_time</th>\n",
       "      <th>launched_at_weekday</th>\n",
       "      <th>deadline_date</th>\n",
       "      <th>deadline_time</th>\n",
       "      <th>deadline_weekday</th>\n",
       "      <th>project_duration</th>\n",
       "      <th>funded_rate</th>\n",
       "      <th>blurb_language</th>\n",
       "      <th>description</th>\n",
       "      <th>name_language</th>\n",
       "    </tr>\n",
       "  </thead>\n",
       "  <tbody>\n",
       "    <tr>\n",
       "      <th>0</th>\n",
       "      <td>171116</td>\n",
       "      <td>42</td>\n",
       "      <td>An audio drama sci-fi/fantasy podcast...</td>\n",
       "      <td>{\"id\":239,\"name\":\"Radio &amp; Podcasts\",\"analytics...</td>\n",
       "      <td>2048</td>\n",
       "      <td>US</td>\n",
       "      <td>the United States</td>\n",
       "      <td>1555070549</td>\n",
       "      <td>{\"id\":1495220562,\"name\":\"Jeremiah Isley\",\"slug...</td>\n",
       "      <td>USD</td>\n",
       "      <td>...</td>\n",
       "      <td>14:58:30</td>\n",
       "      <td>Monday</td>\n",
       "      <td>2019-06-12</td>\n",
       "      <td>23:00:00</td>\n",
       "      <td>Wednesday</td>\n",
       "      <td>30.334375</td>\n",
       "      <td>1.024000</td>\n",
       "      <td>es</td>\n",
       "      <td>An audio drama sci-fi/fantasy podcast...</td>\n",
       "      <td>en</td>\n",
       "    </tr>\n",
       "    <tr>\n",
       "      <th>1</th>\n",
       "      <td>204682</td>\n",
       "      <td>120</td>\n",
       "      <td>• Smart • Light • Breathable • Connected • Com...</td>\n",
       "      <td>{\"id\":16,\"name\":\"Technology\",\"analytics_name\":...</td>\n",
       "      <td>31718</td>\n",
       "      <td>US</td>\n",
       "      <td>the United States</td>\n",
       "      <td>1604671540</td>\n",
       "      <td>{\"id\":1102994620,\"name\":\"xRapid\",\"slug\":\"xhale...</td>\n",
       "      <td>USD</td>\n",
       "      <td>...</td>\n",
       "      <td>09:00:02</td>\n",
       "      <td>Tuesday</td>\n",
       "      <td>2021-01-29</td>\n",
       "      <td>09:00:02</td>\n",
       "      <td>Friday</td>\n",
       "      <td>45.000000</td>\n",
       "      <td>3.171800</td>\n",
       "      <td>he</td>\n",
       "      <td>• Smart • Light • Breathable • Connected • Com...</td>\n",
       "      <td>en</td>\n",
       "    </tr>\n",
       "    <tr>\n",
       "      <th>2</th>\n",
       "      <td>379873</td>\n",
       "      <td>2</td>\n",
       "      <td>Junges Paar träumt davon, Träume von anderen M...</td>\n",
       "      <td>{\"id\":239,\"name\":\"Radio &amp; Podcasts\",\"analytics...</td>\n",
       "      <td>2</td>\n",
       "      <td>DE</td>\n",
       "      <td>Germany</td>\n",
       "      <td>1579136351</td>\n",
       "      <td>{\"id\":1046931222,\"name\":\"Edem\",\"is_registered\"...</td>\n",
       "      <td>EUR</td>\n",
       "      <td>...</td>\n",
       "      <td>03:49:47</td>\n",
       "      <td>Thursday</td>\n",
       "      <td>2020-03-16</td>\n",
       "      <td>02:49:47</td>\n",
       "      <td>Monday</td>\n",
       "      <td>59.958333</td>\n",
       "      <td>0.000571</td>\n",
       "      <td>de</td>\n",
       "      <td>Young couple dreams of making other people's d...</td>\n",
       "      <td>de</td>\n",
       "    </tr>\n",
       "    <tr>\n",
       "      <th>3</th>\n",
       "      <td>547336</td>\n",
       "      <td>813</td>\n",
       "      <td>Il secondo viaggio in Giappone del Tridente D'...</td>\n",
       "      <td>{\"id\":292,\"name\":\"Comedy\",\"analytics_name\":\"Co...</td>\n",
       "      <td>22905</td>\n",
       "      <td>IT</td>\n",
       "      <td>Italy</td>\n",
       "      <td>1546527948</td>\n",
       "      <td>{\"id\":156214574,\"name\":\"Dario Moccia\",\"is_regi...</td>\n",
       "      <td>EUR</td>\n",
       "      <td>...</td>\n",
       "      <td>13:31:16</td>\n",
       "      <td>Friday</td>\n",
       "      <td>2019-03-05</td>\n",
       "      <td>13:31:16</td>\n",
       "      <td>Tuesday</td>\n",
       "      <td>60.000000</td>\n",
       "      <td>1.908750</td>\n",
       "      <td>it</td>\n",
       "      <td>The second trip to Japan of the Steel Trident</td>\n",
       "      <td>en</td>\n",
       "    </tr>\n",
       "    <tr>\n",
       "      <th>4</th>\n",
       "      <td>722281</td>\n",
       "      <td>2</td>\n",
       "      <td>Cultura hecha restaurante! Aprende lenguas ind...</td>\n",
       "      <td>{\"id\":312,\"name\":\"Restaurants\",\"analytics_name...</td>\n",
       "      <td>3</td>\n",
       "      <td>MX</td>\n",
       "      <td>Mexico</td>\n",
       "      <td>1605557812</td>\n",
       "      <td>{\"id\":241213347,\"name\":\"Vic Castañeda\",\"slug\":...</td>\n",
       "      <td>MXN</td>\n",
       "      <td>...</td>\n",
       "      <td>08:29:13</td>\n",
       "      <td>Wednesday</td>\n",
       "      <td>2021-01-16</td>\n",
       "      <td>06:59:00</td>\n",
       "      <td>Saturday</td>\n",
       "      <td>58.937350</td>\n",
       "      <td>0.000002</td>\n",
       "      <td>es</td>\n",
       "      <td>Culture made restaurant! Learn indigenous lang...</td>\n",
       "      <td>es</td>\n",
       "    </tr>\n",
       "    <tr>\n",
       "      <th>...</th>\n",
       "      <td>...</td>\n",
       "      <td>...</td>\n",
       "      <td>...</td>\n",
       "      <td>...</td>\n",
       "      <td>...</td>\n",
       "      <td>...</td>\n",
       "      <td>...</td>\n",
       "      <td>...</td>\n",
       "      <td>...</td>\n",
       "      <td>...</td>\n",
       "      <td>...</td>\n",
       "      <td>...</td>\n",
       "      <td>...</td>\n",
       "      <td>...</td>\n",
       "      <td>...</td>\n",
       "      <td>...</td>\n",
       "      <td>...</td>\n",
       "      <td>...</td>\n",
       "      <td>...</td>\n",
       "      <td>...</td>\n",
       "      <td>...</td>\n",
       "    </tr>\n",
       "    <tr>\n",
       "      <th>175751</th>\n",
       "      <td>2147430599</td>\n",
       "      <td>13</td>\n",
       "      <td>An oboe recital with music and photography to ...</td>\n",
       "      <td>{\"id\":36,\"name\":\"Classical Music\",\"analytics_n...</td>\n",
       "      <td>915</td>\n",
       "      <td>US</td>\n",
       "      <td>the United States</td>\n",
       "      <td>1375640768</td>\n",
       "      <td>{\"id\":1763180118,\"name\":\"Jennifer Stucki\",\"is_...</td>\n",
       "      <td>USD</td>\n",
       "      <td>...</td>\n",
       "      <td>21:22:35</td>\n",
       "      <td>Tuesday</td>\n",
       "      <td>2013-09-22</td>\n",
       "      <td>06:59:00</td>\n",
       "      <td>Sunday</td>\n",
       "      <td>39.400289</td>\n",
       "      <td>1.220000</td>\n",
       "      <td>en</td>\n",
       "      <td>An oboe recital with music and photography to ...</td>\n",
       "      <td>en</td>\n",
       "    </tr>\n",
       "    <tr>\n",
       "      <th>175752</th>\n",
       "      <td>2147437278</td>\n",
       "      <td>52</td>\n",
       "      <td>Growing fish and produce year round in the \"Po...</td>\n",
       "      <td>{\"id\":305,\"name\":\"Community Gardens\",\"analytic...</td>\n",
       "      <td>2460</td>\n",
       "      <td>CA</td>\n",
       "      <td>Canada</td>\n",
       "      <td>1419960769</td>\n",
       "      <td>{\"id\":1810768137,\"name\":\"Earl Decker\",\"is_regi...</td>\n",
       "      <td>CAD</td>\n",
       "      <td>...</td>\n",
       "      <td>18:26:23</td>\n",
       "      <td>Friday</td>\n",
       "      <td>2015-02-11</td>\n",
       "      <td>18:26:23</td>\n",
       "      <td>Wednesday</td>\n",
       "      <td>40.000000</td>\n",
       "      <td>0.010123</td>\n",
       "      <td>en</td>\n",
       "      <td>Growing fish and produce year round in the \"Po...</td>\n",
       "      <td>en</td>\n",
       "    </tr>\n",
       "    <tr>\n",
       "      <th>175753</th>\n",
       "      <td>2147460119</td>\n",
       "      <td>53</td>\n",
       "      <td>MOMENTS OF INSIGHT is a project consisting of ...</td>\n",
       "      <td>{\"id\":20,\"name\":\"Conceptual Art\",\"analytics_na...</td>\n",
       "      <td>18758</td>\n",
       "      <td>US</td>\n",
       "      <td>the United States</td>\n",
       "      <td>1303753700</td>\n",
       "      <td>{\"id\":1743305220,\"name\":\"Chaucer Silverson\",\"i...</td>\n",
       "      <td>USD</td>\n",
       "      <td>...</td>\n",
       "      <td>21:29:15</td>\n",
       "      <td>Friday</td>\n",
       "      <td>2011-08-04</td>\n",
       "      <td>06:30:00</td>\n",
       "      <td>Thursday</td>\n",
       "      <td>40.375521</td>\n",
       "      <td>1.042111</td>\n",
       "      <td>en</td>\n",
       "      <td>MOMENTS OF INSIGHT is a project consisting of ...</td>\n",
       "      <td>en</td>\n",
       "    </tr>\n",
       "    <tr>\n",
       "      <th>175754</th>\n",
       "      <td>2147466649</td>\n",
       "      <td>0</td>\n",
       "      <td>Would like to be able to photograph dream wedd...</td>\n",
       "      <td>{\"id\":276,\"name\":\"Fine Art\",\"analytics_name\":\"...</td>\n",
       "      <td>0</td>\n",
       "      <td>CA</td>\n",
       "      <td>Canada</td>\n",
       "      <td>1404849038</td>\n",
       "      <td>{\"id\":667466823,\"name\":\"Laura\",\"is_registered\"...</td>\n",
       "      <td>CAD</td>\n",
       "      <td>...</td>\n",
       "      <td>20:56:05</td>\n",
       "      <td>Friday</td>\n",
       "      <td>2014-07-24</td>\n",
       "      <td>17:23:00</td>\n",
       "      <td>Thursday</td>\n",
       "      <td>12.852025</td>\n",
       "      <td>0.000000</td>\n",
       "      <td>en</td>\n",
       "      <td>Would like to be able to photograph dream wedd...</td>\n",
       "      <td>en</td>\n",
       "    </tr>\n",
       "    <tr>\n",
       "      <th>175755</th>\n",
       "      <td>2147476221</td>\n",
       "      <td>2076</td>\n",
       "      <td>COLD, FRESH, &amp; CARBONATED wherever you go! Cas...</td>\n",
       "      <td>{\"id\":307,\"name\":\"Drinks\",\"analytics_name\":\"Dr...</td>\n",
       "      <td>304142</td>\n",
       "      <td>US</td>\n",
       "      <td>the United States</td>\n",
       "      <td>1417200147</td>\n",
       "      <td>{\"id\":584321487,\"name\":\"Drink Tanks\",\"is_regis...</td>\n",
       "      <td>USD</td>\n",
       "      <td>...</td>\n",
       "      <td>16:14:38</td>\n",
       "      <td>Monday</td>\n",
       "      <td>2015-04-10</td>\n",
       "      <td>04:00:00</td>\n",
       "      <td>Friday</td>\n",
       "      <td>38.448171</td>\n",
       "      <td>4.055227</td>\n",
       "      <td>en</td>\n",
       "      <td>COLD, FRESH, &amp; CARBONATED wherever you go! Cas...</td>\n",
       "      <td>en</td>\n",
       "    </tr>\n",
       "  </tbody>\n",
       "</table>\n",
       "<p>184554 rows × 57 columns</p>\n",
       "</div>"
      ],
      "text/plain": [
       "                id  backers_count  \\\n",
       "0           171116             42   \n",
       "1           204682            120   \n",
       "2           379873              2   \n",
       "3           547336            813   \n",
       "4           722281              2   \n",
       "...            ...            ...   \n",
       "175751  2147430599             13   \n",
       "175752  2147437278             52   \n",
       "175753  2147460119             53   \n",
       "175754  2147466649              0   \n",
       "175755  2147476221           2076   \n",
       "\n",
       "                                                    blurb  \\\n",
       "0                An audio drama sci-fi/fantasy podcast...   \n",
       "1       • Smart • Light • Breathable • Connected • Com...   \n",
       "2       Junges Paar träumt davon, Träume von anderen M...   \n",
       "3       Il secondo viaggio in Giappone del Tridente D'...   \n",
       "4       Cultura hecha restaurante! Aprende lenguas ind...   \n",
       "...                                                   ...   \n",
       "175751  An oboe recital with music and photography to ...   \n",
       "175752  Growing fish and produce year round in the \"Po...   \n",
       "175753  MOMENTS OF INSIGHT is a project consisting of ...   \n",
       "175754  Would like to be able to photograph dream wedd...   \n",
       "175755  COLD, FRESH, & CARBONATED wherever you go! Cas...   \n",
       "\n",
       "                                                 category  \\\n",
       "0       {\"id\":239,\"name\":\"Radio & Podcasts\",\"analytics...   \n",
       "1       {\"id\":16,\"name\":\"Technology\",\"analytics_name\":...   \n",
       "2       {\"id\":239,\"name\":\"Radio & Podcasts\",\"analytics...   \n",
       "3       {\"id\":292,\"name\":\"Comedy\",\"analytics_name\":\"Co...   \n",
       "4       {\"id\":312,\"name\":\"Restaurants\",\"analytics_name...   \n",
       "...                                                   ...   \n",
       "175751  {\"id\":36,\"name\":\"Classical Music\",\"analytics_n...   \n",
       "175752  {\"id\":305,\"name\":\"Community Gardens\",\"analytic...   \n",
       "175753  {\"id\":20,\"name\":\"Conceptual Art\",\"analytics_na...   \n",
       "175754  {\"id\":276,\"name\":\"Fine Art\",\"analytics_name\":\"...   \n",
       "175755  {\"id\":307,\"name\":\"Drinks\",\"analytics_name\":\"Dr...   \n",
       "\n",
       "        converted_pledged_amount country country_displayable_name  created_at  \\\n",
       "0                           2048      US        the United States  1555070549   \n",
       "1                          31718      US        the United States  1604671540   \n",
       "2                              2      DE                  Germany  1579136351   \n",
       "3                          22905      IT                    Italy  1546527948   \n",
       "4                              3      MX                   Mexico  1605557812   \n",
       "...                          ...     ...                      ...         ...   \n",
       "175751                       915      US        the United States  1375640768   \n",
       "175752                      2460      CA                   Canada  1419960769   \n",
       "175753                     18758      US        the United States  1303753700   \n",
       "175754                         0      CA                   Canada  1404849038   \n",
       "175755                    304142      US        the United States  1417200147   \n",
       "\n",
       "                                                  creator currency  ...  \\\n",
       "0       {\"id\":1495220562,\"name\":\"Jeremiah Isley\",\"slug...      USD  ...   \n",
       "1       {\"id\":1102994620,\"name\":\"xRapid\",\"slug\":\"xhale...      USD  ...   \n",
       "2       {\"id\":1046931222,\"name\":\"Edem\",\"is_registered\"...      EUR  ...   \n",
       "3       {\"id\":156214574,\"name\":\"Dario Moccia\",\"is_regi...      EUR  ...   \n",
       "4       {\"id\":241213347,\"name\":\"Vic Castañeda\",\"slug\":...      MXN  ...   \n",
       "...                                                   ...      ...  ...   \n",
       "175751  {\"id\":1763180118,\"name\":\"Jennifer Stucki\",\"is_...      USD  ...   \n",
       "175752  {\"id\":1810768137,\"name\":\"Earl Decker\",\"is_regi...      CAD  ...   \n",
       "175753  {\"id\":1743305220,\"name\":\"Chaucer Silverson\",\"i...      USD  ...   \n",
       "175754  {\"id\":667466823,\"name\":\"Laura\",\"is_registered\"...      CAD  ...   \n",
       "175755  {\"id\":584321487,\"name\":\"Drink Tanks\",\"is_regis...      USD  ...   \n",
       "\n",
       "       launched_at_time  launched_at_weekday deadline_date  deadline_time  \\\n",
       "0              14:58:30               Monday    2019-06-12       23:00:00   \n",
       "1              09:00:02              Tuesday    2021-01-29       09:00:02   \n",
       "2              03:49:47             Thursday    2020-03-16       02:49:47   \n",
       "3              13:31:16               Friday    2019-03-05       13:31:16   \n",
       "4              08:29:13            Wednesday    2021-01-16       06:59:00   \n",
       "...                 ...                  ...           ...            ...   \n",
       "175751         21:22:35              Tuesday    2013-09-22       06:59:00   \n",
       "175752         18:26:23               Friday    2015-02-11       18:26:23   \n",
       "175753         21:29:15               Friday    2011-08-04       06:30:00   \n",
       "175754         20:56:05               Friday    2014-07-24       17:23:00   \n",
       "175755         16:14:38               Monday    2015-04-10       04:00:00   \n",
       "\n",
       "        deadline_weekday  project_duration  funded_rate  blurb_language  \\\n",
       "0              Wednesday         30.334375     1.024000              es   \n",
       "1                 Friday         45.000000     3.171800              he   \n",
       "2                 Monday         59.958333     0.000571              de   \n",
       "3                Tuesday         60.000000     1.908750              it   \n",
       "4               Saturday         58.937350     0.000002              es   \n",
       "...                  ...               ...          ...             ...   \n",
       "175751            Sunday         39.400289     1.220000              en   \n",
       "175752         Wednesday         40.000000     0.010123              en   \n",
       "175753          Thursday         40.375521     1.042111              en   \n",
       "175754          Thursday         12.852025     0.000000              en   \n",
       "175755            Friday         38.448171     4.055227              en   \n",
       "\n",
       "                                              description  name_language  \n",
       "0                An audio drama sci-fi/fantasy podcast...             en  \n",
       "1       • Smart • Light • Breathable • Connected • Com...             en  \n",
       "2       Young couple dreams of making other people's d...             de  \n",
       "3           The second trip to Japan of the Steel Trident             en  \n",
       "4       Culture made restaurant! Learn indigenous lang...             es  \n",
       "...                                                   ...            ...  \n",
       "175751  An oboe recital with music and photography to ...             en  \n",
       "175752  Growing fish and produce year round in the \"Po...             en  \n",
       "175753  MOMENTS OF INSIGHT is a project consisting of ...             en  \n",
       "175754  Would like to be able to photograph dream wedd...             en  \n",
       "175755  COLD, FRESH, & CARBONATED wherever you go! Cas...             en  \n",
       "\n",
       "[184554 rows x 57 columns]"
      ]
     },
     "execution_count": 24,
     "metadata": {},
     "output_type": "execute_result"
    }
   ],
   "source": [
    "from src.language_functions import add_language_column\n",
    "\n",
    "add_language_column('name', df)"
   ]
  },
  {
   "cell_type": "code",
   "execution_count": 25,
   "metadata": {},
   "outputs": [],
   "source": [
    "df.name = df.name.str.replace('\\d+', '')"
   ]
  },
  {
   "cell_type": "code",
   "execution_count": 29,
   "metadata": {},
   "outputs": [],
   "source": [
    "to_translate = df[df['name_language']!='en']\n",
    "\n",
    "not_translate = df[df['name_language']=='en']"
   ]
  },
  {
   "cell_type": "code",
   "execution_count": null,
   "metadata": {},
   "outputs": [],
   "source": [
    "trans = []\n",
    "\n",
    "for i in to_translate['name']:\n",
    "    if isinstance(i, float):\n",
    "        trans.append('')\n",
    "    else:\n",
    "        if len(i) >= 5000:\n",
    "            trans.append('')\n",
    "        else:\n",
    "            a = GoogleTranslator(source='auto', target='en').translate(i)\n",
    "            trans.append(a)\n",
    "    \n",
    "to_translate['title'] = trans"
   ]
  },
  {
   "cell_type": "markdown",
   "metadata": {},
   "source": [
    "#### perform all other language functions"
   ]
  },
  {
   "cell_type": "code",
   "execution_count": null,
   "metadata": {},
   "outputs": [
    {
     "name": "stderr",
     "output_type": "stream",
     "text": [
      "[nltk_data] Downloading package stopwords to\n",
      "[nltk_data]     C:\\Users\\nicol\\AppData\\Roaming\\nltk_data...\n",
      "[nltk_data]   Package stopwords is already up-to-date!\n",
      "[nltk_data] Downloading package punkt to\n",
      "[nltk_data]     C:\\Users\\nicol\\AppData\\Roaming\\nltk_data...\n",
      "[nltk_data]   Package punkt is already up-to-date!\n"
     ]
    }
   ],
   "source": [
    "from src.language_functions import all_text_and_language_functions\n",
    "\n",
    "all_text_and_language_functions('description', df)\n",
    "all_text_and_language_functions('title', df)"
   ]
  },
  {
   "cell_type": "code",
   "execution_count": null,
   "metadata": {},
   "outputs": [],
   "source": [
    "# count stopwords\n",
    "# count noun, verbs, adjectives\n"
   ]
  },
  {
   "cell_type": "markdown",
   "metadata": {},
   "source": [
    "#### create new dataframe of non english language with translations and english language"
   ]
  },
  {
   "cell_type": "markdown",
   "metadata": {},
   "source": [
    "### NLTK - Natural Language Toolkit"
   ]
  },
  {
   "cell_type": "code",
   "execution_count": null,
   "metadata": {},
   "outputs": [],
   "source": [
    "# trial\n",
    "\n",
    "df['description'].iloc[0]"
   ]
  },
  {
   "cell_type": "markdown",
   "metadata": {},
   "source": [
    "#### tokenize"
   ]
  },
  {
   "cell_type": "code",
   "execution_count": null,
   "metadata": {},
   "outputs": [],
   "source": [
    "from nltk.tokenize import sent_tokenize, word_tokenize\n",
    "\n",
    "len_title_word = []\n",
    "len_title_sent = []\n",
    "\n",
    "for i in df['title']:\n",
    "    len_title_word.append(len(word_tokenize(i)))\n",
    "    len_title_sent.append(len(sent_tokenize(i)))\n",
    "    \n",
    "df['len_title_word'] = len_title_word\n",
    "df['len_title_sent'] = len_title_sent"
   ]
  },
  {
   "cell_type": "markdown",
   "metadata": {},
   "source": [
    "#### sentiment analysis"
   ]
  },
  {
   "cell_type": "code",
   "execution_count": null,
   "metadata": {},
   "outputs": [],
   "source": [
    "from nltk.sentiment import SentimentIntensityAnalyzer\n",
    "\n",
    "sia = []\n",
    "\n",
    "for i in df['title']:\n",
    "    sia = SentimentIntensityAnalyzer()\n",
    "    sia.append(sia.polarity_scores(i))\n",
    "    \n",
    "sia"
   ]
  },
  {
   "cell_type": "code",
   "execution_count": null,
   "metadata": {},
   "outputs": [],
   "source": [
    "# {'neg': 0.0, 'neu': 0.295, 'pos': 0.705, 'compound': 0.8012}\n",
    "\n",
    "neg = []\n",
    "neu = []\n",
    "pos = []\n",
    "compound = []\n",
    "\n",
    "neg.append()\n",
    "neu.append()\n",
    "pos.append()\n",
    "compound.append()"
   ]
  },
  {
   "cell_type": "code",
   "execution_count": null,
   "metadata": {},
   "outputs": [],
   "source": []
  },
  {
   "cell_type": "code",
   "execution_count": null,
   "metadata": {},
   "outputs": [],
   "source": [
    "#remove stopwords\n",
    "\n",
    "for w in words:\n",
    "    if w not in stopWords:\n",
    "        wordsFiltered.append(w)"
   ]
  },
  {
   "cell_type": "code",
   "execution_count": null,
   "metadata": {},
   "outputs": [],
   "source": [
    "from nltk.tokenize import word_tokenize\n",
    "text_tokens = word_tokenize(text)\n",
    "len(text_tokens)"
   ]
  },
  {
   "cell_type": "code",
   "execution_count": null,
   "metadata": {},
   "outputs": [],
   "source": [
    "from nltk.probability import FreqDist\n",
    "fdist = FreqDist()\n",
    "\n",
    "for word in text_tokens:\n",
    "    fdist[word.lower()]+=1\n",
    "fdist\n",
    "\n",
    "len(fdist)"
   ]
  },
  {
   "cell_type": "code",
   "execution_count": null,
   "metadata": {},
   "outputs": [],
   "source": [
    "fdist_top10 = fdist.most_common(10)"
   ]
  },
  {
   "cell_type": "code",
   "execution_count": null,
   "metadata": {},
   "outputs": [],
   "source": [
    "# number of paragraphs\n",
    "\n",
    "from nltk.tokenize import blankline_tokenize\n",
    "pf_blank = blankline_tokenize(pf)\n",
    "len(pf_blank)"
   ]
  },
  {
   "cell_type": "code",
   "execution_count": null,
   "metadata": {},
   "outputs": [],
   "source": [
    "for token in pf_tokens:\n",
    "    print(nltk.pos_tag([token]))"
   ]
  },
  {
   "cell_type": "markdown",
   "metadata": {},
   "source": [
    "### set id as index"
   ]
  },
  {
   "cell_type": "code",
   "execution_count": 11,
   "metadata": {},
   "outputs": [],
   "source": [
    "df = df.set_index('id')"
   ]
  },
  {
   "cell_type": "markdown",
   "metadata": {},
   "source": [
    "### drop columns"
   ]
  },
  {
   "cell_type": "code",
   "execution_count": 4,
   "metadata": {},
   "outputs": [
    {
     "data": {
      "text/plain": [
       "Index(['id', 'backers_count', 'blurb', 'category', 'converted_pledged_amount',\n",
       "       'country', 'country_displayable_name', 'created_at', 'creator',\n",
       "       'currency', 'currency_symbol', 'currency_trailing_code',\n",
       "       'current_currency', 'deadline', 'disable_communication', 'friends',\n",
       "       'fx_rate', 'goal', 'is_backing', 'is_starrable', 'is_starred',\n",
       "       'launched_at', 'location', 'name', 'permissions', 'photo', 'pledged',\n",
       "       'profile', 'slug', 'source_url', 'spotlight', 'staff_pick', 'state',\n",
       "       'state_changed_at', 'static_usd_rate', 'urls', 'usd_pledged',\n",
       "       'usd_type', 'usd_exchange_rate', 'category_name',\n",
       "       'category_analytics_name', 'category_slug', 'category_parent_name',\n",
       "       'created_at_date', 'created_at_time', 'created_at_weekday',\n",
       "       'launched_at_date', 'launched_at_time', 'launched_at_weekday',\n",
       "       'deadline_date', 'deadline_time', 'deadline_weekday',\n",
       "       'project_duration', 'funded_rate', 'blurb_language', 'description',\n",
       "       'description_pol', 'description_sub', 'description_len',\n",
       "       'description_kw'],\n",
       "      dtype='object')"
      ]
     },
     "execution_count": 4,
     "metadata": {},
     "output_type": "execute_result"
    }
   ],
   "source": [
    "df.columns"
   ]
  },
  {
   "cell_type": "code",
   "execution_count": 5,
   "metadata": {},
   "outputs": [],
   "source": [
    "to_drop = ['id', 'blurb', 'category',\n",
    "       'country', 'created_at', 'creator',\n",
    "       'currency', 'currency_symbol', 'currency_trailing_code',\n",
    "       'current_currency', 'deadline', 'disable_communication', 'friends',\n",
    "       'fx_rate', 'is_backing', 'is_starrable', 'is_starred',\n",
    "       'launched_at', 'location', 'name', 'permissions', 'photo', 'pledged',\n",
    "       'profile', 'slug', 'source_url', 'spotlight', 'staff_pick',\n",
    "       'state_changed_at', 'static_usd_rate', 'urls', 'usd_pledged',\n",
    "       'usd_type', 'usd_exchange_rate']"
   ]
  },
  {
   "cell_type": "code",
   "execution_count": 6,
   "metadata": {},
   "outputs": [],
   "source": [
    "df = df.drop(to_drop, axis=1)"
   ]
  },
  {
   "cell_type": "code",
   "execution_count": 7,
   "metadata": {},
   "outputs": [
    {
     "data": {
      "text/plain": [
       "(184554, 26)"
      ]
     },
     "execution_count": 7,
     "metadata": {},
     "output_type": "execute_result"
    }
   ],
   "source": [
    "df.shape"
   ]
  },
  {
   "cell_type": "code",
   "execution_count": 8,
   "metadata": {},
   "outputs": [
    {
     "data": {
      "text/plain": [
       "Index(['backers_count', 'converted_pledged_amount', 'country_displayable_name',\n",
       "       'goal', 'state', 'category_name', 'category_analytics_name',\n",
       "       'category_slug', 'category_parent_name', 'created_at_date',\n",
       "       'created_at_time', 'created_at_weekday', 'launched_at_date',\n",
       "       'launched_at_time', 'launched_at_weekday', 'deadline_date',\n",
       "       'deadline_time', 'deadline_weekday', 'project_duration', 'funded_rate',\n",
       "       'blurb_language', 'description', 'description_pol', 'description_sub',\n",
       "       'description_len', 'description_kw'],\n",
       "      dtype='object')"
      ]
     },
     "execution_count": 8,
     "metadata": {},
     "output_type": "execute_result"
    }
   ],
   "source": [
    "df.columns"
   ]
  },
  {
   "cell_type": "markdown",
   "metadata": {},
   "source": [
    "### review dtypes"
   ]
  },
  {
   "cell_type": "code",
   "execution_count": 9,
   "metadata": {},
   "outputs": [
    {
     "data": {
      "text/plain": [
       "backers_count                 int64\n",
       "converted_pledged_amount      int64\n",
       "country_displayable_name     object\n",
       "goal                        float64\n",
       "state                        object\n",
       "category_name                object\n",
       "category_analytics_name      object\n",
       "category_slug                object\n",
       "category_parent_name         object\n",
       "created_at_date              object\n",
       "created_at_time              object\n",
       "created_at_weekday           object\n",
       "launched_at_date             object\n",
       "launched_at_time             object\n",
       "launched_at_weekday          object\n",
       "deadline_date                object\n",
       "deadline_time                object\n",
       "deadline_weekday             object\n",
       "project_duration            float64\n",
       "funded_rate                 float64\n",
       "blurb_language               object\n",
       "description                  object\n",
       "description_pol             float64\n",
       "description_sub             float64\n",
       "description_len               int64\n",
       "description_kw               object\n",
       "dtype: object"
      ]
     },
     "execution_count": 9,
     "metadata": {},
     "output_type": "execute_result"
    }
   ],
   "source": [
    "# boolean columns death_event, smoking, sex, high_blood_pressure, diabetes, anaemia\n",
    "# df = df.astype({'death_event':'boolean', 'sex':'boolean', 'smoking':'boolean', 'high_blood_pressure':'boolean','diabetes':'boolean','anaemia':'boolean','age':'int64'})\n",
    "#df = df.astype({'polarity':'int64', 'subjectivity':'int64'})\n",
    "\n",
    "df.dtypes"
   ]
  },
  {
   "cell_type": "markdown",
   "metadata": {},
   "source": [
    "### Null Values"
   ]
  },
  {
   "cell_type": "code",
   "execution_count": 10,
   "metadata": {},
   "outputs": [
    {
     "data": {
      "text/plain": [
       "backers_count               False\n",
       "converted_pledged_amount    False\n",
       "country_displayable_name    False\n",
       "goal                        False\n",
       "state                       False\n",
       "category_name               False\n",
       "category_analytics_name      True\n",
       "category_slug               False\n",
       "category_parent_name         True\n",
       "created_at_date             False\n",
       "created_at_time             False\n",
       "created_at_weekday          False\n",
       "launched_at_date            False\n",
       "launched_at_time            False\n",
       "launched_at_weekday         False\n",
       "deadline_date               False\n",
       "deadline_time               False\n",
       "deadline_weekday            False\n",
       "project_duration            False\n",
       "funded_rate                 False\n",
       "blurb_language              False\n",
       "description                  True\n",
       "description_pol             False\n",
       "description_sub             False\n",
       "description_len             False\n",
       "description_kw              False\n",
       "dtype: bool"
      ]
     },
     "execution_count": 10,
     "metadata": {},
     "output_type": "execute_result"
    }
   ],
   "source": [
    "df.isna().any()"
   ]
  },
  {
   "cell_type": "markdown",
   "metadata": {},
   "source": [
    "### final review of shape and backup analysis/model dataframe"
   ]
  },
  {
   "cell_type": "code",
   "execution_count": 9,
   "metadata": {},
   "outputs": [
    {
     "name": "stdout",
     "output_type": "stream",
     "text": [
      "The cleaned and adjusted dataset contains 184554 rows and 26 columns\n"
     ]
    }
   ],
   "source": [
    "# final shape of cleaned data\n",
    "\n",
    "print(\"The cleaned and adjusted dataset contains {} rows and {} columns\".format(*df.shape))"
   ]
  },
  {
   "cell_type": "code",
   "execution_count": 11,
   "metadata": {},
   "outputs": [],
   "source": [
    "df.to_csv('analysis_model_df.csv')"
   ]
  },
  {
   "cell_type": "code",
   "execution_count": 35,
   "metadata": {},
   "outputs": [],
   "source": [
    "df = pd.read_csv('analysis_model_df.csv')"
   ]
  },
  {
   "cell_type": "code",
   "execution_count": 36,
   "metadata": {},
   "outputs": [
    {
     "data": {
      "text/html": [
       "<div>\n",
       "<style scoped>\n",
       "    .dataframe tbody tr th:only-of-type {\n",
       "        vertical-align: middle;\n",
       "    }\n",
       "\n",
       "    .dataframe tbody tr th {\n",
       "        vertical-align: top;\n",
       "    }\n",
       "\n",
       "    .dataframe thead th {\n",
       "        text-align: right;\n",
       "    }\n",
       "</style>\n",
       "<table border=\"1\" class=\"dataframe\">\n",
       "  <thead>\n",
       "    <tr style=\"text-align: right;\">\n",
       "      <th></th>\n",
       "      <th>Unnamed: 0</th>\n",
       "      <th>backers_count</th>\n",
       "      <th>converted_pledged_amount</th>\n",
       "      <th>country_displayable_name</th>\n",
       "      <th>goal</th>\n",
       "      <th>state</th>\n",
       "      <th>category_name</th>\n",
       "      <th>category_analytics_name</th>\n",
       "      <th>category_slug</th>\n",
       "      <th>category_parent_name</th>\n",
       "      <th>...</th>\n",
       "      <th>deadline_time</th>\n",
       "      <th>deadline_weekday</th>\n",
       "      <th>project_duration</th>\n",
       "      <th>funded_rate</th>\n",
       "      <th>blurb_language</th>\n",
       "      <th>description</th>\n",
       "      <th>description_pol</th>\n",
       "      <th>description_sub</th>\n",
       "      <th>description_len</th>\n",
       "      <th>description_kw</th>\n",
       "    </tr>\n",
       "  </thead>\n",
       "  <tbody>\n",
       "    <tr>\n",
       "      <th>0</th>\n",
       "      <td>0</td>\n",
       "      <td>42</td>\n",
       "      <td>2048</td>\n",
       "      <td>the United States</td>\n",
       "      <td>2000.0</td>\n",
       "      <td>successful</td>\n",
       "      <td>Radio &amp; Podcasts</td>\n",
       "      <td>Radio &amp; Podcasts</td>\n",
       "      <td>publishing/radio &amp; podcasts</td>\n",
       "      <td>Publishing</td>\n",
       "      <td>...</td>\n",
       "      <td>23:00:00</td>\n",
       "      <td>Wednesday</td>\n",
       "      <td>30.334375</td>\n",
       "      <td>1.024000</td>\n",
       "      <td>es</td>\n",
       "      <td>An audio drama sci-fi/fantasy podcast...</td>\n",
       "      <td>0.00</td>\n",
       "      <td>0.00</td>\n",
       "      <td>40</td>\n",
       "      <td>[(9.0, 'fantasy podcast ...'), (9.0, 'audio dr...</td>\n",
       "    </tr>\n",
       "    <tr>\n",
       "      <th>1</th>\n",
       "      <td>1</td>\n",
       "      <td>120</td>\n",
       "      <td>31718</td>\n",
       "      <td>the United States</td>\n",
       "      <td>10000.0</td>\n",
       "      <td>successful</td>\n",
       "      <td>Technology</td>\n",
       "      <td>Technology</td>\n",
       "      <td>technology</td>\n",
       "      <td>NaN</td>\n",
       "      <td>...</td>\n",
       "      <td>09:00:02</td>\n",
       "      <td>Friday</td>\n",
       "      <td>45.000000</td>\n",
       "      <td>3.171800</td>\n",
       "      <td>he</td>\n",
       "      <td>• Smart • Light • Breathable • Connected • Com...</td>\n",
       "      <td>0.34</td>\n",
       "      <td>0.71</td>\n",
       "      <td>56</td>\n",
       "      <td>[(121.0, '• smart • light • breathable • conne...</td>\n",
       "    </tr>\n",
       "    <tr>\n",
       "      <th>2</th>\n",
       "      <td>2</td>\n",
       "      <td>2</td>\n",
       "      <td>2</td>\n",
       "      <td>Germany</td>\n",
       "      <td>3500.0</td>\n",
       "      <td>failed</td>\n",
       "      <td>Radio &amp; Podcasts</td>\n",
       "      <td>Radio &amp; Podcasts</td>\n",
       "      <td>publishing/radio &amp; podcasts</td>\n",
       "      <td>Publishing</td>\n",
       "      <td>...</td>\n",
       "      <td>02:49:47</td>\n",
       "      <td>Monday</td>\n",
       "      <td>59.958333</td>\n",
       "      <td>0.000571</td>\n",
       "      <td>de</td>\n",
       "      <td>Young couple dreams of making other people's d...</td>\n",
       "      <td>0.23</td>\n",
       "      <td>0.58</td>\n",
       "      <td>117</td>\n",
       "      <td>[(9.0, 'young couple dreams'), (9.0, 'experien...</td>\n",
       "    </tr>\n",
       "    <tr>\n",
       "      <th>3</th>\n",
       "      <td>3</td>\n",
       "      <td>813</td>\n",
       "      <td>22905</td>\n",
       "      <td>Italy</td>\n",
       "      <td>12000.0</td>\n",
       "      <td>successful</td>\n",
       "      <td>Comedy</td>\n",
       "      <td>Comedy</td>\n",
       "      <td>film &amp; video/comedy</td>\n",
       "      <td>Film &amp; Video</td>\n",
       "      <td>...</td>\n",
       "      <td>13:31:16</td>\n",
       "      <td>Tuesday</td>\n",
       "      <td>60.000000</td>\n",
       "      <td>1.908750</td>\n",
       "      <td>it</td>\n",
       "      <td>The second trip to Japan of the Steel Trident</td>\n",
       "      <td>0.00</td>\n",
       "      <td>0.00</td>\n",
       "      <td>45</td>\n",
       "      <td>[(4.0, 'steel trident'), (4.0, 'second trip'),...</td>\n",
       "    </tr>\n",
       "    <tr>\n",
       "      <th>4</th>\n",
       "      <td>4</td>\n",
       "      <td>2</td>\n",
       "      <td>3</td>\n",
       "      <td>Mexico</td>\n",
       "      <td>1984200.0</td>\n",
       "      <td>failed</td>\n",
       "      <td>Restaurants</td>\n",
       "      <td>Restaurants</td>\n",
       "      <td>food/restaurants</td>\n",
       "      <td>Food</td>\n",
       "      <td>...</td>\n",
       "      <td>06:59:00</td>\n",
       "      <td>Saturday</td>\n",
       "      <td>58.937350</td>\n",
       "      <td>0.000002</td>\n",
       "      <td>es</td>\n",
       "      <td>Culture made restaurant! Learn indigenous lang...</td>\n",
       "      <td>0.00</td>\n",
       "      <td>0.00</td>\n",
       "      <td>108</td>\n",
       "      <td>[(16.0, 'learn indigenous languages \\u200b\\u20...</td>\n",
       "    </tr>\n",
       "    <tr>\n",
       "      <th>...</th>\n",
       "      <td>...</td>\n",
       "      <td>...</td>\n",
       "      <td>...</td>\n",
       "      <td>...</td>\n",
       "      <td>...</td>\n",
       "      <td>...</td>\n",
       "      <td>...</td>\n",
       "      <td>...</td>\n",
       "      <td>...</td>\n",
       "      <td>...</td>\n",
       "      <td>...</td>\n",
       "      <td>...</td>\n",
       "      <td>...</td>\n",
       "      <td>...</td>\n",
       "      <td>...</td>\n",
       "      <td>...</td>\n",
       "      <td>...</td>\n",
       "      <td>...</td>\n",
       "      <td>...</td>\n",
       "      <td>...</td>\n",
       "      <td>...</td>\n",
       "    </tr>\n",
       "    <tr>\n",
       "      <th>184549</th>\n",
       "      <td>175751</td>\n",
       "      <td>13</td>\n",
       "      <td>915</td>\n",
       "      <td>the United States</td>\n",
       "      <td>750.0</td>\n",
       "      <td>successful</td>\n",
       "      <td>Classical Music</td>\n",
       "      <td>Classical Music</td>\n",
       "      <td>music/classical music</td>\n",
       "      <td>Music</td>\n",
       "      <td>...</td>\n",
       "      <td>06:59:00</td>\n",
       "      <td>Sunday</td>\n",
       "      <td>39.400289</td>\n",
       "      <td>1.220000</td>\n",
       "      <td>en</td>\n",
       "      <td>An oboe recital with music and photography to ...</td>\n",
       "      <td>0.00</td>\n",
       "      <td>0.00</td>\n",
       "      <td>68</td>\n",
       "      <td>[(4.0, 'oboe recital'), (1.0, 'photography'), ...</td>\n",
       "    </tr>\n",
       "    <tr>\n",
       "      <th>184550</th>\n",
       "      <td>175752</td>\n",
       "      <td>52</td>\n",
       "      <td>2460</td>\n",
       "      <td>Canada</td>\n",
       "      <td>243000.0</td>\n",
       "      <td>failed</td>\n",
       "      <td>Community Gardens</td>\n",
       "      <td>Community Gardens</td>\n",
       "      <td>food/community gardens</td>\n",
       "      <td>Food</td>\n",
       "      <td>...</td>\n",
       "      <td>18:26:23</td>\n",
       "      <td>Wednesday</td>\n",
       "      <td>40.000000</td>\n",
       "      <td>0.010123</td>\n",
       "      <td>en</td>\n",
       "      <td>Growing fish and produce year round in the \"Po...</td>\n",
       "      <td>-0.15</td>\n",
       "      <td>0.33</td>\n",
       "      <td>111</td>\n",
       "      <td>[(9.0, 'produce year round'), (9.0, 'polar bea...</td>\n",
       "    </tr>\n",
       "    <tr>\n",
       "      <th>184551</th>\n",
       "      <td>175753</td>\n",
       "      <td>53</td>\n",
       "      <td>18758</td>\n",
       "      <td>the United States</td>\n",
       "      <td>18000.0</td>\n",
       "      <td>successful</td>\n",
       "      <td>Conceptual Art</td>\n",
       "      <td>Conceptual Art</td>\n",
       "      <td>art/conceptual art</td>\n",
       "      <td>Art</td>\n",
       "      <td>...</td>\n",
       "      <td>06:30:00</td>\n",
       "      <td>Thursday</td>\n",
       "      <td>40.375521</td>\n",
       "      <td>1.042111</td>\n",
       "      <td>en</td>\n",
       "      <td>MOMENTS OF INSIGHT is a project consisting of ...</td>\n",
       "      <td>0.00</td>\n",
       "      <td>0.00</td>\n",
       "      <td>122</td>\n",
       "      <td>[(4.0, 'topic published'), (4.0, 'project cons...</td>\n",
       "    </tr>\n",
       "    <tr>\n",
       "      <th>184552</th>\n",
       "      <td>175754</td>\n",
       "      <td>0</td>\n",
       "      <td>0</td>\n",
       "      <td>Canada</td>\n",
       "      <td>1500.0</td>\n",
       "      <td>failed</td>\n",
       "      <td>Fine Art</td>\n",
       "      <td>Fine Art</td>\n",
       "      <td>photography/fine art</td>\n",
       "      <td>Photography</td>\n",
       "      <td>...</td>\n",
       "      <td>17:23:00</td>\n",
       "      <td>Thursday</td>\n",
       "      <td>12.852025</td>\n",
       "      <td>0.000000</td>\n",
       "      <td>en</td>\n",
       "      <td>Would like to be able to photograph dream wedd...</td>\n",
       "      <td>0.60</td>\n",
       "      <td>0.75</td>\n",
       "      <td>110</td>\n",
       "      <td>[(9.0, 'photograph dream weddings'), (4.0, 'wo...</td>\n",
       "    </tr>\n",
       "    <tr>\n",
       "      <th>184553</th>\n",
       "      <td>175755</td>\n",
       "      <td>2076</td>\n",
       "      <td>304142</td>\n",
       "      <td>the United States</td>\n",
       "      <td>75000.0</td>\n",
       "      <td>successful</td>\n",
       "      <td>Drinks</td>\n",
       "      <td>Drinks</td>\n",
       "      <td>food/drinks</td>\n",
       "      <td>Food</td>\n",
       "      <td>...</td>\n",
       "      <td>04:00:00</td>\n",
       "      <td>Friday</td>\n",
       "      <td>38.448171</td>\n",
       "      <td>4.055227</td>\n",
       "      <td>en</td>\n",
       "      <td>COLD, FRESH, &amp; CARBONATED wherever you go! Cas...</td>\n",
       "      <td>-0.01</td>\n",
       "      <td>0.34</td>\n",
       "      <td>132</td>\n",
       "      <td>[(9.0, 'regulating keg cap'), (4.0, 'vacuum in...</td>\n",
       "    </tr>\n",
       "  </tbody>\n",
       "</table>\n",
       "<p>184554 rows × 27 columns</p>\n",
       "</div>"
      ],
      "text/plain": [
       "        Unnamed: 0  backers_count  converted_pledged_amount  \\\n",
       "0                0             42                      2048   \n",
       "1                1            120                     31718   \n",
       "2                2              2                         2   \n",
       "3                3            813                     22905   \n",
       "4                4              2                         3   \n",
       "...            ...            ...                       ...   \n",
       "184549      175751             13                       915   \n",
       "184550      175752             52                      2460   \n",
       "184551      175753             53                     18758   \n",
       "184552      175754              0                         0   \n",
       "184553      175755           2076                    304142   \n",
       "\n",
       "       country_displayable_name       goal       state      category_name  \\\n",
       "0             the United States     2000.0  successful   Radio & Podcasts   \n",
       "1             the United States    10000.0  successful         Technology   \n",
       "2                       Germany     3500.0      failed   Radio & Podcasts   \n",
       "3                         Italy    12000.0  successful             Comedy   \n",
       "4                        Mexico  1984200.0      failed        Restaurants   \n",
       "...                         ...        ...         ...                ...   \n",
       "184549        the United States      750.0  successful    Classical Music   \n",
       "184550                   Canada   243000.0      failed  Community Gardens   \n",
       "184551        the United States    18000.0  successful     Conceptual Art   \n",
       "184552                   Canada     1500.0      failed           Fine Art   \n",
       "184553        the United States    75000.0  successful             Drinks   \n",
       "\n",
       "       category_analytics_name                category_slug  \\\n",
       "0             Radio & Podcasts  publishing/radio & podcasts   \n",
       "1                   Technology                   technology   \n",
       "2             Radio & Podcasts  publishing/radio & podcasts   \n",
       "3                       Comedy          film & video/comedy   \n",
       "4                  Restaurants             food/restaurants   \n",
       "...                        ...                          ...   \n",
       "184549         Classical Music        music/classical music   \n",
       "184550       Community Gardens       food/community gardens   \n",
       "184551          Conceptual Art           art/conceptual art   \n",
       "184552                Fine Art         photography/fine art   \n",
       "184553                  Drinks                  food/drinks   \n",
       "\n",
       "       category_parent_name  ... deadline_time deadline_weekday  \\\n",
       "0                Publishing  ...      23:00:00        Wednesday   \n",
       "1                       NaN  ...      09:00:02           Friday   \n",
       "2                Publishing  ...      02:49:47           Monday   \n",
       "3              Film & Video  ...      13:31:16          Tuesday   \n",
       "4                      Food  ...      06:59:00         Saturday   \n",
       "...                     ...  ...           ...              ...   \n",
       "184549                Music  ...      06:59:00           Sunday   \n",
       "184550                 Food  ...      18:26:23        Wednesday   \n",
       "184551                  Art  ...      06:30:00         Thursday   \n",
       "184552          Photography  ...      17:23:00         Thursday   \n",
       "184553                 Food  ...      04:00:00           Friday   \n",
       "\n",
       "       project_duration funded_rate blurb_language  \\\n",
       "0             30.334375    1.024000             es   \n",
       "1             45.000000    3.171800             he   \n",
       "2             59.958333    0.000571             de   \n",
       "3             60.000000    1.908750             it   \n",
       "4             58.937350    0.000002             es   \n",
       "...                 ...         ...            ...   \n",
       "184549        39.400289    1.220000             en   \n",
       "184550        40.000000    0.010123             en   \n",
       "184551        40.375521    1.042111             en   \n",
       "184552        12.852025    0.000000             en   \n",
       "184553        38.448171    4.055227             en   \n",
       "\n",
       "                                              description description_pol  \\\n",
       "0                An audio drama sci-fi/fantasy podcast...            0.00   \n",
       "1       • Smart • Light • Breathable • Connected • Com...            0.34   \n",
       "2       Young couple dreams of making other people's d...            0.23   \n",
       "3           The second trip to Japan of the Steel Trident            0.00   \n",
       "4       Culture made restaurant! Learn indigenous lang...            0.00   \n",
       "...                                                   ...             ...   \n",
       "184549  An oboe recital with music and photography to ...            0.00   \n",
       "184550  Growing fish and produce year round in the \"Po...           -0.15   \n",
       "184551  MOMENTS OF INSIGHT is a project consisting of ...            0.00   \n",
       "184552  Would like to be able to photograph dream wedd...            0.60   \n",
       "184553  COLD, FRESH, & CARBONATED wherever you go! Cas...           -0.01   \n",
       "\n",
       "       description_sub description_len  \\\n",
       "0                 0.00              40   \n",
       "1                 0.71              56   \n",
       "2                 0.58             117   \n",
       "3                 0.00              45   \n",
       "4                 0.00             108   \n",
       "...                ...             ...   \n",
       "184549            0.00              68   \n",
       "184550            0.33             111   \n",
       "184551            0.00             122   \n",
       "184552            0.75             110   \n",
       "184553            0.34             132   \n",
       "\n",
       "                                           description_kw  \n",
       "0       [(9.0, 'fantasy podcast ...'), (9.0, 'audio dr...  \n",
       "1       [(121.0, '• smart • light • breathable • conne...  \n",
       "2       [(9.0, 'young couple dreams'), (9.0, 'experien...  \n",
       "3       [(4.0, 'steel trident'), (4.0, 'second trip'),...  \n",
       "4       [(16.0, 'learn indigenous languages \\u200b\\u20...  \n",
       "...                                                   ...  \n",
       "184549  [(4.0, 'oboe recital'), (1.0, 'photography'), ...  \n",
       "184550  [(9.0, 'produce year round'), (9.0, 'polar bea...  \n",
       "184551  [(4.0, 'topic published'), (4.0, 'project cons...  \n",
       "184552  [(9.0, 'photograph dream weddings'), (4.0, 'wo...  \n",
       "184553  [(9.0, 'regulating keg cap'), (4.0, 'vacuum in...  \n",
       "\n",
       "[184554 rows x 27 columns]"
      ]
     },
     "execution_count": 36,
     "metadata": {},
     "output_type": "execute_result"
    }
   ],
   "source": [
    "df"
   ]
  },
  {
   "cell_type": "markdown",
   "metadata": {},
   "source": [
    "### split numeric and categorical data"
   ]
  },
  {
   "cell_type": "code",
   "execution_count": 6,
   "metadata": {},
   "outputs": [],
   "source": [
    "num_df = df.select_dtypes(include = np.number)\n",
    "cat_df = df.select_dtypes(include = object)"
   ]
  },
  {
   "cell_type": "markdown",
   "metadata": {},
   "source": [
    "## Exploratory Data Analysis"
   ]
  },
  {
   "cell_type": "markdown",
   "metadata": {},
   "source": [
    "### validate target variable"
   ]
  },
  {
   "cell_type": "markdown",
   "metadata": {},
   "source": [
    "\"As of July 2021, the success rate of fully funding a project on the crowdfunding website was 38.92 percent. Overall, 5.4 billion U.S. dollars have gone into successfully launched projects.\"\n",
    "\n",
    "https://www.statista.com/statistics/235405/kickstarter-project-funding-success-rate/"
   ]
  },
  {
   "cell_type": "code",
   "execution_count": 13,
   "metadata": {},
   "outputs": [
    {
     "data": {
      "text/html": [
       "<div>\n",
       "<style scoped>\n",
       "    .dataframe tbody tr th:only-of-type {\n",
       "        vertical-align: middle;\n",
       "    }\n",
       "\n",
       "    .dataframe tbody tr th {\n",
       "        vertical-align: top;\n",
       "    }\n",
       "\n",
       "    .dataframe thead th {\n",
       "        text-align: right;\n",
       "    }\n",
       "</style>\n",
       "<table border=\"1\" class=\"dataframe\">\n",
       "  <thead>\n",
       "    <tr style=\"text-align: right;\">\n",
       "      <th>state</th>\n",
       "      <th>failed</th>\n",
       "      <th>successful</th>\n",
       "    </tr>\n",
       "    <tr>\n",
       "      <th>category_parent_name</th>\n",
       "      <th></th>\n",
       "      <th></th>\n",
       "    </tr>\n",
       "  </thead>\n",
       "  <tbody>\n",
       "    <tr>\n",
       "      <th>Art</th>\n",
       "      <td>7866</td>\n",
       "      <td>11029</td>\n",
       "    </tr>\n",
       "    <tr>\n",
       "      <th>Comics</th>\n",
       "      <td>740</td>\n",
       "      <td>6047</td>\n",
       "    </tr>\n",
       "    <tr>\n",
       "      <th>Crafts</th>\n",
       "      <td>3728</td>\n",
       "      <td>1484</td>\n",
       "    </tr>\n",
       "    <tr>\n",
       "      <th>Dance</th>\n",
       "      <td>691</td>\n",
       "      <td>1025</td>\n",
       "    </tr>\n",
       "    <tr>\n",
       "      <th>Design</th>\n",
       "      <td>2589</td>\n",
       "      <td>4144</td>\n",
       "    </tr>\n",
       "    <tr>\n",
       "      <th>Fashion</th>\n",
       "      <td>3596</td>\n",
       "      <td>6256</td>\n",
       "    </tr>\n",
       "    <tr>\n",
       "      <th>Film &amp; Video</th>\n",
       "      <td>10228</td>\n",
       "      <td>15077</td>\n",
       "    </tr>\n",
       "    <tr>\n",
       "      <th>Food</th>\n",
       "      <td>9998</td>\n",
       "      <td>4284</td>\n",
       "    </tr>\n",
       "    <tr>\n",
       "      <th>Games</th>\n",
       "      <td>3422</td>\n",
       "      <td>7861</td>\n",
       "    </tr>\n",
       "    <tr>\n",
       "      <th>Journalism</th>\n",
       "      <td>2594</td>\n",
       "      <td>824</td>\n",
       "    </tr>\n",
       "    <tr>\n",
       "      <th>Music</th>\n",
       "      <td>8235</td>\n",
       "      <td>17042</td>\n",
       "    </tr>\n",
       "    <tr>\n",
       "      <th>Photography</th>\n",
       "      <td>3697</td>\n",
       "      <td>2202</td>\n",
       "    </tr>\n",
       "    <tr>\n",
       "      <th>Publishing</th>\n",
       "      <td>5488</td>\n",
       "      <td>13013</td>\n",
       "    </tr>\n",
       "    <tr>\n",
       "      <th>Technology</th>\n",
       "      <td>11000</td>\n",
       "      <td>7851</td>\n",
       "    </tr>\n",
       "    <tr>\n",
       "      <th>Theater</th>\n",
       "      <td>1850</td>\n",
       "      <td>2865</td>\n",
       "    </tr>\n",
       "  </tbody>\n",
       "</table>\n",
       "</div>"
      ],
      "text/plain": [
       "state                 failed  successful\n",
       "category_parent_name                    \n",
       "Art                     7866       11029\n",
       "Comics                   740        6047\n",
       "Crafts                  3728        1484\n",
       "Dance                    691        1025\n",
       "Design                  2589        4144\n",
       "Fashion                 3596        6256\n",
       "Film & Video           10228       15077\n",
       "Food                    9998        4284\n",
       "Games                   3422        7861\n",
       "Journalism              2594         824\n",
       "Music                   8235       17042\n",
       "Photography             3697        2202\n",
       "Publishing              5488       13013\n",
       "Technology             11000        7851\n",
       "Theater                 1850        2865"
      ]
     },
     "execution_count": 13,
     "metadata": {},
     "output_type": "execute_result"
    }
   ],
   "source": [
    "data_crosstab = pd.crosstab(df['category_parent_name'], df['state'], margins = False)\n",
    "data_crosstab"
   ]
  },
  {
   "cell_type": "markdown",
   "metadata": {},
   "source": [
    "### numerical variables"
   ]
  },
  {
   "cell_type": "code",
   "execution_count": 16,
   "metadata": {},
   "outputs": [
    {
     "data": {
      "text/html": [
       "<div>\n",
       "<style scoped>\n",
       "    .dataframe tbody tr th:only-of-type {\n",
       "        vertical-align: middle;\n",
       "    }\n",
       "\n",
       "    .dataframe tbody tr th {\n",
       "        vertical-align: top;\n",
       "    }\n",
       "\n",
       "    .dataframe thead th {\n",
       "        text-align: right;\n",
       "    }\n",
       "</style>\n",
       "<table border=\"1\" class=\"dataframe\">\n",
       "  <thead>\n",
       "    <tr style=\"text-align: right;\">\n",
       "      <th></th>\n",
       "      <th>backers_count</th>\n",
       "      <th>converted_pledged_amount</th>\n",
       "      <th>goal</th>\n",
       "      <th>project_duration</th>\n",
       "      <th>funded_rate</th>\n",
       "      <th>description_pol</th>\n",
       "      <th>description_sub</th>\n",
       "      <th>description_len</th>\n",
       "    </tr>\n",
       "  </thead>\n",
       "  <tbody>\n",
       "    <tr>\n",
       "      <th>count</th>\n",
       "      <td>184554.000000</td>\n",
       "      <td>1.845540e+05</td>\n",
       "      <td>1.845540e+05</td>\n",
       "      <td>184554.000000</td>\n",
       "      <td>184554.000000</td>\n",
       "      <td>184554.000000</td>\n",
       "      <td>184554.000000</td>\n",
       "      <td>184554.000000</td>\n",
       "    </tr>\n",
       "    <tr>\n",
       "      <th>mean</th>\n",
       "      <td>151.285532</td>\n",
       "      <td>1.379375e+04</td>\n",
       "      <td>5.112085e+04</td>\n",
       "      <td>32.946577</td>\n",
       "      <td>5.704319</td>\n",
       "      <td>0.144606</td>\n",
       "      <td>0.388010</td>\n",
       "      <td>107.143514</td>\n",
       "    </tr>\n",
       "    <tr>\n",
       "      <th>std</th>\n",
       "      <td>952.827383</td>\n",
       "      <td>1.049853e+05</td>\n",
       "      <td>1.190780e+06</td>\n",
       "      <td>12.230402</td>\n",
       "      <td>509.121583</td>\n",
       "      <td>0.253368</td>\n",
       "      <td>0.295322</td>\n",
       "      <td>30.040742</td>\n",
       "    </tr>\n",
       "    <tr>\n",
       "      <th>min</th>\n",
       "      <td>0.000000</td>\n",
       "      <td>0.000000e+00</td>\n",
       "      <td>1.000000e-02</td>\n",
       "      <td>1.000000</td>\n",
       "      <td>0.000000</td>\n",
       "      <td>-1.000000</td>\n",
       "      <td>0.000000</td>\n",
       "      <td>0.000000</td>\n",
       "    </tr>\n",
       "    <tr>\n",
       "      <th>25%</th>\n",
       "      <td>4.000000</td>\n",
       "      <td>1.220000e+02</td>\n",
       "      <td>1.500000e+03</td>\n",
       "      <td>29.958333</td>\n",
       "      <td>0.025100</td>\n",
       "      <td>0.000000</td>\n",
       "      <td>0.100000</td>\n",
       "      <td>91.000000</td>\n",
       "    </tr>\n",
       "    <tr>\n",
       "      <th>50%</th>\n",
       "      <td>29.000000</td>\n",
       "      <td>1.645000e+03</td>\n",
       "      <td>5.000000e+03</td>\n",
       "      <td>30.000000</td>\n",
       "      <td>1.015443</td>\n",
       "      <td>0.090000</td>\n",
       "      <td>0.400000</td>\n",
       "      <td>119.000000</td>\n",
       "    </tr>\n",
       "    <tr>\n",
       "      <th>75%</th>\n",
       "      <td>93.000000</td>\n",
       "      <td>6.840000e+03</td>\n",
       "      <td>1.500000e+04</td>\n",
       "      <td>35.000000</td>\n",
       "      <td>1.371000</td>\n",
       "      <td>0.290000</td>\n",
       "      <td>0.590000</td>\n",
       "      <td>130.000000</td>\n",
       "    </tr>\n",
       "    <tr>\n",
       "      <th>max</th>\n",
       "      <td>105857.000000</td>\n",
       "      <td>1.138545e+07</td>\n",
       "      <td>1.000000e+08</td>\n",
       "      <td>120.589687</td>\n",
       "      <td>194842.000000</td>\n",
       "      <td>1.000000</td>\n",
       "      <td>1.000000</td>\n",
       "      <td>610.000000</td>\n",
       "    </tr>\n",
       "  </tbody>\n",
       "</table>\n",
       "</div>"
      ],
      "text/plain": [
       "       backers_count  converted_pledged_amount          goal  \\\n",
       "count  184554.000000              1.845540e+05  1.845540e+05   \n",
       "mean      151.285532              1.379375e+04  5.112085e+04   \n",
       "std       952.827383              1.049853e+05  1.190780e+06   \n",
       "min         0.000000              0.000000e+00  1.000000e-02   \n",
       "25%         4.000000              1.220000e+02  1.500000e+03   \n",
       "50%        29.000000              1.645000e+03  5.000000e+03   \n",
       "75%        93.000000              6.840000e+03  1.500000e+04   \n",
       "max    105857.000000              1.138545e+07  1.000000e+08   \n",
       "\n",
       "       project_duration    funded_rate  description_pol  description_sub  \\\n",
       "count     184554.000000  184554.000000    184554.000000    184554.000000   \n",
       "mean          32.946577       5.704319         0.144606         0.388010   \n",
       "std           12.230402     509.121583         0.253368         0.295322   \n",
       "min            1.000000       0.000000        -1.000000         0.000000   \n",
       "25%           29.958333       0.025100         0.000000         0.100000   \n",
       "50%           30.000000       1.015443         0.090000         0.400000   \n",
       "75%           35.000000       1.371000         0.290000         0.590000   \n",
       "max          120.589687  194842.000000         1.000000         1.000000   \n",
       "\n",
       "       description_len  \n",
       "count    184554.000000  \n",
       "mean        107.143514  \n",
       "std          30.040742  \n",
       "min           0.000000  \n",
       "25%          91.000000  \n",
       "50%         119.000000  \n",
       "75%         130.000000  \n",
       "max         610.000000  "
      ]
     },
     "execution_count": 16,
     "metadata": {},
     "output_type": "execute_result"
    }
   ],
   "source": [
    "num_df.describe()"
   ]
  },
  {
   "cell_type": "code",
   "execution_count": 18,
   "metadata": {
    "scrolled": false
   },
   "outputs": [
    {
     "data": {
      "image/png": "[encoded data removed]",
      "text/plain": [
       "<Figure size 432x288 with 1 Axes>"
      ]
     },
     "metadata": {
      "needs_background": "light"
     },
     "output_type": "display_data"
    },
    {
     "data": {
      "image/png": "[encoded data removed]",
      "text/plain": [
       "<Figure size 432x288 with 1 Axes>"
      ]
     },
     "metadata": {
      "needs_background": "light"
     },
     "output_type": "display_data"
    },
    {
     "data": {
      "image/png": "[encoded data removed]",
      "text/plain": [
       "<Figure size 432x288 with 1 Axes>"
      ]
     },
     "metadata": {
      "needs_background": "light"
     },
     "output_type": "display_data"
    },
    {
     "data": {
      "image/png": "[encoded data removed]",
      "text/plain": [
       "<Figure size 432x288 with 1 Axes>"
      ]
     },
     "metadata": {
      "needs_background": "light"
     },
     "output_type": "display_data"
    },
    {
     "data": {
      "image/png": "[encoded data removed]",
      "text/plain": [
       "<Figure size 432x288 with 1 Axes>"
      ]
     },
     "metadata": {
      "needs_background": "light"
     },
     "output_type": "display_data"
    },
    {
     "data": {
      "image/png": "[encoded data removed]",
      "text/plain": [
       "<Figure size 432x288 with 1 Axes>"
      ]
     },
     "metadata": {
      "needs_background": "light"
     },
     "output_type": "display_data"
    },
    {
     "data": {
      "image/png": "[encoded data removed]",
      "text/plain": [
       "<Figure size 432x288 with 1 Axes>"
      ]
     },
     "metadata": {
      "needs_background": "light"
     },
     "output_type": "display_data"
    },
    {
     "data": {
      "image/png": "[encoded data removed]",
      "text/plain": [
       "<Figure size 432x288 with 1 Axes>"
      ]
     },
     "metadata": {
      "needs_background": "light"
     },
     "output_type": "display_data"
    }
   ],
   "source": [
    "for column in df.select_dtypes(np.number).columns:\n",
    "    sns.scatterplot(data=df, x=\"state\", y=(df[column]))\n",
    "    plt.show()"
   ]
  },
  {
   "cell_type": "code",
   "execution_count": 19,
   "metadata": {},
   "outputs": [
    {
     "ename": "KeyboardInterrupt",
     "evalue": "",
     "output_type": "error",
     "traceback": [
      "\u001b[1;31m---------------------------------------------------------------------------\u001b[0m",
      "\u001b[1;31mKeyboardInterrupt\u001b[0m                         Traceback (most recent call last)",
      "\u001b[1;32m<ipython-input-19-d00044e089d1>\u001b[0m in \u001b[0;36m<module>\u001b[1;34m\u001b[0m\n\u001b[1;32m----> 1\u001b[1;33m \u001b[0msns\u001b[0m\u001b[1;33m.\u001b[0m\u001b[0mpairplot\u001b[0m\u001b[1;33m(\u001b[0m\u001b[0mnum_df\u001b[0m\u001b[1;33m)\u001b[0m\u001b[1;33m\u001b[0m\u001b[1;33m\u001b[0m\u001b[0m\n\u001b[0m",
      "\u001b[1;32m~\\anaconda3\\lib\\site-packages\\seaborn\\_decorators.py\u001b[0m in \u001b[0;36minner_f\u001b[1;34m(*args, **kwargs)\u001b[0m\n\u001b[0;32m     44\u001b[0m             )\n\u001b[0;32m     45\u001b[0m         \u001b[0mkwargs\u001b[0m\u001b[1;33m.\u001b[0m\u001b[0mupdate\u001b[0m\u001b[1;33m(\u001b[0m\u001b[1;33m{\u001b[0m\u001b[0mk\u001b[0m\u001b[1;33m:\u001b[0m \u001b[0marg\u001b[0m \u001b[1;32mfor\u001b[0m \u001b[0mk\u001b[0m\u001b[1;33m,\u001b[0m \u001b[0marg\u001b[0m \u001b[1;32min\u001b[0m \u001b[0mzip\u001b[0m\u001b[1;33m(\u001b[0m\u001b[0msig\u001b[0m\u001b[1;33m.\u001b[0m\u001b[0mparameters\u001b[0m\u001b[1;33m,\u001b[0m \u001b[0margs\u001b[0m\u001b[1;33m)\u001b[0m\u001b[1;33m}\u001b[0m\u001b[1;33m)\u001b[0m\u001b[1;33m\u001b[0m\u001b[1;33m\u001b[0m\u001b[0m\n\u001b[1;32m---> 46\u001b[1;33m         \u001b[1;32mreturn\u001b[0m \u001b[0mf\u001b[0m\u001b[1;33m(\u001b[0m\u001b[1;33m**\u001b[0m\u001b[0mkwargs\u001b[0m\u001b[1;33m)\u001b[0m\u001b[1;33m\u001b[0m\u001b[1;33m\u001b[0m\u001b[0m\n\u001b[0m\u001b[0;32m     47\u001b[0m     \u001b[1;32mreturn\u001b[0m \u001b[0minner_f\u001b[0m\u001b[1;33m\u001b[0m\u001b[1;33m\u001b[0m\u001b[0m\n\u001b[0;32m     48\u001b[0m \u001b[1;33m\u001b[0m\u001b[0m\n",
      "\u001b[1;32m~\\anaconda3\\lib\\site-packages\\seaborn\\axisgrid.py\u001b[0m in \u001b[0;36mpairplot\u001b[1;34m(data, hue, hue_order, palette, vars, x_vars, y_vars, kind, diag_kind, markers, height, aspect, corner, dropna, plot_kws, diag_kws, grid_kws, size)\u001b[0m\n\u001b[0;32m   1959\u001b[0m     \u001b[0mdiag_kws\u001b[0m\u001b[1;33m.\u001b[0m\u001b[0msetdefault\u001b[0m\u001b[1;33m(\u001b[0m\u001b[1;34m\"legend\"\u001b[0m\u001b[1;33m,\u001b[0m \u001b[1;32mFalse\u001b[0m\u001b[1;33m)\u001b[0m\u001b[1;33m\u001b[0m\u001b[1;33m\u001b[0m\u001b[0m\n\u001b[0;32m   1960\u001b[0m     \u001b[1;32mif\u001b[0m \u001b[0mdiag_kind\u001b[0m \u001b[1;33m==\u001b[0m \u001b[1;34m\"hist\"\u001b[0m\u001b[1;33m:\u001b[0m\u001b[1;33m\u001b[0m\u001b[1;33m\u001b[0m\u001b[0m\n\u001b[1;32m-> 1961\u001b[1;33m         \u001b[0mgrid\u001b[0m\u001b[1;33m.\u001b[0m\u001b[0mmap_diag\u001b[0m\u001b[1;33m(\u001b[0m\u001b[0mhistplot\u001b[0m\u001b[1;33m,\u001b[0m \u001b[1;33m**\u001b[0m\u001b[0mdiag_kws\u001b[0m\u001b[1;33m)\u001b[0m\u001b[1;33m\u001b[0m\u001b[1;33m\u001b[0m\u001b[0m\n\u001b[0m\u001b[0;32m   1962\u001b[0m     \u001b[1;32melif\u001b[0m \u001b[0mdiag_kind\u001b[0m \u001b[1;33m==\u001b[0m \u001b[1;34m\"kde\"\u001b[0m\u001b[1;33m:\u001b[0m\u001b[1;33m\u001b[0m\u001b[1;33m\u001b[0m\u001b[0m\n\u001b[0;32m   1963\u001b[0m         \u001b[0mdiag_kws\u001b[0m\u001b[1;33m.\u001b[0m\u001b[0msetdefault\u001b[0m\u001b[1;33m(\u001b[0m\u001b[1;34m\"fill\"\u001b[0m\u001b[1;33m,\u001b[0m \u001b[1;32mTrue\u001b[0m\u001b[1;33m)\u001b[0m\u001b[1;33m\u001b[0m\u001b[1;33m\u001b[0m\u001b[0m\n",
      "\u001b[1;32m~\\anaconda3\\lib\\site-packages\\seaborn\\axisgrid.py\u001b[0m in \u001b[0;36mmap_diag\u001b[1;34m(self, func, **kwargs)\u001b[0m\n\u001b[0;32m   1375\u001b[0m             \u001b[0mplot_kwargs\u001b[0m\u001b[1;33m.\u001b[0m\u001b[0msetdefault\u001b[0m\u001b[1;33m(\u001b[0m\u001b[1;34m\"hue_order\"\u001b[0m\u001b[1;33m,\u001b[0m \u001b[0mself\u001b[0m\u001b[1;33m.\u001b[0m\u001b[0m_hue_order\u001b[0m\u001b[1;33m)\u001b[0m\u001b[1;33m\u001b[0m\u001b[1;33m\u001b[0m\u001b[0m\n\u001b[0;32m   1376\u001b[0m             \u001b[0mplot_kwargs\u001b[0m\u001b[1;33m.\u001b[0m\u001b[0msetdefault\u001b[0m\u001b[1;33m(\u001b[0m\u001b[1;34m\"palette\"\u001b[0m\u001b[1;33m,\u001b[0m \u001b[0mself\u001b[0m\u001b[1;33m.\u001b[0m\u001b[0m_orig_palette\u001b[0m\u001b[1;33m)\u001b[0m\u001b[1;33m\u001b[0m\u001b[1;33m\u001b[0m\u001b[0m\n\u001b[1;32m-> 1377\u001b[1;33m             \u001b[0mfunc\u001b[0m\u001b[1;33m(\u001b[0m\u001b[0mx\u001b[0m\u001b[1;33m=\u001b[0m\u001b[0mvector\u001b[0m\u001b[1;33m,\u001b[0m \u001b[1;33m**\u001b[0m\u001b[0mplot_kwargs\u001b[0m\u001b[1;33m)\u001b[0m\u001b[1;33m\u001b[0m\u001b[1;33m\u001b[0m\u001b[0m\n\u001b[0m\u001b[0;32m   1378\u001b[0m             \u001b[0mself\u001b[0m\u001b[1;33m.\u001b[0m\u001b[0m_clean_axis\u001b[0m\u001b[1;33m(\u001b[0m\u001b[0max\u001b[0m\u001b[1;33m)\u001b[0m\u001b[1;33m\u001b[0m\u001b[1;33m\u001b[0m\u001b[0m\n\u001b[0;32m   1379\u001b[0m \u001b[1;33m\u001b[0m\u001b[0m\n",
      "\u001b[1;32m~\\anaconda3\\lib\\site-packages\\seaborn\\distributions.py\u001b[0m in \u001b[0;36mhistplot\u001b[1;34m(data, x, y, hue, weights, stat, bins, binwidth, binrange, discrete, cumulative, common_bins, common_norm, multiple, element, fill, shrink, kde, kde_kws, line_kws, thresh, pthresh, pmax, cbar, cbar_ax, cbar_kws, palette, hue_order, hue_norm, color, log_scale, legend, ax, **kwargs)\u001b[0m\n\u001b[0;32m   1420\u001b[0m     \u001b[1;32mif\u001b[0m \u001b[0mp\u001b[0m\u001b[1;33m.\u001b[0m\u001b[0munivariate\u001b[0m\u001b[1;33m:\u001b[0m\u001b[1;33m\u001b[0m\u001b[1;33m\u001b[0m\u001b[0m\n\u001b[0;32m   1421\u001b[0m \u001b[1;33m\u001b[0m\u001b[0m\n\u001b[1;32m-> 1422\u001b[1;33m         p.plot_univariate_histogram(\n\u001b[0m\u001b[0;32m   1423\u001b[0m             \u001b[0mmultiple\u001b[0m\u001b[1;33m=\u001b[0m\u001b[0mmultiple\u001b[0m\u001b[1;33m,\u001b[0m\u001b[1;33m\u001b[0m\u001b[1;33m\u001b[0m\u001b[0m\n\u001b[0;32m   1424\u001b[0m             \u001b[0melement\u001b[0m\u001b[1;33m=\u001b[0m\u001b[0melement\u001b[0m\u001b[1;33m,\u001b[0m\u001b[1;33m\u001b[0m\u001b[1;33m\u001b[0m\u001b[0m\n",
      "\u001b[1;32m~\\anaconda3\\lib\\site-packages\\seaborn\\distributions.py\u001b[0m in \u001b[0;36mplot_univariate_histogram\u001b[1;34m(self, multiple, element, fill, common_norm, common_bins, shrink, kde, kde_kws, color, legend, line_kws, estimate_kws, **plot_kws)\u001b[0m\n\u001b[0;32m    552\u001b[0m                 \u001b[0mplot_func\u001b[0m \u001b[1;33m=\u001b[0m \u001b[0max\u001b[0m\u001b[1;33m.\u001b[0m\u001b[0mbar\u001b[0m \u001b[1;32mif\u001b[0m \u001b[0mself\u001b[0m\u001b[1;33m.\u001b[0m\u001b[0mdata_variable\u001b[0m \u001b[1;33m==\u001b[0m \u001b[1;34m\"x\"\u001b[0m \u001b[1;32melse\u001b[0m \u001b[0max\u001b[0m\u001b[1;33m.\u001b[0m\u001b[0mbarh\u001b[0m\u001b[1;33m\u001b[0m\u001b[1;33m\u001b[0m\u001b[0m\n\u001b[0;32m    553\u001b[0m                 \u001b[0mmove\u001b[0m \u001b[1;33m=\u001b[0m \u001b[1;36m.5\u001b[0m \u001b[1;33m*\u001b[0m \u001b[1;33m(\u001b[0m\u001b[1;36m1\u001b[0m \u001b[1;33m-\u001b[0m \u001b[0mshrink\u001b[0m\u001b[1;33m)\u001b[0m\u001b[1;33m\u001b[0m\u001b[1;33m\u001b[0m\u001b[0m\n\u001b[1;32m--> 554\u001b[1;33m                 artists = plot_func(\n\u001b[0m\u001b[0;32m    555\u001b[0m                     \u001b[0mhist\u001b[0m\u001b[1;33m[\u001b[0m\u001b[1;34m\"edges\"\u001b[0m\u001b[1;33m]\u001b[0m \u001b[1;33m+\u001b[0m \u001b[0mmove\u001b[0m\u001b[1;33m,\u001b[0m\u001b[1;33m\u001b[0m\u001b[1;33m\u001b[0m\u001b[0m\n\u001b[0;32m    556\u001b[0m                     \u001b[0mhist\u001b[0m\u001b[1;33m[\u001b[0m\u001b[1;34m\"heights\"\u001b[0m\u001b[1;33m]\u001b[0m \u001b[1;33m-\u001b[0m \u001b[0mbottom\u001b[0m\u001b[1;33m,\u001b[0m\u001b[1;33m\u001b[0m\u001b[1;33m\u001b[0m\u001b[0m\n",
      "\u001b[1;32m~\\anaconda3\\lib\\site-packages\\matplotlib\\__init__.py\u001b[0m in \u001b[0;36minner\u001b[1;34m(ax, data, *args, **kwargs)\u001b[0m\n\u001b[0;32m   1436\u001b[0m     \u001b[1;32mdef\u001b[0m \u001b[0minner\u001b[0m\u001b[1;33m(\u001b[0m\u001b[0max\u001b[0m\u001b[1;33m,\u001b[0m \u001b[1;33m*\u001b[0m\u001b[0margs\u001b[0m\u001b[1;33m,\u001b[0m \u001b[0mdata\u001b[0m\u001b[1;33m=\u001b[0m\u001b[1;32mNone\u001b[0m\u001b[1;33m,\u001b[0m \u001b[1;33m**\u001b[0m\u001b[0mkwargs\u001b[0m\u001b[1;33m)\u001b[0m\u001b[1;33m:\u001b[0m\u001b[1;33m\u001b[0m\u001b[1;33m\u001b[0m\u001b[0m\n\u001b[0;32m   1437\u001b[0m         \u001b[1;32mif\u001b[0m \u001b[0mdata\u001b[0m \u001b[1;32mis\u001b[0m \u001b[1;32mNone\u001b[0m\u001b[1;33m:\u001b[0m\u001b[1;33m\u001b[0m\u001b[1;33m\u001b[0m\u001b[0m\n\u001b[1;32m-> 1438\u001b[1;33m             \u001b[1;32mreturn\u001b[0m \u001b[0mfunc\u001b[0m\u001b[1;33m(\u001b[0m\u001b[0max\u001b[0m\u001b[1;33m,\u001b[0m \u001b[1;33m*\u001b[0m\u001b[0mmap\u001b[0m\u001b[1;33m(\u001b[0m\u001b[0msanitize_sequence\u001b[0m\u001b[1;33m,\u001b[0m \u001b[0margs\u001b[0m\u001b[1;33m)\u001b[0m\u001b[1;33m,\u001b[0m \u001b[1;33m**\u001b[0m\u001b[0mkwargs\u001b[0m\u001b[1;33m)\u001b[0m\u001b[1;33m\u001b[0m\u001b[1;33m\u001b[0m\u001b[0m\n\u001b[0m\u001b[0;32m   1439\u001b[0m \u001b[1;33m\u001b[0m\u001b[0m\n\u001b[0;32m   1440\u001b[0m         \u001b[0mbound\u001b[0m \u001b[1;33m=\u001b[0m \u001b[0mnew_sig\u001b[0m\u001b[1;33m.\u001b[0m\u001b[0mbind\u001b[0m\u001b[1;33m(\u001b[0m\u001b[0max\u001b[0m\u001b[1;33m,\u001b[0m \u001b[1;33m*\u001b[0m\u001b[0margs\u001b[0m\u001b[1;33m,\u001b[0m \u001b[1;33m**\u001b[0m\u001b[0mkwargs\u001b[0m\u001b[1;33m)\u001b[0m\u001b[1;33m\u001b[0m\u001b[1;33m\u001b[0m\u001b[0m\n",
      "\u001b[1;32m~\\anaconda3\\lib\\site-packages\\matplotlib\\axes\\_axes.py\u001b[0m in \u001b[0;36mbar\u001b[1;34m(self, x, height, width, bottom, align, **kwargs)\u001b[0m\n\u001b[0;32m   2492\u001b[0m             \u001b[1;32melif\u001b[0m \u001b[0morientation\u001b[0m \u001b[1;33m==\u001b[0m \u001b[1;34m'horizontal'\u001b[0m\u001b[1;33m:\u001b[0m\u001b[1;33m\u001b[0m\u001b[1;33m\u001b[0m\u001b[0m\n\u001b[0;32m   2493\u001b[0m                 \u001b[0mr\u001b[0m\u001b[1;33m.\u001b[0m\u001b[0msticky_edges\u001b[0m\u001b[1;33m.\u001b[0m\u001b[0mx\u001b[0m\u001b[1;33m.\u001b[0m\u001b[0mappend\u001b[0m\u001b[1;33m(\u001b[0m\u001b[0ml\u001b[0m\u001b[1;33m)\u001b[0m\u001b[1;33m\u001b[0m\u001b[1;33m\u001b[0m\u001b[0m\n\u001b[1;32m-> 2494\u001b[1;33m             \u001b[0mself\u001b[0m\u001b[1;33m.\u001b[0m\u001b[0madd_patch\u001b[0m\u001b[1;33m(\u001b[0m\u001b[0mr\u001b[0m\u001b[1;33m)\u001b[0m\u001b[1;33m\u001b[0m\u001b[1;33m\u001b[0m\u001b[0m\n\u001b[0m\u001b[0;32m   2495\u001b[0m             \u001b[0mpatches\u001b[0m\u001b[1;33m.\u001b[0m\u001b[0mappend\u001b[0m\u001b[1;33m(\u001b[0m\u001b[0mr\u001b[0m\u001b[1;33m)\u001b[0m\u001b[1;33m\u001b[0m\u001b[1;33m\u001b[0m\u001b[0m\n\u001b[0;32m   2496\u001b[0m \u001b[1;33m\u001b[0m\u001b[0m\n",
      "\u001b[1;32m~\\anaconda3\\lib\\site-packages\\matplotlib\\axes\\_base.py\u001b[0m in \u001b[0;36madd_patch\u001b[1;34m(self, p)\u001b[0m\n\u001b[0;32m   2031\u001b[0m         \u001b[1;32mif\u001b[0m \u001b[0mp\u001b[0m\u001b[1;33m.\u001b[0m\u001b[0mget_clip_path\u001b[0m\u001b[1;33m(\u001b[0m\u001b[1;33m)\u001b[0m \u001b[1;32mis\u001b[0m \u001b[1;32mNone\u001b[0m\u001b[1;33m:\u001b[0m\u001b[1;33m\u001b[0m\u001b[1;33m\u001b[0m\u001b[0m\n\u001b[0;32m   2032\u001b[0m             \u001b[0mp\u001b[0m\u001b[1;33m.\u001b[0m\u001b[0mset_clip_path\u001b[0m\u001b[1;33m(\u001b[0m\u001b[0mself\u001b[0m\u001b[1;33m.\u001b[0m\u001b[0mpatch\u001b[0m\u001b[1;33m)\u001b[0m\u001b[1;33m\u001b[0m\u001b[1;33m\u001b[0m\u001b[0m\n\u001b[1;32m-> 2033\u001b[1;33m         \u001b[0mself\u001b[0m\u001b[1;33m.\u001b[0m\u001b[0m_update_patch_limits\u001b[0m\u001b[1;33m(\u001b[0m\u001b[0mp\u001b[0m\u001b[1;33m)\u001b[0m\u001b[1;33m\u001b[0m\u001b[1;33m\u001b[0m\u001b[0m\n\u001b[0m\u001b[0;32m   2034\u001b[0m         \u001b[0mself\u001b[0m\u001b[1;33m.\u001b[0m\u001b[0mpatches\u001b[0m\u001b[1;33m.\u001b[0m\u001b[0mappend\u001b[0m\u001b[1;33m(\u001b[0m\u001b[0mp\u001b[0m\u001b[1;33m)\u001b[0m\u001b[1;33m\u001b[0m\u001b[1;33m\u001b[0m\u001b[0m\n\u001b[0;32m   2035\u001b[0m         \u001b[0mp\u001b[0m\u001b[1;33m.\u001b[0m\u001b[0m_remove_method\u001b[0m \u001b[1;33m=\u001b[0m \u001b[0mself\u001b[0m\u001b[1;33m.\u001b[0m\u001b[0mpatches\u001b[0m\u001b[1;33m.\u001b[0m\u001b[0mremove\u001b[0m\u001b[1;33m\u001b[0m\u001b[1;33m\u001b[0m\u001b[0m\n",
      "\u001b[1;32m~\\anaconda3\\lib\\site-packages\\matplotlib\\axes\\_base.py\u001b[0m in \u001b[0;36m_update_patch_limits\u001b[1;34m(self, patch)\u001b[0m\n\u001b[0;32m   2051\u001b[0m         \u001b[0mvertices\u001b[0m \u001b[1;33m=\u001b[0m \u001b[0mpatch\u001b[0m\u001b[1;33m.\u001b[0m\u001b[0mget_path\u001b[0m\u001b[1;33m(\u001b[0m\u001b[1;33m)\u001b[0m\u001b[1;33m.\u001b[0m\u001b[0mvertices\u001b[0m\u001b[1;33m\u001b[0m\u001b[1;33m\u001b[0m\u001b[0m\n\u001b[0;32m   2052\u001b[0m         \u001b[1;32mif\u001b[0m \u001b[0mvertices\u001b[0m\u001b[1;33m.\u001b[0m\u001b[0msize\u001b[0m \u001b[1;33m>\u001b[0m \u001b[1;36m0\u001b[0m\u001b[1;33m:\u001b[0m\u001b[1;33m\u001b[0m\u001b[1;33m\u001b[0m\u001b[0m\n\u001b[1;32m-> 2053\u001b[1;33m             \u001b[0mxys\u001b[0m \u001b[1;33m=\u001b[0m \u001b[0mpatch\u001b[0m\u001b[1;33m.\u001b[0m\u001b[0mget_patch_transform\u001b[0m\u001b[1;33m(\u001b[0m\u001b[1;33m)\u001b[0m\u001b[1;33m.\u001b[0m\u001b[0mtransform\u001b[0m\u001b[1;33m(\u001b[0m\u001b[0mvertices\u001b[0m\u001b[1;33m)\u001b[0m\u001b[1;33m\u001b[0m\u001b[1;33m\u001b[0m\u001b[0m\n\u001b[0m\u001b[0;32m   2054\u001b[0m             \u001b[1;32mif\u001b[0m \u001b[0mpatch\u001b[0m\u001b[1;33m.\u001b[0m\u001b[0mget_data_transform\u001b[0m\u001b[1;33m(\u001b[0m\u001b[1;33m)\u001b[0m \u001b[1;33m!=\u001b[0m \u001b[0mself\u001b[0m\u001b[1;33m.\u001b[0m\u001b[0mtransData\u001b[0m\u001b[1;33m:\u001b[0m\u001b[1;33m\u001b[0m\u001b[1;33m\u001b[0m\u001b[0m\n\u001b[0;32m   2055\u001b[0m                 patch_to_data = (patch.get_data_transform() -\n",
      "\u001b[1;32m~\\anaconda3\\lib\\site-packages\\matplotlib\\patches.py\u001b[0m in \u001b[0;36mget_patch_transform\u001b[1;34m(self)\u001b[0m\n\u001b[0;32m    790\u001b[0m \u001b[1;33m\u001b[0m\u001b[0m\n\u001b[0;32m    791\u001b[0m     \u001b[1;32mdef\u001b[0m \u001b[0mget_patch_transform\u001b[0m\u001b[1;33m(\u001b[0m\u001b[0mself\u001b[0m\u001b[1;33m)\u001b[0m\u001b[1;33m:\u001b[0m\u001b[1;33m\u001b[0m\u001b[1;33m\u001b[0m\u001b[0m\n\u001b[1;32m--> 792\u001b[1;33m         \u001b[0mself\u001b[0m\u001b[1;33m.\u001b[0m\u001b[0m_update_patch_transform\u001b[0m\u001b[1;33m(\u001b[0m\u001b[1;33m)\u001b[0m\u001b[1;33m\u001b[0m\u001b[1;33m\u001b[0m\u001b[0m\n\u001b[0m\u001b[0;32m    793\u001b[0m         \u001b[1;32mreturn\u001b[0m \u001b[0mself\u001b[0m\u001b[1;33m.\u001b[0m\u001b[0m_rect_transform\u001b[0m\u001b[1;33m\u001b[0m\u001b[1;33m\u001b[0m\u001b[0m\n\u001b[0;32m    794\u001b[0m \u001b[1;33m\u001b[0m\u001b[0m\n",
      "\u001b[1;32m~\\anaconda3\\lib\\site-packages\\matplotlib\\patches.py\u001b[0m in \u001b[0;36m_update_patch_transform\u001b[1;34m(self)\u001b[0m\n\u001b[0;32m    771\u001b[0m         \u001b[0mbbox\u001b[0m \u001b[1;33m=\u001b[0m \u001b[0mtransforms\u001b[0m\u001b[1;33m.\u001b[0m\u001b[0mBbox\u001b[0m\u001b[1;33m.\u001b[0m\u001b[0mfrom_extents\u001b[0m\u001b[1;33m(\u001b[0m\u001b[0mx0\u001b[0m\u001b[1;33m,\u001b[0m \u001b[0my0\u001b[0m\u001b[1;33m,\u001b[0m \u001b[0mx1\u001b[0m\u001b[1;33m,\u001b[0m \u001b[0my1\u001b[0m\u001b[1;33m)\u001b[0m\u001b[1;33m\u001b[0m\u001b[1;33m\u001b[0m\u001b[0m\n\u001b[0;32m    772\u001b[0m         \u001b[0mrot_trans\u001b[0m \u001b[1;33m=\u001b[0m \u001b[0mtransforms\u001b[0m\u001b[1;33m.\u001b[0m\u001b[0mAffine2D\u001b[0m\u001b[1;33m(\u001b[0m\u001b[1;33m)\u001b[0m\u001b[1;33m\u001b[0m\u001b[1;33m\u001b[0m\u001b[0m\n\u001b[1;32m--> 773\u001b[1;33m         \u001b[0mrot_trans\u001b[0m\u001b[1;33m.\u001b[0m\u001b[0mrotate_deg_around\u001b[0m\u001b[1;33m(\u001b[0m\u001b[0mx0\u001b[0m\u001b[1;33m,\u001b[0m \u001b[0my0\u001b[0m\u001b[1;33m,\u001b[0m \u001b[0mself\u001b[0m\u001b[1;33m.\u001b[0m\u001b[0mangle\u001b[0m\u001b[1;33m)\u001b[0m\u001b[1;33m\u001b[0m\u001b[1;33m\u001b[0m\u001b[0m\n\u001b[0m\u001b[0;32m    774\u001b[0m         \u001b[0mself\u001b[0m\u001b[1;33m.\u001b[0m\u001b[0m_rect_transform\u001b[0m \u001b[1;33m=\u001b[0m \u001b[0mtransforms\u001b[0m\u001b[1;33m.\u001b[0m\u001b[0mBboxTransformTo\u001b[0m\u001b[1;33m(\u001b[0m\u001b[0mbbox\u001b[0m\u001b[1;33m)\u001b[0m\u001b[1;33m\u001b[0m\u001b[1;33m\u001b[0m\u001b[0m\n\u001b[0;32m    775\u001b[0m         \u001b[0mself\u001b[0m\u001b[1;33m.\u001b[0m\u001b[0m_rect_transform\u001b[0m \u001b[1;33m+=\u001b[0m \u001b[0mrot_trans\u001b[0m\u001b[1;33m\u001b[0m\u001b[1;33m\u001b[0m\u001b[0m\n",
      "\u001b[1;32m~\\anaconda3\\lib\\site-packages\\matplotlib\\transforms.py\u001b[0m in \u001b[0;36mrotate_deg_around\u001b[1;34m(self, x, y, degrees)\u001b[0m\n\u001b[0;32m   1965\u001b[0m         \u001b[1;31m# Cast to float to avoid wraparound issues with uint8's\u001b[0m\u001b[1;33m\u001b[0m\u001b[1;33m\u001b[0m\u001b[1;33m\u001b[0m\u001b[0m\n\u001b[0;32m   1966\u001b[0m         \u001b[0mx\u001b[0m\u001b[1;33m,\u001b[0m \u001b[0my\u001b[0m \u001b[1;33m=\u001b[0m \u001b[0mfloat\u001b[0m\u001b[1;33m(\u001b[0m\u001b[0mx\u001b[0m\u001b[1;33m)\u001b[0m\u001b[1;33m,\u001b[0m \u001b[0mfloat\u001b[0m\u001b[1;33m(\u001b[0m\u001b[0my\u001b[0m\u001b[1;33m)\u001b[0m\u001b[1;33m\u001b[0m\u001b[1;33m\u001b[0m\u001b[0m\n\u001b[1;32m-> 1967\u001b[1;33m         \u001b[1;32mreturn\u001b[0m \u001b[0mself\u001b[0m\u001b[1;33m.\u001b[0m\u001b[0mtranslate\u001b[0m\u001b[1;33m(\u001b[0m\u001b[1;33m-\u001b[0m\u001b[0mx\u001b[0m\u001b[1;33m,\u001b[0m \u001b[1;33m-\u001b[0m\u001b[0my\u001b[0m\u001b[1;33m)\u001b[0m\u001b[1;33m.\u001b[0m\u001b[0mrotate_deg\u001b[0m\u001b[1;33m(\u001b[0m\u001b[0mdegrees\u001b[0m\u001b[1;33m)\u001b[0m\u001b[1;33m.\u001b[0m\u001b[0mtranslate\u001b[0m\u001b[1;33m(\u001b[0m\u001b[0mx\u001b[0m\u001b[1;33m,\u001b[0m \u001b[0my\u001b[0m\u001b[1;33m)\u001b[0m\u001b[1;33m\u001b[0m\u001b[1;33m\u001b[0m\u001b[0m\n\u001b[0m\u001b[0;32m   1968\u001b[0m \u001b[1;33m\u001b[0m\u001b[0m\n\u001b[0;32m   1969\u001b[0m     \u001b[1;32mdef\u001b[0m \u001b[0mtranslate\u001b[0m\u001b[1;33m(\u001b[0m\u001b[0mself\u001b[0m\u001b[1;33m,\u001b[0m \u001b[0mtx\u001b[0m\u001b[1;33m,\u001b[0m \u001b[0mty\u001b[0m\u001b[1;33m)\u001b[0m\u001b[1;33m:\u001b[0m\u001b[1;33m\u001b[0m\u001b[1;33m\u001b[0m\u001b[0m\n",
      "\u001b[1;32m~\\anaconda3\\lib\\site-packages\\matplotlib\\transforms.py\u001b[0m in \u001b[0;36mrotate_deg\u001b[1;34m(self, degrees)\u001b[0m\n\u001b[0;32m   1943\u001b[0m         \u001b[1;32mand\u001b[0m \u001b[1;33m:\u001b[0m\u001b[0mmeth\u001b[0m\u001b[1;33m:\u001b[0m\u001b[0;31m`\u001b[0m\u001b[0mscale\u001b[0m\u001b[0;31m`\u001b[0m\u001b[1;33m.\u001b[0m\u001b[1;33m\u001b[0m\u001b[1;33m\u001b[0m\u001b[0m\n\u001b[0;32m   1944\u001b[0m         \"\"\"\n\u001b[1;32m-> 1945\u001b[1;33m         \u001b[1;32mreturn\u001b[0m \u001b[0mself\u001b[0m\u001b[1;33m.\u001b[0m\u001b[0mrotate\u001b[0m\u001b[1;33m(\u001b[0m\u001b[0mmath\u001b[0m\u001b[1;33m.\u001b[0m\u001b[0mradians\u001b[0m\u001b[1;33m(\u001b[0m\u001b[0mdegrees\u001b[0m\u001b[1;33m)\u001b[0m\u001b[1;33m)\u001b[0m\u001b[1;33m\u001b[0m\u001b[1;33m\u001b[0m\u001b[0m\n\u001b[0m\u001b[0;32m   1946\u001b[0m \u001b[1;33m\u001b[0m\u001b[0m\n\u001b[0;32m   1947\u001b[0m     \u001b[1;32mdef\u001b[0m \u001b[0mrotate_around\u001b[0m\u001b[1;33m(\u001b[0m\u001b[0mself\u001b[0m\u001b[1;33m,\u001b[0m \u001b[0mx\u001b[0m\u001b[1;33m,\u001b[0m \u001b[0my\u001b[0m\u001b[1;33m,\u001b[0m \u001b[0mtheta\u001b[0m\u001b[1;33m)\u001b[0m\u001b[1;33m:\u001b[0m\u001b[1;33m\u001b[0m\u001b[1;33m\u001b[0m\u001b[0m\n",
      "\u001b[1;32m~\\anaconda3\\lib\\site-packages\\matplotlib\\transforms.py\u001b[0m in \u001b[0;36mrotate\u001b[1;34m(self, theta)\u001b[0m\n\u001b[0;32m   1931\u001b[0m         rotate_mtx = np.array([[a, -b, 0.0], [b, a, 0.0], [0.0, 0.0, 1.0]],\n\u001b[0;32m   1932\u001b[0m                               float)\n\u001b[1;32m-> 1933\u001b[1;33m         \u001b[0mself\u001b[0m\u001b[1;33m.\u001b[0m\u001b[0m_mtx\u001b[0m \u001b[1;33m=\u001b[0m \u001b[0mnp\u001b[0m\u001b[1;33m.\u001b[0m\u001b[0mdot\u001b[0m\u001b[1;33m(\u001b[0m\u001b[0mrotate_mtx\u001b[0m\u001b[1;33m,\u001b[0m \u001b[0mself\u001b[0m\u001b[1;33m.\u001b[0m\u001b[0m_mtx\u001b[0m\u001b[1;33m)\u001b[0m\u001b[1;33m\u001b[0m\u001b[1;33m\u001b[0m\u001b[0m\n\u001b[0m\u001b[0;32m   1934\u001b[0m         \u001b[0mself\u001b[0m\u001b[1;33m.\u001b[0m\u001b[0minvalidate\u001b[0m\u001b[1;33m(\u001b[0m\u001b[1;33m)\u001b[0m\u001b[1;33m\u001b[0m\u001b[1;33m\u001b[0m\u001b[0m\n\u001b[0;32m   1935\u001b[0m         \u001b[1;32mreturn\u001b[0m \u001b[0mself\u001b[0m\u001b[1;33m\u001b[0m\u001b[1;33m\u001b[0m\u001b[0m\n",
      "\u001b[1;32m<__array_function__ internals>\u001b[0m in \u001b[0;36mdot\u001b[1;34m(*args, **kwargs)\u001b[0m\n",
      "\u001b[1;31mKeyboardInterrupt\u001b[0m: "
     ]
    },
    {
     "name": "stdout",
     "output_type": "stream",
     "text": [
      "Error in callback <function flush_figures at 0x000001FDD1149280> (for post_execute):\n"
     ]
    },
    {
     "ename": "KeyboardInterrupt",
     "evalue": "",
     "output_type": "error",
     "traceback": [
      "\u001b[1;31m---------------------------------------------------------------------------\u001b[0m",
      "\u001b[1;31mKeyboardInterrupt\u001b[0m                         Traceback (most recent call last)",
      "\u001b[1;32m~\\anaconda3\\lib\\site-packages\\ipykernel\\pylab\\backend_inline.py\u001b[0m in \u001b[0;36mflush_figures\u001b[1;34m()\u001b[0m\n\u001b[0;32m    119\u001b[0m         \u001b[1;31m# ignore the tracking, just draw and close all figures\u001b[0m\u001b[1;33m\u001b[0m\u001b[1;33m\u001b[0m\u001b[1;33m\u001b[0m\u001b[0m\n\u001b[0;32m    120\u001b[0m         \u001b[1;32mtry\u001b[0m\u001b[1;33m:\u001b[0m\u001b[1;33m\u001b[0m\u001b[1;33m\u001b[0m\u001b[0m\n\u001b[1;32m--> 121\u001b[1;33m             \u001b[1;32mreturn\u001b[0m \u001b[0mshow\u001b[0m\u001b[1;33m(\u001b[0m\u001b[1;32mTrue\u001b[0m\u001b[1;33m)\u001b[0m\u001b[1;33m\u001b[0m\u001b[1;33m\u001b[0m\u001b[0m\n\u001b[0m\u001b[0;32m    122\u001b[0m         \u001b[1;32mexcept\u001b[0m \u001b[0mException\u001b[0m \u001b[1;32mas\u001b[0m \u001b[0me\u001b[0m\u001b[1;33m:\u001b[0m\u001b[1;33m\u001b[0m\u001b[1;33m\u001b[0m\u001b[0m\n\u001b[0;32m    123\u001b[0m             \u001b[1;31m# safely show traceback if in IPython, else raise\u001b[0m\u001b[1;33m\u001b[0m\u001b[1;33m\u001b[0m\u001b[1;33m\u001b[0m\u001b[0m\n",
      "\u001b[1;32m~\\anaconda3\\lib\\site-packages\\ipykernel\\pylab\\backend_inline.py\u001b[0m in \u001b[0;36mshow\u001b[1;34m(close, block)\u001b[0m\n\u001b[0;32m     39\u001b[0m     \u001b[1;32mtry\u001b[0m\u001b[1;33m:\u001b[0m\u001b[1;33m\u001b[0m\u001b[1;33m\u001b[0m\u001b[0m\n\u001b[0;32m     40\u001b[0m         \u001b[1;32mfor\u001b[0m \u001b[0mfigure_manager\u001b[0m \u001b[1;32min\u001b[0m \u001b[0mGcf\u001b[0m\u001b[1;33m.\u001b[0m\u001b[0mget_all_fig_managers\u001b[0m\u001b[1;33m(\u001b[0m\u001b[1;33m)\u001b[0m\u001b[1;33m:\u001b[0m\u001b[1;33m\u001b[0m\u001b[1;33m\u001b[0m\u001b[0m\n\u001b[1;32m---> 41\u001b[1;33m             display(\n\u001b[0m\u001b[0;32m     42\u001b[0m                 \u001b[0mfigure_manager\u001b[0m\u001b[1;33m.\u001b[0m\u001b[0mcanvas\u001b[0m\u001b[1;33m.\u001b[0m\u001b[0mfigure\u001b[0m\u001b[1;33m,\u001b[0m\u001b[1;33m\u001b[0m\u001b[1;33m\u001b[0m\u001b[0m\n\u001b[0;32m     43\u001b[0m                 \u001b[0mmetadata\u001b[0m\u001b[1;33m=\u001b[0m\u001b[0m_fetch_figure_metadata\u001b[0m\u001b[1;33m(\u001b[0m\u001b[0mfigure_manager\u001b[0m\u001b[1;33m.\u001b[0m\u001b[0mcanvas\u001b[0m\u001b[1;33m.\u001b[0m\u001b[0mfigure\u001b[0m\u001b[1;33m)\u001b[0m\u001b[1;33m\u001b[0m\u001b[1;33m\u001b[0m\u001b[0m\n",
      "\u001b[1;32m~\\anaconda3\\lib\\site-packages\\IPython\\core\\display.py\u001b[0m in \u001b[0;36mdisplay\u001b[1;34m(include, exclude, metadata, transient, display_id, *objs, **kwargs)\u001b[0m\n\u001b[0;32m    311\u001b[0m             \u001b[0mpublish_display_data\u001b[0m\u001b[1;33m(\u001b[0m\u001b[0mdata\u001b[0m\u001b[1;33m=\u001b[0m\u001b[0mobj\u001b[0m\u001b[1;33m,\u001b[0m \u001b[0mmetadata\u001b[0m\u001b[1;33m=\u001b[0m\u001b[0mmetadata\u001b[0m\u001b[1;33m,\u001b[0m \u001b[1;33m**\u001b[0m\u001b[0mkwargs\u001b[0m\u001b[1;33m)\u001b[0m\u001b[1;33m\u001b[0m\u001b[1;33m\u001b[0m\u001b[0m\n\u001b[0;32m    312\u001b[0m         \u001b[1;32melse\u001b[0m\u001b[1;33m:\u001b[0m\u001b[1;33m\u001b[0m\u001b[1;33m\u001b[0m\u001b[0m\n\u001b[1;32m--> 313\u001b[1;33m             \u001b[0mformat_dict\u001b[0m\u001b[1;33m,\u001b[0m \u001b[0mmd_dict\u001b[0m \u001b[1;33m=\u001b[0m \u001b[0mformat\u001b[0m\u001b[1;33m(\u001b[0m\u001b[0mobj\u001b[0m\u001b[1;33m,\u001b[0m \u001b[0minclude\u001b[0m\u001b[1;33m=\u001b[0m\u001b[0minclude\u001b[0m\u001b[1;33m,\u001b[0m \u001b[0mexclude\u001b[0m\u001b[1;33m=\u001b[0m\u001b[0mexclude\u001b[0m\u001b[1;33m)\u001b[0m\u001b[1;33m\u001b[0m\u001b[1;33m\u001b[0m\u001b[0m\n\u001b[0m\u001b[0;32m    314\u001b[0m             \u001b[1;32mif\u001b[0m \u001b[1;32mnot\u001b[0m \u001b[0mformat_dict\u001b[0m\u001b[1;33m:\u001b[0m\u001b[1;33m\u001b[0m\u001b[1;33m\u001b[0m\u001b[0m\n\u001b[0;32m    315\u001b[0m                 \u001b[1;31m# nothing to display (e.g. _ipython_display_ took over)\u001b[0m\u001b[1;33m\u001b[0m\u001b[1;33m\u001b[0m\u001b[1;33m\u001b[0m\u001b[0m\n",
      "\u001b[1;32m~\\anaconda3\\lib\\site-packages\\IPython\\core\\formatters.py\u001b[0m in \u001b[0;36mformat\u001b[1;34m(self, obj, include, exclude)\u001b[0m\n\u001b[0;32m    178\u001b[0m             \u001b[0mmd\u001b[0m \u001b[1;33m=\u001b[0m \u001b[1;32mNone\u001b[0m\u001b[1;33m\u001b[0m\u001b[1;33m\u001b[0m\u001b[0m\n\u001b[0;32m    179\u001b[0m             \u001b[1;32mtry\u001b[0m\u001b[1;33m:\u001b[0m\u001b[1;33m\u001b[0m\u001b[1;33m\u001b[0m\u001b[0m\n\u001b[1;32m--> 180\u001b[1;33m                 \u001b[0mdata\u001b[0m \u001b[1;33m=\u001b[0m \u001b[0mformatter\u001b[0m\u001b[1;33m(\u001b[0m\u001b[0mobj\u001b[0m\u001b[1;33m)\u001b[0m\u001b[1;33m\u001b[0m\u001b[1;33m\u001b[0m\u001b[0m\n\u001b[0m\u001b[0;32m    181\u001b[0m             \u001b[1;32mexcept\u001b[0m\u001b[1;33m:\u001b[0m\u001b[1;33m\u001b[0m\u001b[1;33m\u001b[0m\u001b[0m\n\u001b[0;32m    182\u001b[0m                 \u001b[1;31m# FIXME: log the exception\u001b[0m\u001b[1;33m\u001b[0m\u001b[1;33m\u001b[0m\u001b[1;33m\u001b[0m\u001b[0m\n",
      "\u001b[1;32m<decorator-gen-2>\u001b[0m in \u001b[0;36m__call__\u001b[1;34m(self, obj)\u001b[0m\n",
      "\u001b[1;32m~\\anaconda3\\lib\\site-packages\\IPython\\core\\formatters.py\u001b[0m in \u001b[0;36mcatch_format_error\u001b[1;34m(method, self, *args, **kwargs)\u001b[0m\n\u001b[0;32m    222\u001b[0m     \u001b[1;34m\"\"\"show traceback on failed format call\"\"\"\u001b[0m\u001b[1;33m\u001b[0m\u001b[1;33m\u001b[0m\u001b[0m\n\u001b[0;32m    223\u001b[0m     \u001b[1;32mtry\u001b[0m\u001b[1;33m:\u001b[0m\u001b[1;33m\u001b[0m\u001b[1;33m\u001b[0m\u001b[0m\n\u001b[1;32m--> 224\u001b[1;33m         \u001b[0mr\u001b[0m \u001b[1;33m=\u001b[0m \u001b[0mmethod\u001b[0m\u001b[1;33m(\u001b[0m\u001b[0mself\u001b[0m\u001b[1;33m,\u001b[0m \u001b[1;33m*\u001b[0m\u001b[0margs\u001b[0m\u001b[1;33m,\u001b[0m \u001b[1;33m**\u001b[0m\u001b[0mkwargs\u001b[0m\u001b[1;33m)\u001b[0m\u001b[1;33m\u001b[0m\u001b[1;33m\u001b[0m\u001b[0m\n\u001b[0m\u001b[0;32m    225\u001b[0m     \u001b[1;32mexcept\u001b[0m \u001b[0mNotImplementedError\u001b[0m\u001b[1;33m:\u001b[0m\u001b[1;33m\u001b[0m\u001b[1;33m\u001b[0m\u001b[0m\n\u001b[0;32m    226\u001b[0m         \u001b[1;31m# don't warn on NotImplementedErrors\u001b[0m\u001b[1;33m\u001b[0m\u001b[1;33m\u001b[0m\u001b[1;33m\u001b[0m\u001b[0m\n",
      "\u001b[1;32m~\\anaconda3\\lib\\site-packages\\IPython\\core\\formatters.py\u001b[0m in \u001b[0;36m__call__\u001b[1;34m(self, obj)\u001b[0m\n\u001b[0;32m    339\u001b[0m                 \u001b[1;32mpass\u001b[0m\u001b[1;33m\u001b[0m\u001b[1;33m\u001b[0m\u001b[0m\n\u001b[0;32m    340\u001b[0m             \u001b[1;32melse\u001b[0m\u001b[1;33m:\u001b[0m\u001b[1;33m\u001b[0m\u001b[1;33m\u001b[0m\u001b[0m\n\u001b[1;32m--> 341\u001b[1;33m                 \u001b[1;32mreturn\u001b[0m \u001b[0mprinter\u001b[0m\u001b[1;33m(\u001b[0m\u001b[0mobj\u001b[0m\u001b[1;33m)\u001b[0m\u001b[1;33m\u001b[0m\u001b[1;33m\u001b[0m\u001b[0m\n\u001b[0m\u001b[0;32m    342\u001b[0m             \u001b[1;31m# Finally look for special method names\u001b[0m\u001b[1;33m\u001b[0m\u001b[1;33m\u001b[0m\u001b[1;33m\u001b[0m\u001b[0m\n\u001b[0;32m    343\u001b[0m             \u001b[0mmethod\u001b[0m \u001b[1;33m=\u001b[0m \u001b[0mget_real_method\u001b[0m\u001b[1;33m(\u001b[0m\u001b[0mobj\u001b[0m\u001b[1;33m,\u001b[0m \u001b[0mself\u001b[0m\u001b[1;33m.\u001b[0m\u001b[0mprint_method\u001b[0m\u001b[1;33m)\u001b[0m\u001b[1;33m\u001b[0m\u001b[1;33m\u001b[0m\u001b[0m\n",
      "\u001b[1;32m~\\anaconda3\\lib\\site-packages\\IPython\\core\\pylabtools.py\u001b[0m in \u001b[0;36m<lambda>\u001b[1;34m(fig)\u001b[0m\n\u001b[0;32m    246\u001b[0m \u001b[1;33m\u001b[0m\u001b[0m\n\u001b[0;32m    247\u001b[0m     \u001b[1;32mif\u001b[0m \u001b[1;34m'png'\u001b[0m \u001b[1;32min\u001b[0m \u001b[0mformats\u001b[0m\u001b[1;33m:\u001b[0m\u001b[1;33m\u001b[0m\u001b[1;33m\u001b[0m\u001b[0m\n\u001b[1;32m--> 248\u001b[1;33m         \u001b[0mpng_formatter\u001b[0m\u001b[1;33m.\u001b[0m\u001b[0mfor_type\u001b[0m\u001b[1;33m(\u001b[0m\u001b[0mFigure\u001b[0m\u001b[1;33m,\u001b[0m \u001b[1;32mlambda\u001b[0m \u001b[0mfig\u001b[0m\u001b[1;33m:\u001b[0m \u001b[0mprint_figure\u001b[0m\u001b[1;33m(\u001b[0m\u001b[0mfig\u001b[0m\u001b[1;33m,\u001b[0m \u001b[1;34m'png'\u001b[0m\u001b[1;33m,\u001b[0m \u001b[1;33m**\u001b[0m\u001b[0mkwargs\u001b[0m\u001b[1;33m)\u001b[0m\u001b[1;33m)\u001b[0m\u001b[1;33m\u001b[0m\u001b[1;33m\u001b[0m\u001b[0m\n\u001b[0m\u001b[0;32m    249\u001b[0m     \u001b[1;32mif\u001b[0m \u001b[1;34m'retina'\u001b[0m \u001b[1;32min\u001b[0m \u001b[0mformats\u001b[0m \u001b[1;32mor\u001b[0m \u001b[1;34m'png2x'\u001b[0m \u001b[1;32min\u001b[0m \u001b[0mformats\u001b[0m\u001b[1;33m:\u001b[0m\u001b[1;33m\u001b[0m\u001b[1;33m\u001b[0m\u001b[0m\n\u001b[0;32m    250\u001b[0m         \u001b[0mpng_formatter\u001b[0m\u001b[1;33m.\u001b[0m\u001b[0mfor_type\u001b[0m\u001b[1;33m(\u001b[0m\u001b[0mFigure\u001b[0m\u001b[1;33m,\u001b[0m \u001b[1;32mlambda\u001b[0m \u001b[0mfig\u001b[0m\u001b[1;33m:\u001b[0m \u001b[0mretina_figure\u001b[0m\u001b[1;33m(\u001b[0m\u001b[0mfig\u001b[0m\u001b[1;33m,\u001b[0m \u001b[1;33m**\u001b[0m\u001b[0mkwargs\u001b[0m\u001b[1;33m)\u001b[0m\u001b[1;33m)\u001b[0m\u001b[1;33m\u001b[0m\u001b[1;33m\u001b[0m\u001b[0m\n",
      "\u001b[1;32m~\\anaconda3\\lib\\site-packages\\IPython\\core\\pylabtools.py\u001b[0m in \u001b[0;36mprint_figure\u001b[1;34m(fig, fmt, bbox_inches, **kwargs)\u001b[0m\n\u001b[0;32m    130\u001b[0m         \u001b[0mFigureCanvasBase\u001b[0m\u001b[1;33m(\u001b[0m\u001b[0mfig\u001b[0m\u001b[1;33m)\u001b[0m\u001b[1;33m\u001b[0m\u001b[1;33m\u001b[0m\u001b[0m\n\u001b[0;32m    131\u001b[0m \u001b[1;33m\u001b[0m\u001b[0m\n\u001b[1;32m--> 132\u001b[1;33m     \u001b[0mfig\u001b[0m\u001b[1;33m.\u001b[0m\u001b[0mcanvas\u001b[0m\u001b[1;33m.\u001b[0m\u001b[0mprint_figure\u001b[0m\u001b[1;33m(\u001b[0m\u001b[0mbytes_io\u001b[0m\u001b[1;33m,\u001b[0m \u001b[1;33m**\u001b[0m\u001b[0mkw\u001b[0m\u001b[1;33m)\u001b[0m\u001b[1;33m\u001b[0m\u001b[1;33m\u001b[0m\u001b[0m\n\u001b[0m\u001b[0;32m    133\u001b[0m     \u001b[0mdata\u001b[0m \u001b[1;33m=\u001b[0m \u001b[0mbytes_io\u001b[0m\u001b[1;33m.\u001b[0m\u001b[0mgetvalue\u001b[0m\u001b[1;33m(\u001b[0m\u001b[1;33m)\u001b[0m\u001b[1;33m\u001b[0m\u001b[1;33m\u001b[0m\u001b[0m\n\u001b[0;32m    134\u001b[0m     \u001b[1;32mif\u001b[0m \u001b[0mfmt\u001b[0m \u001b[1;33m==\u001b[0m \u001b[1;34m'svg'\u001b[0m\u001b[1;33m:\u001b[0m\u001b[1;33m\u001b[0m\u001b[1;33m\u001b[0m\u001b[0m\n",
      "\u001b[1;32m~\\anaconda3\\lib\\site-packages\\matplotlib\\backend_bases.py\u001b[0m in \u001b[0;36mprint_figure\u001b[1;34m(self, filename, dpi, facecolor, edgecolor, orientation, format, bbox_inches, pad_inches, bbox_extra_artists, backend, **kwargs)\u001b[0m\n\u001b[0;32m   2191\u001b[0m                            else suppress())\n\u001b[0;32m   2192\u001b[0m                     \u001b[1;32mwith\u001b[0m \u001b[0mctx\u001b[0m\u001b[1;33m:\u001b[0m\u001b[1;33m\u001b[0m\u001b[1;33m\u001b[0m\u001b[0m\n\u001b[1;32m-> 2193\u001b[1;33m                         \u001b[0mself\u001b[0m\u001b[1;33m.\u001b[0m\u001b[0mfigure\u001b[0m\u001b[1;33m.\u001b[0m\u001b[0mdraw\u001b[0m\u001b[1;33m(\u001b[0m\u001b[0mrenderer\u001b[0m\u001b[1;33m)\u001b[0m\u001b[1;33m\u001b[0m\u001b[1;33m\u001b[0m\u001b[0m\n\u001b[0m\u001b[0;32m   2194\u001b[0m \u001b[1;33m\u001b[0m\u001b[0m\n\u001b[0;32m   2195\u001b[0m                     bbox_inches = self.figure.get_tightbbox(\n",
      "\u001b[1;32m~\\anaconda3\\lib\\site-packages\\matplotlib\\artist.py\u001b[0m in \u001b[0;36mdraw_wrapper\u001b[1;34m(artist, renderer, *args, **kwargs)\u001b[0m\n\u001b[0;32m     39\u001b[0m                 \u001b[0mrenderer\u001b[0m\u001b[1;33m.\u001b[0m\u001b[0mstart_filter\u001b[0m\u001b[1;33m(\u001b[0m\u001b[1;33m)\u001b[0m\u001b[1;33m\u001b[0m\u001b[1;33m\u001b[0m\u001b[0m\n\u001b[0;32m     40\u001b[0m \u001b[1;33m\u001b[0m\u001b[0m\n\u001b[1;32m---> 41\u001b[1;33m             \u001b[1;32mreturn\u001b[0m \u001b[0mdraw\u001b[0m\u001b[1;33m(\u001b[0m\u001b[0martist\u001b[0m\u001b[1;33m,\u001b[0m \u001b[0mrenderer\u001b[0m\u001b[1;33m,\u001b[0m \u001b[1;33m*\u001b[0m\u001b[0margs\u001b[0m\u001b[1;33m,\u001b[0m \u001b[1;33m**\u001b[0m\u001b[0mkwargs\u001b[0m\u001b[1;33m)\u001b[0m\u001b[1;33m\u001b[0m\u001b[1;33m\u001b[0m\u001b[0m\n\u001b[0m\u001b[0;32m     42\u001b[0m         \u001b[1;32mfinally\u001b[0m\u001b[1;33m:\u001b[0m\u001b[1;33m\u001b[0m\u001b[1;33m\u001b[0m\u001b[0m\n\u001b[0;32m     43\u001b[0m             \u001b[1;32mif\u001b[0m \u001b[0martist\u001b[0m\u001b[1;33m.\u001b[0m\u001b[0mget_agg_filter\u001b[0m\u001b[1;33m(\u001b[0m\u001b[1;33m)\u001b[0m \u001b[1;32mis\u001b[0m \u001b[1;32mnot\u001b[0m \u001b[1;32mNone\u001b[0m\u001b[1;33m:\u001b[0m\u001b[1;33m\u001b[0m\u001b[1;33m\u001b[0m\u001b[0m\n",
      "\u001b[1;32m~\\anaconda3\\lib\\site-packages\\matplotlib\\figure.py\u001b[0m in \u001b[0;36mdraw\u001b[1;34m(self, renderer)\u001b[0m\n\u001b[0;32m   1861\u001b[0m \u001b[1;33m\u001b[0m\u001b[0m\n\u001b[0;32m   1862\u001b[0m             \u001b[0mself\u001b[0m\u001b[1;33m.\u001b[0m\u001b[0mpatch\u001b[0m\u001b[1;33m.\u001b[0m\u001b[0mdraw\u001b[0m\u001b[1;33m(\u001b[0m\u001b[0mrenderer\u001b[0m\u001b[1;33m)\u001b[0m\u001b[1;33m\u001b[0m\u001b[1;33m\u001b[0m\u001b[0m\n\u001b[1;32m-> 1863\u001b[1;33m             mimage._draw_list_compositing_images(\n\u001b[0m\u001b[0;32m   1864\u001b[0m                 renderer, self, artists, self.suppressComposite)\n\u001b[0;32m   1865\u001b[0m \u001b[1;33m\u001b[0m\u001b[0m\n",
      "\u001b[1;32m~\\anaconda3\\lib\\site-packages\\matplotlib\\image.py\u001b[0m in \u001b[0;36m_draw_list_compositing_images\u001b[1;34m(renderer, parent, artists, suppress_composite)\u001b[0m\n\u001b[0;32m    129\u001b[0m     \u001b[1;32mif\u001b[0m \u001b[0mnot_composite\u001b[0m \u001b[1;32mor\u001b[0m \u001b[1;32mnot\u001b[0m \u001b[0mhas_images\u001b[0m\u001b[1;33m:\u001b[0m\u001b[1;33m\u001b[0m\u001b[1;33m\u001b[0m\u001b[0m\n\u001b[0;32m    130\u001b[0m         \u001b[1;32mfor\u001b[0m \u001b[0ma\u001b[0m \u001b[1;32min\u001b[0m \u001b[0martists\u001b[0m\u001b[1;33m:\u001b[0m\u001b[1;33m\u001b[0m\u001b[1;33m\u001b[0m\u001b[0m\n\u001b[1;32m--> 131\u001b[1;33m             \u001b[0ma\u001b[0m\u001b[1;33m.\u001b[0m\u001b[0mdraw\u001b[0m\u001b[1;33m(\u001b[0m\u001b[0mrenderer\u001b[0m\u001b[1;33m)\u001b[0m\u001b[1;33m\u001b[0m\u001b[1;33m\u001b[0m\u001b[0m\n\u001b[0m\u001b[0;32m    132\u001b[0m     \u001b[1;32melse\u001b[0m\u001b[1;33m:\u001b[0m\u001b[1;33m\u001b[0m\u001b[1;33m\u001b[0m\u001b[0m\n\u001b[0;32m    133\u001b[0m         \u001b[1;31m# Composite any adjacent images together\u001b[0m\u001b[1;33m\u001b[0m\u001b[1;33m\u001b[0m\u001b[1;33m\u001b[0m\u001b[0m\n",
      "\u001b[1;32m~\\anaconda3\\lib\\site-packages\\matplotlib\\artist.py\u001b[0m in \u001b[0;36mdraw_wrapper\u001b[1;34m(artist, renderer, *args, **kwargs)\u001b[0m\n\u001b[0;32m     39\u001b[0m                 \u001b[0mrenderer\u001b[0m\u001b[1;33m.\u001b[0m\u001b[0mstart_filter\u001b[0m\u001b[1;33m(\u001b[0m\u001b[1;33m)\u001b[0m\u001b[1;33m\u001b[0m\u001b[1;33m\u001b[0m\u001b[0m\n\u001b[0;32m     40\u001b[0m \u001b[1;33m\u001b[0m\u001b[0m\n\u001b[1;32m---> 41\u001b[1;33m             \u001b[1;32mreturn\u001b[0m \u001b[0mdraw\u001b[0m\u001b[1;33m(\u001b[0m\u001b[0martist\u001b[0m\u001b[1;33m,\u001b[0m \u001b[0mrenderer\u001b[0m\u001b[1;33m,\u001b[0m \u001b[1;33m*\u001b[0m\u001b[0margs\u001b[0m\u001b[1;33m,\u001b[0m \u001b[1;33m**\u001b[0m\u001b[0mkwargs\u001b[0m\u001b[1;33m)\u001b[0m\u001b[1;33m\u001b[0m\u001b[1;33m\u001b[0m\u001b[0m\n\u001b[0m\u001b[0;32m     42\u001b[0m         \u001b[1;32mfinally\u001b[0m\u001b[1;33m:\u001b[0m\u001b[1;33m\u001b[0m\u001b[1;33m\u001b[0m\u001b[0m\n\u001b[0;32m     43\u001b[0m             \u001b[1;32mif\u001b[0m \u001b[0martist\u001b[0m\u001b[1;33m.\u001b[0m\u001b[0mget_agg_filter\u001b[0m\u001b[1;33m(\u001b[0m\u001b[1;33m)\u001b[0m \u001b[1;32mis\u001b[0m \u001b[1;32mnot\u001b[0m \u001b[1;32mNone\u001b[0m\u001b[1;33m:\u001b[0m\u001b[1;33m\u001b[0m\u001b[1;33m\u001b[0m\u001b[0m\n",
      "\u001b[1;32m~\\anaconda3\\lib\\site-packages\\matplotlib\\cbook\\deprecation.py\u001b[0m in \u001b[0;36mwrapper\u001b[1;34m(*inner_args, **inner_kwargs)\u001b[0m\n\u001b[0;32m    409\u001b[0m                          \u001b[1;32melse\u001b[0m \u001b[0mdeprecation_addendum\u001b[0m\u001b[1;33m,\u001b[0m\u001b[1;33m\u001b[0m\u001b[1;33m\u001b[0m\u001b[0m\n\u001b[0;32m    410\u001b[0m                 **kwargs)\n\u001b[1;32m--> 411\u001b[1;33m         \u001b[1;32mreturn\u001b[0m \u001b[0mfunc\u001b[0m\u001b[1;33m(\u001b[0m\u001b[1;33m*\u001b[0m\u001b[0minner_args\u001b[0m\u001b[1;33m,\u001b[0m \u001b[1;33m**\u001b[0m\u001b[0minner_kwargs\u001b[0m\u001b[1;33m)\u001b[0m\u001b[1;33m\u001b[0m\u001b[1;33m\u001b[0m\u001b[0m\n\u001b[0m\u001b[0;32m    412\u001b[0m \u001b[1;33m\u001b[0m\u001b[0m\n\u001b[0;32m    413\u001b[0m     \u001b[1;32mreturn\u001b[0m \u001b[0mwrapper\u001b[0m\u001b[1;33m\u001b[0m\u001b[1;33m\u001b[0m\u001b[0m\n",
      "\u001b[1;32m~\\anaconda3\\lib\\site-packages\\matplotlib\\axes\\_base.py\u001b[0m in \u001b[0;36mdraw\u001b[1;34m(self, renderer, inframe)\u001b[0m\n\u001b[0;32m   2745\u001b[0m             \u001b[0mrenderer\u001b[0m\u001b[1;33m.\u001b[0m\u001b[0mstop_rasterizing\u001b[0m\u001b[1;33m(\u001b[0m\u001b[1;33m)\u001b[0m\u001b[1;33m\u001b[0m\u001b[1;33m\u001b[0m\u001b[0m\n\u001b[0;32m   2746\u001b[0m \u001b[1;33m\u001b[0m\u001b[0m\n\u001b[1;32m-> 2747\u001b[1;33m         \u001b[0mmimage\u001b[0m\u001b[1;33m.\u001b[0m\u001b[0m_draw_list_compositing_images\u001b[0m\u001b[1;33m(\u001b[0m\u001b[0mrenderer\u001b[0m\u001b[1;33m,\u001b[0m \u001b[0mself\u001b[0m\u001b[1;33m,\u001b[0m \u001b[0martists\u001b[0m\u001b[1;33m)\u001b[0m\u001b[1;33m\u001b[0m\u001b[1;33m\u001b[0m\u001b[0m\n\u001b[0m\u001b[0;32m   2748\u001b[0m \u001b[1;33m\u001b[0m\u001b[0m\n\u001b[0;32m   2749\u001b[0m         \u001b[0mrenderer\u001b[0m\u001b[1;33m.\u001b[0m\u001b[0mclose_group\u001b[0m\u001b[1;33m(\u001b[0m\u001b[1;34m'axes'\u001b[0m\u001b[1;33m)\u001b[0m\u001b[1;33m\u001b[0m\u001b[1;33m\u001b[0m\u001b[0m\n",
      "\u001b[1;32m~\\anaconda3\\lib\\site-packages\\matplotlib\\image.py\u001b[0m in \u001b[0;36m_draw_list_compositing_images\u001b[1;34m(renderer, parent, artists, suppress_composite)\u001b[0m\n\u001b[0;32m    129\u001b[0m     \u001b[1;32mif\u001b[0m \u001b[0mnot_composite\u001b[0m \u001b[1;32mor\u001b[0m \u001b[1;32mnot\u001b[0m \u001b[0mhas_images\u001b[0m\u001b[1;33m:\u001b[0m\u001b[1;33m\u001b[0m\u001b[1;33m\u001b[0m\u001b[0m\n\u001b[0;32m    130\u001b[0m         \u001b[1;32mfor\u001b[0m \u001b[0ma\u001b[0m \u001b[1;32min\u001b[0m \u001b[0martists\u001b[0m\u001b[1;33m:\u001b[0m\u001b[1;33m\u001b[0m\u001b[1;33m\u001b[0m\u001b[0m\n\u001b[1;32m--> 131\u001b[1;33m             \u001b[0ma\u001b[0m\u001b[1;33m.\u001b[0m\u001b[0mdraw\u001b[0m\u001b[1;33m(\u001b[0m\u001b[0mrenderer\u001b[0m\u001b[1;33m)\u001b[0m\u001b[1;33m\u001b[0m\u001b[1;33m\u001b[0m\u001b[0m\n\u001b[0m\u001b[0;32m    132\u001b[0m     \u001b[1;32melse\u001b[0m\u001b[1;33m:\u001b[0m\u001b[1;33m\u001b[0m\u001b[1;33m\u001b[0m\u001b[0m\n\u001b[0;32m    133\u001b[0m         \u001b[1;31m# Composite any adjacent images together\u001b[0m\u001b[1;33m\u001b[0m\u001b[1;33m\u001b[0m\u001b[1;33m\u001b[0m\u001b[0m\n",
      "\u001b[1;32m~\\anaconda3\\lib\\site-packages\\matplotlib\\artist.py\u001b[0m in \u001b[0;36mdraw_wrapper\u001b[1;34m(artist, renderer, *args, **kwargs)\u001b[0m\n\u001b[0;32m     39\u001b[0m                 \u001b[0mrenderer\u001b[0m\u001b[1;33m.\u001b[0m\u001b[0mstart_filter\u001b[0m\u001b[1;33m(\u001b[0m\u001b[1;33m)\u001b[0m\u001b[1;33m\u001b[0m\u001b[1;33m\u001b[0m\u001b[0m\n\u001b[0;32m     40\u001b[0m \u001b[1;33m\u001b[0m\u001b[0m\n\u001b[1;32m---> 41\u001b[1;33m             \u001b[1;32mreturn\u001b[0m \u001b[0mdraw\u001b[0m\u001b[1;33m(\u001b[0m\u001b[0martist\u001b[0m\u001b[1;33m,\u001b[0m \u001b[0mrenderer\u001b[0m\u001b[1;33m,\u001b[0m \u001b[1;33m*\u001b[0m\u001b[0margs\u001b[0m\u001b[1;33m,\u001b[0m \u001b[1;33m**\u001b[0m\u001b[0mkwargs\u001b[0m\u001b[1;33m)\u001b[0m\u001b[1;33m\u001b[0m\u001b[1;33m\u001b[0m\u001b[0m\n\u001b[0m\u001b[0;32m     42\u001b[0m         \u001b[1;32mfinally\u001b[0m\u001b[1;33m:\u001b[0m\u001b[1;33m\u001b[0m\u001b[1;33m\u001b[0m\u001b[0m\n\u001b[0;32m     43\u001b[0m             \u001b[1;32mif\u001b[0m \u001b[0martist\u001b[0m\u001b[1;33m.\u001b[0m\u001b[0mget_agg_filter\u001b[0m\u001b[1;33m(\u001b[0m\u001b[1;33m)\u001b[0m \u001b[1;32mis\u001b[0m \u001b[1;32mnot\u001b[0m \u001b[1;32mNone\u001b[0m\u001b[1;33m:\u001b[0m\u001b[1;33m\u001b[0m\u001b[1;33m\u001b[0m\u001b[0m\n",
      "\u001b[1;32m~\\anaconda3\\lib\\site-packages\\matplotlib\\patches.py\u001b[0m in \u001b[0;36mdraw\u001b[1;34m(self, renderer)\u001b[0m\n\u001b[0;32m    582\u001b[0m                 \u001b[0mself\u001b[0m\u001b[1;33m.\u001b[0m\u001b[0m_bind_draw_path_function\u001b[0m\u001b[1;33m(\u001b[0m\u001b[0mrenderer\u001b[0m\u001b[1;33m)\u001b[0m \u001b[1;32mas\u001b[0m \u001b[0mdraw_path\u001b[0m\u001b[1;33m:\u001b[0m\u001b[1;33m\u001b[0m\u001b[1;33m\u001b[0m\u001b[0m\n\u001b[0;32m    583\u001b[0m             \u001b[0mpath\u001b[0m \u001b[1;33m=\u001b[0m \u001b[0mself\u001b[0m\u001b[1;33m.\u001b[0m\u001b[0mget_path\u001b[0m\u001b[1;33m(\u001b[0m\u001b[1;33m)\u001b[0m\u001b[1;33m\u001b[0m\u001b[1;33m\u001b[0m\u001b[0m\n\u001b[1;32m--> 584\u001b[1;33m             \u001b[0mtransform\u001b[0m \u001b[1;33m=\u001b[0m \u001b[0mself\u001b[0m\u001b[1;33m.\u001b[0m\u001b[0mget_transform\u001b[0m\u001b[1;33m(\u001b[0m\u001b[1;33m)\u001b[0m\u001b[1;33m\u001b[0m\u001b[1;33m\u001b[0m\u001b[0m\n\u001b[0m\u001b[0;32m    585\u001b[0m             \u001b[0mtpath\u001b[0m \u001b[1;33m=\u001b[0m \u001b[0mtransform\u001b[0m\u001b[1;33m.\u001b[0m\u001b[0mtransform_path_non_affine\u001b[0m\u001b[1;33m(\u001b[0m\u001b[0mpath\u001b[0m\u001b[1;33m)\u001b[0m\u001b[1;33m\u001b[0m\u001b[1;33m\u001b[0m\u001b[0m\n\u001b[0;32m    586\u001b[0m             \u001b[0maffine\u001b[0m \u001b[1;33m=\u001b[0m \u001b[0mtransform\u001b[0m\u001b[1;33m.\u001b[0m\u001b[0mget_affine\u001b[0m\u001b[1;33m(\u001b[0m\u001b[1;33m)\u001b[0m\u001b[1;33m\u001b[0m\u001b[1;33m\u001b[0m\u001b[0m\n",
      "\u001b[1;32m~\\anaconda3\\lib\\site-packages\\matplotlib\\patches.py\u001b[0m in \u001b[0;36mget_transform\u001b[1;34m(self)\u001b[0m\n\u001b[0;32m    258\u001b[0m     \u001b[1;32mdef\u001b[0m \u001b[0mget_transform\u001b[0m\u001b[1;33m(\u001b[0m\u001b[0mself\u001b[0m\u001b[1;33m)\u001b[0m\u001b[1;33m:\u001b[0m\u001b[1;33m\u001b[0m\u001b[1;33m\u001b[0m\u001b[0m\n\u001b[0;32m    259\u001b[0m         \u001b[1;34m\"\"\"Return the `~.transforms.Transform` applied to the `Patch`.\"\"\"\u001b[0m\u001b[1;33m\u001b[0m\u001b[1;33m\u001b[0m\u001b[0m\n\u001b[1;32m--> 260\u001b[1;33m         \u001b[1;32mreturn\u001b[0m \u001b[0mself\u001b[0m\u001b[1;33m.\u001b[0m\u001b[0mget_patch_transform\u001b[0m\u001b[1;33m(\u001b[0m\u001b[1;33m)\u001b[0m \u001b[1;33m+\u001b[0m \u001b[0martist\u001b[0m\u001b[1;33m.\u001b[0m\u001b[0mArtist\u001b[0m\u001b[1;33m.\u001b[0m\u001b[0mget_transform\u001b[0m\u001b[1;33m(\u001b[0m\u001b[0mself\u001b[0m\u001b[1;33m)\u001b[0m\u001b[1;33m\u001b[0m\u001b[1;33m\u001b[0m\u001b[0m\n\u001b[0m\u001b[0;32m    261\u001b[0m \u001b[1;33m\u001b[0m\u001b[0m\n\u001b[0;32m    262\u001b[0m     \u001b[1;32mdef\u001b[0m \u001b[0mget_data_transform\u001b[0m\u001b[1;33m(\u001b[0m\u001b[0mself\u001b[0m\u001b[1;33m)\u001b[0m\u001b[1;33m:\u001b[0m\u001b[1;33m\u001b[0m\u001b[1;33m\u001b[0m\u001b[0m\n",
      "\u001b[1;32m~\\anaconda3\\lib\\site-packages\\matplotlib\\patches.py\u001b[0m in \u001b[0;36mget_patch_transform\u001b[1;34m(self)\u001b[0m\n\u001b[0;32m    790\u001b[0m \u001b[1;33m\u001b[0m\u001b[0m\n\u001b[0;32m    791\u001b[0m     \u001b[1;32mdef\u001b[0m \u001b[0mget_patch_transform\u001b[0m\u001b[1;33m(\u001b[0m\u001b[0mself\u001b[0m\u001b[1;33m)\u001b[0m\u001b[1;33m:\u001b[0m\u001b[1;33m\u001b[0m\u001b[1;33m\u001b[0m\u001b[0m\n\u001b[1;32m--> 792\u001b[1;33m         \u001b[0mself\u001b[0m\u001b[1;33m.\u001b[0m\u001b[0m_update_patch_transform\u001b[0m\u001b[1;33m(\u001b[0m\u001b[1;33m)\u001b[0m\u001b[1;33m\u001b[0m\u001b[1;33m\u001b[0m\u001b[0m\n\u001b[0m\u001b[0;32m    793\u001b[0m         \u001b[1;32mreturn\u001b[0m \u001b[0mself\u001b[0m\u001b[1;33m.\u001b[0m\u001b[0m_rect_transform\u001b[0m\u001b[1;33m\u001b[0m\u001b[1;33m\u001b[0m\u001b[0m\n\u001b[0;32m    794\u001b[0m \u001b[1;33m\u001b[0m\u001b[0m\n",
      "\u001b[1;32m~\\anaconda3\\lib\\site-packages\\matplotlib\\patches.py\u001b[0m in \u001b[0;36m_update_patch_transform\u001b[1;34m(self)\u001b[0m\n\u001b[0;32m    771\u001b[0m         \u001b[0mbbox\u001b[0m \u001b[1;33m=\u001b[0m \u001b[0mtransforms\u001b[0m\u001b[1;33m.\u001b[0m\u001b[0mBbox\u001b[0m\u001b[1;33m.\u001b[0m\u001b[0mfrom_extents\u001b[0m\u001b[1;33m(\u001b[0m\u001b[0mx0\u001b[0m\u001b[1;33m,\u001b[0m \u001b[0my0\u001b[0m\u001b[1;33m,\u001b[0m \u001b[0mx1\u001b[0m\u001b[1;33m,\u001b[0m \u001b[0my1\u001b[0m\u001b[1;33m)\u001b[0m\u001b[1;33m\u001b[0m\u001b[1;33m\u001b[0m\u001b[0m\n\u001b[0;32m    772\u001b[0m         \u001b[0mrot_trans\u001b[0m \u001b[1;33m=\u001b[0m \u001b[0mtransforms\u001b[0m\u001b[1;33m.\u001b[0m\u001b[0mAffine2D\u001b[0m\u001b[1;33m(\u001b[0m\u001b[1;33m)\u001b[0m\u001b[1;33m\u001b[0m\u001b[1;33m\u001b[0m\u001b[0m\n\u001b[1;32m--> 773\u001b[1;33m         \u001b[0mrot_trans\u001b[0m\u001b[1;33m.\u001b[0m\u001b[0mrotate_deg_around\u001b[0m\u001b[1;33m(\u001b[0m\u001b[0mx0\u001b[0m\u001b[1;33m,\u001b[0m \u001b[0my0\u001b[0m\u001b[1;33m,\u001b[0m \u001b[0mself\u001b[0m\u001b[1;33m.\u001b[0m\u001b[0mangle\u001b[0m\u001b[1;33m)\u001b[0m\u001b[1;33m\u001b[0m\u001b[1;33m\u001b[0m\u001b[0m\n\u001b[0m\u001b[0;32m    774\u001b[0m         \u001b[0mself\u001b[0m\u001b[1;33m.\u001b[0m\u001b[0m_rect_transform\u001b[0m \u001b[1;33m=\u001b[0m \u001b[0mtransforms\u001b[0m\u001b[1;33m.\u001b[0m\u001b[0mBboxTransformTo\u001b[0m\u001b[1;33m(\u001b[0m\u001b[0mbbox\u001b[0m\u001b[1;33m)\u001b[0m\u001b[1;33m\u001b[0m\u001b[1;33m\u001b[0m\u001b[0m\n\u001b[0;32m    775\u001b[0m         \u001b[0mself\u001b[0m\u001b[1;33m.\u001b[0m\u001b[0m_rect_transform\u001b[0m \u001b[1;33m+=\u001b[0m \u001b[0mrot_trans\u001b[0m\u001b[1;33m\u001b[0m\u001b[1;33m\u001b[0m\u001b[0m\n",
      "\u001b[1;32m~\\anaconda3\\lib\\site-packages\\matplotlib\\transforms.py\u001b[0m in \u001b[0;36mrotate_deg_around\u001b[1;34m(self, x, y, degrees)\u001b[0m\n\u001b[0;32m   1965\u001b[0m         \u001b[1;31m# Cast to float to avoid wraparound issues with uint8's\u001b[0m\u001b[1;33m\u001b[0m\u001b[1;33m\u001b[0m\u001b[1;33m\u001b[0m\u001b[0m\n\u001b[0;32m   1966\u001b[0m         \u001b[0mx\u001b[0m\u001b[1;33m,\u001b[0m \u001b[0my\u001b[0m \u001b[1;33m=\u001b[0m \u001b[0mfloat\u001b[0m\u001b[1;33m(\u001b[0m\u001b[0mx\u001b[0m\u001b[1;33m)\u001b[0m\u001b[1;33m,\u001b[0m \u001b[0mfloat\u001b[0m\u001b[1;33m(\u001b[0m\u001b[0my\u001b[0m\u001b[1;33m)\u001b[0m\u001b[1;33m\u001b[0m\u001b[1;33m\u001b[0m\u001b[0m\n\u001b[1;32m-> 1967\u001b[1;33m         \u001b[1;32mreturn\u001b[0m \u001b[0mself\u001b[0m\u001b[1;33m.\u001b[0m\u001b[0mtranslate\u001b[0m\u001b[1;33m(\u001b[0m\u001b[1;33m-\u001b[0m\u001b[0mx\u001b[0m\u001b[1;33m,\u001b[0m \u001b[1;33m-\u001b[0m\u001b[0my\u001b[0m\u001b[1;33m)\u001b[0m\u001b[1;33m.\u001b[0m\u001b[0mrotate_deg\u001b[0m\u001b[1;33m(\u001b[0m\u001b[0mdegrees\u001b[0m\u001b[1;33m)\u001b[0m\u001b[1;33m.\u001b[0m\u001b[0mtranslate\u001b[0m\u001b[1;33m(\u001b[0m\u001b[0mx\u001b[0m\u001b[1;33m,\u001b[0m \u001b[0my\u001b[0m\u001b[1;33m)\u001b[0m\u001b[1;33m\u001b[0m\u001b[1;33m\u001b[0m\u001b[0m\n\u001b[0m\u001b[0;32m   1968\u001b[0m \u001b[1;33m\u001b[0m\u001b[0m\n\u001b[0;32m   1969\u001b[0m     \u001b[1;32mdef\u001b[0m \u001b[0mtranslate\u001b[0m\u001b[1;33m(\u001b[0m\u001b[0mself\u001b[0m\u001b[1;33m,\u001b[0m \u001b[0mtx\u001b[0m\u001b[1;33m,\u001b[0m \u001b[0mty\u001b[0m\u001b[1;33m)\u001b[0m\u001b[1;33m:\u001b[0m\u001b[1;33m\u001b[0m\u001b[1;33m\u001b[0m\u001b[0m\n",
      "\u001b[1;32m~\\anaconda3\\lib\\site-packages\\matplotlib\\transforms.py\u001b[0m in \u001b[0;36mrotate_deg\u001b[1;34m(self, degrees)\u001b[0m\n\u001b[0;32m   1943\u001b[0m         \u001b[1;32mand\u001b[0m \u001b[1;33m:\u001b[0m\u001b[0mmeth\u001b[0m\u001b[1;33m:\u001b[0m\u001b[0;31m`\u001b[0m\u001b[0mscale\u001b[0m\u001b[0;31m`\u001b[0m\u001b[1;33m.\u001b[0m\u001b[1;33m\u001b[0m\u001b[1;33m\u001b[0m\u001b[0m\n\u001b[0;32m   1944\u001b[0m         \"\"\"\n\u001b[1;32m-> 1945\u001b[1;33m         \u001b[1;32mreturn\u001b[0m \u001b[0mself\u001b[0m\u001b[1;33m.\u001b[0m\u001b[0mrotate\u001b[0m\u001b[1;33m(\u001b[0m\u001b[0mmath\u001b[0m\u001b[1;33m.\u001b[0m\u001b[0mradians\u001b[0m\u001b[1;33m(\u001b[0m\u001b[0mdegrees\u001b[0m\u001b[1;33m)\u001b[0m\u001b[1;33m)\u001b[0m\u001b[1;33m\u001b[0m\u001b[1;33m\u001b[0m\u001b[0m\n\u001b[0m\u001b[0;32m   1946\u001b[0m \u001b[1;33m\u001b[0m\u001b[0m\n\u001b[0;32m   1947\u001b[0m     \u001b[1;32mdef\u001b[0m \u001b[0mrotate_around\u001b[0m\u001b[1;33m(\u001b[0m\u001b[0mself\u001b[0m\u001b[1;33m,\u001b[0m \u001b[0mx\u001b[0m\u001b[1;33m,\u001b[0m \u001b[0my\u001b[0m\u001b[1;33m,\u001b[0m \u001b[0mtheta\u001b[0m\u001b[1;33m)\u001b[0m\u001b[1;33m:\u001b[0m\u001b[1;33m\u001b[0m\u001b[1;33m\u001b[0m\u001b[0m\n",
      "\u001b[1;32m~\\anaconda3\\lib\\site-packages\\matplotlib\\transforms.py\u001b[0m in \u001b[0;36mrotate\u001b[1;34m(self, theta)\u001b[0m\n\u001b[0;32m   1931\u001b[0m         rotate_mtx = np.array([[a, -b, 0.0], [b, a, 0.0], [0.0, 0.0, 1.0]],\n\u001b[0;32m   1932\u001b[0m                               float)\n\u001b[1;32m-> 1933\u001b[1;33m         \u001b[0mself\u001b[0m\u001b[1;33m.\u001b[0m\u001b[0m_mtx\u001b[0m \u001b[1;33m=\u001b[0m \u001b[0mnp\u001b[0m\u001b[1;33m.\u001b[0m\u001b[0mdot\u001b[0m\u001b[1;33m(\u001b[0m\u001b[0mrotate_mtx\u001b[0m\u001b[1;33m,\u001b[0m \u001b[0mself\u001b[0m\u001b[1;33m.\u001b[0m\u001b[0m_mtx\u001b[0m\u001b[1;33m)\u001b[0m\u001b[1;33m\u001b[0m\u001b[1;33m\u001b[0m\u001b[0m\n\u001b[0m\u001b[0;32m   1934\u001b[0m         \u001b[0mself\u001b[0m\u001b[1;33m.\u001b[0m\u001b[0minvalidate\u001b[0m\u001b[1;33m(\u001b[0m\u001b[1;33m)\u001b[0m\u001b[1;33m\u001b[0m\u001b[1;33m\u001b[0m\u001b[0m\n\u001b[0;32m   1935\u001b[0m         \u001b[1;32mreturn\u001b[0m \u001b[0mself\u001b[0m\u001b[1;33m\u001b[0m\u001b[1;33m\u001b[0m\u001b[0m\n",
      "\u001b[1;32m<__array_function__ internals>\u001b[0m in \u001b[0;36mdot\u001b[1;34m(*args, **kwargs)\u001b[0m\n",
      "\u001b[1;31mKeyboardInterrupt\u001b[0m: "
     ]
    }
   ],
   "source": [
    "sns.pairplot(num_df)"
   ]
  },
  {
   "cell_type": "markdown",
   "metadata": {},
   "source": [
    "#### check normal distribution"
   ]
  },
  {
   "cell_type": "markdown",
   "metadata": {},
   "source": [
    "### categorical variables"
   ]
  },
  {
   "cell_type": "markdown",
   "metadata": {},
   "source": [
    "#### wordcloud"
   ]
  },
  {
   "cell_type": "markdown",
   "metadata": {},
   "source": [
    "https://www.datacamp.com/community/tutorials/wordcloud-python"
   ]
  },
  {
   "cell_type": "markdown",
   "metadata": {},
   "source": [
    "https://www.searchenginejournal.com/predict-content-success-python/387064/#close"
   ]
  },
  {
   "cell_type": "code",
   "execution_count": 38,
   "metadata": {},
   "outputs": [],
   "source": [
    "?WordCloud"
   ]
  },
  {
   "cell_type": "code",
   "execution_count": 40,
   "metadata": {},
   "outputs": [
    {
     "data": {
      "image/png": "[encoded data removed]",
      "text/plain": [
       "<Figure size 432x288 with 1 Axes>"
      ]
     },
     "metadata": {
      "needs_background": "light"
     },
     "output_type": "display_data"
    }
   ],
   "source": [
    "# Start with one review:\n",
    "text = df['blurb'].iloc[0]\n",
    "\n",
    "# Create and generate a word cloud image:\n",
    "wordcloud = WordCloud().generate(text)\n",
    "\n",
    "# Display the generated image:\n",
    "plt.imshow(wordcloud, interpolation='bilinear')\n",
    "plt.axis(\"off\")\n",
    "plt.show()"
   ]
  },
  {
   "cell_type": "code",
   "execution_count": 20,
   "metadata": {},
   "outputs": [
    {
     "ename": "TypeError",
     "evalue": "sequence item 3799: expected str instance, float found",
     "output_type": "error",
     "traceback": [
      "\u001b[1;31m---------------------------------------------------------------------------\u001b[0m",
      "\u001b[1;31mTypeError\u001b[0m                                 Traceback (most recent call last)",
      "\u001b[1;32m<ipython-input-20-a9dea2b28a8b>\u001b[0m in \u001b[0;36m<module>\u001b[1;34m\u001b[0m\n\u001b[0;32m      1\u001b[0m \u001b[1;32mfrom\u001b[0m \u001b[0mwordcloud\u001b[0m \u001b[1;32mimport\u001b[0m \u001b[0mWordCloud\u001b[0m\u001b[1;33m,\u001b[0m \u001b[0mSTOPWORDS\u001b[0m\u001b[1;33m,\u001b[0m \u001b[0mImageColorGenerator\u001b[0m\u001b[1;33m\u001b[0m\u001b[1;33m\u001b[0m\u001b[0m\n\u001b[0;32m      2\u001b[0m \u001b[0mplt\u001b[0m\u001b[1;33m.\u001b[0m\u001b[0mrcParams\u001b[0m\u001b[1;33m[\u001b[0m\u001b[1;34m'figure.figsize'\u001b[0m\u001b[1;33m]\u001b[0m \u001b[1;33m=\u001b[0m \u001b[1;33m(\u001b[0m\u001b[1;36m13\u001b[0m\u001b[1;33m,\u001b[0m \u001b[1;36m13\u001b[0m\u001b[1;33m)\u001b[0m\u001b[1;33m\u001b[0m\u001b[1;33m\u001b[0m\u001b[0m\n\u001b[1;32m----> 3\u001b[1;33m \u001b[0mwordcloud\u001b[0m \u001b[1;33m=\u001b[0m \u001b[0mWordCloud\u001b[0m\u001b[1;33m(\u001b[0m\u001b[0mstopwords\u001b[0m\u001b[1;33m=\u001b[0m\u001b[0mSTOPWORDS\u001b[0m\u001b[1;33m,\u001b[0m\u001b[0mbackground_color\u001b[0m \u001b[1;33m=\u001b[0m \u001b[1;34m'black'\u001b[0m\u001b[1;33m,\u001b[0m \u001b[0mwidth\u001b[0m \u001b[1;33m=\u001b[0m \u001b[1;36m1000\u001b[0m\u001b[1;33m,\u001b[0m  \u001b[0mheight\u001b[0m \u001b[1;33m=\u001b[0m \u001b[1;36m1000\u001b[0m\u001b[1;33m,\u001b[0m \u001b[0mmax_words\u001b[0m \u001b[1;33m=\u001b[0m \u001b[1;36m121\u001b[0m\u001b[1;33m)\u001b[0m\u001b[1;33m.\u001b[0m\u001b[0mgenerate\u001b[0m\u001b[1;33m(\u001b[0m\u001b[1;34m' '\u001b[0m\u001b[1;33m.\u001b[0m\u001b[0mjoin\u001b[0m\u001b[1;33m(\u001b[0m\u001b[0mdf\u001b[0m\u001b[1;33m[\u001b[0m\u001b[1;34m'description'\u001b[0m\u001b[1;33m]\u001b[0m\u001b[1;33m)\u001b[0m\u001b[1;33m)\u001b[0m\u001b[1;33m\u001b[0m\u001b[1;33m\u001b[0m\u001b[0m\n\u001b[0m\u001b[0;32m      4\u001b[0m \u001b[0mplt\u001b[0m\u001b[1;33m.\u001b[0m\u001b[0mimshow\u001b[0m\u001b[1;33m(\u001b[0m\u001b[0mwordcloud\u001b[0m\u001b[1;33m)\u001b[0m\u001b[1;33m\u001b[0m\u001b[1;33m\u001b[0m\u001b[0m\n\u001b[0;32m      5\u001b[0m \u001b[0mplt\u001b[0m\u001b[1;33m.\u001b[0m\u001b[0maxis\u001b[0m\u001b[1;33m(\u001b[0m\u001b[1;34m'off'\u001b[0m\u001b[1;33m)\u001b[0m\u001b[1;33m\u001b[0m\u001b[1;33m\u001b[0m\u001b[0m\n",
      "\u001b[1;31mTypeError\u001b[0m: sequence item 3799: expected str instance, float found"
     ]
    }
   ],
   "source": [
    "from wordcloud import WordCloud, STOPWORDS, ImageColorGenerator\n",
    "plt.rcParams['figure.figsize'] = (13, 13)\n",
    "wordcloud = WordCloud(stopwords=STOPWORDS,background_color = 'black', width = 1000,  height = 1000, max_words = 121).generate(' '.join(df['description']))\n",
    "plt.imshow(wordcloud)\n",
    "plt.axis('off')\n",
    "plt.title('Most Popular Words in project description',fontsize = 30)\n",
    "plt.show()"
   ]
  },
  {
   "cell_type": "markdown",
   "metadata": {},
   "source": [
    "### mixed analysis"
   ]
  },
  {
   "cell_type": "markdown",
   "metadata": {},
   "source": [
    "### projects per weekday"
   ]
  },
  {
   "cell_type": "code",
   "execution_count": 46,
   "metadata": {
    "scrolled": false
   },
   "outputs": [
    {
     "data": {
      "text/plain": [
       "target\n",
       "True     10.350080\n",
       "False     0.117567\n",
       "Name: funded_rate, dtype: float64"
      ]
     },
     "execution_count": 46,
     "metadata": {},
     "output_type": "execute_result"
    }
   ],
   "source": [
    "df.groupby([\"target\"])[\"funded_rate\"].mean().sort_values(ascending=False)"
   ]
  },
  {
   "cell_type": "markdown",
   "metadata": {},
   "source": [
    "### projects per category"
   ]
  },
  {
   "cell_type": "markdown",
   "metadata": {},
   "source": [
    "category_parent_name"
   ]
  },
  {
   "cell_type": "code",
   "execution_count": null,
   "metadata": {},
   "outputs": [],
   "source": [
    "import matplotlib.pyplot as plt\n",
    "import numpy as np\n",
    "\n",
    "# Fixing random state for reproducibility\n",
    "np.random.seed(19680801)\n",
    "\n",
    "\n",
    "plt.rcdefaults()\n",
    "fig, ax = plt.subplots()\n",
    "\n",
    "# Example data\n",
    "people = ('Tom', 'Dick', 'Harry', 'Slim', 'Jim')\n",
    "y_pos = np.arange(len(people))\n",
    "performance = 3 + 10 * np.random.rand(len(people))\n",
    "error = np.random.rand(len(people))\n",
    "\n",
    "ax.barh(y_pos, performance, xerr=error, align='center')\n",
    "ax.set_yticks(y_pos)\n",
    "ax.set_yticklabels(df['category_parent_name'])\n",
    "ax.invert_yaxis()  # labels read top-to-bottom\n",
    "ax.set_xlabel('Performance')\n",
    "ax.set_title('How fast do you want to go today?')\n",
    "\n",
    "plt.show()"
   ]
  },
  {
   "cell_type": "code",
   "execution_count": null,
   "metadata": {},
   "outputs": [],
   "source": [
    "# top 30 runtime movies on Hulu = projects with top funding_rate\n",
    "top_30_screenplay = hulu_movies.sort_values(by = 'screenplay', ascending = False).head(30)\n",
    "plt.figure(figsize = (15, 10))\n",
    "sns.barplot(data = top_30_screenplay, y = 'Title', x = 'screenplay', hue = 'Country', dodge = False)\n",
    "plt.legend(loc = 'lower right')\n",
    "plt.xlabel('Total Hours')\n",
    "plt.ylabel('Movie')\n",
    "plt.title('Top 30 movies by Run Time')\n",
    "plt.show()"
   ]
  },
  {
   "cell_type": "code",
   "execution_count": null,
   "metadata": {},
   "outputs": [],
   "source": []
  },
  {
   "cell_type": "markdown",
   "metadata": {},
   "source": [
    "### Check for Correlation"
   ]
  },
  {
   "cell_type": "code",
   "execution_count": 21,
   "metadata": {
    "scrolled": false
   },
   "outputs": [
    {
     "data": {
      "image/png": "[encoded data removed]",
      "text/plain": [
       "<Figure size 720x576 with 2 Axes>"
      ]
     },
     "metadata": {
      "needs_background": "light"
     },
     "output_type": "display_data"
    }
   ],
   "source": [
    "#round(df.corr()['death_event'].sort_values(ascending=False),2)\n",
    "\n",
    "# create correlation heatmap \n",
    "\n",
    "mask = np.zeros_like(df.corr())\n",
    "\n",
    "mask[np.triu_indices_from(mask)] = True\n",
    "\n",
    "fig, ax = plt.subplots(figsize=(10, 8))\n",
    "ax = sns.heatmap(df.corr(), mask=mask, vmin=-1, vmax=1, annot=True, cmap='coolwarm')\n",
    "\n",
    "plt.show()"
   ]
  },
  {
   "cell_type": "markdown",
   "metadata": {},
   "source": [
    "## outliers"
   ]
  },
  {
   "cell_type": "markdown",
   "metadata": {},
   "source": [
    "### check for outliers in num_df"
   ]
  },
  {
   "cell_type": "code",
   "execution_count": 22,
   "metadata": {
    "scrolled": true
   },
   "outputs": [
    {
     "data": {
      "image/png": "[encoded data removed]",
      "text/plain": [
       "<Figure size 936x936 with 1 Axes>"
      ]
     },
     "metadata": {
      "needs_background": "light"
     },
     "output_type": "display_data"
    },
    {
     "data": {
      "image/png": "[encoded data removed]",
      "text/plain": [
       "<Figure size 936x936 with 1 Axes>"
      ]
     },
     "metadata": {
      "needs_background": "light"
     },
     "output_type": "display_data"
    },
    {
     "data": {
      "image/png": "[encoded data removed]",
      "text/plain": [
       "<Figure size 936x936 with 1 Axes>"
      ]
     },
     "metadata": {
      "needs_background": "light"
     },
     "output_type": "display_data"
    },
    {
     "data": {
      "image/png": "[encoded data removed]",
      "text/plain": [
       "<Figure size 936x936 with 1 Axes>"
      ]
     },
     "metadata": {
      "needs_background": "light"
     },
     "output_type": "display_data"
    },
    {
     "data": {
      "image/png": "[encoded data removed]",
      "text/plain": [
       "<Figure size 936x936 with 1 Axes>"
      ]
     },
     "metadata": {
      "needs_background": "light"
     },
     "output_type": "display_data"
    },
    {
     "data": {
      "image/png": "[encoded data removed]",
      "text/plain": [
       "<Figure size 936x936 with 1 Axes>"
      ]
     },
     "metadata": {
      "needs_background": "light"
     },
     "output_type": "display_data"
    },
    {
     "data": {
      "image/png": "[encoded data removed]",
      "text/plain": [
       "<Figure size 936x936 with 1 Axes>"
      ]
     },
     "metadata": {
      "needs_background": "light"
     },
     "output_type": "display_data"
    },
    {
     "data": {
      "image/png": "[encoded data removed]",
      "text/plain": [
       "<Figure size 936x936 with 1 Axes>"
      ]
     },
     "metadata": {
      "needs_background": "light"
     },
     "output_type": "display_data"
    }
   ],
   "source": [
    "for column in num_df.columns:\n",
    "    sns.boxplot(num_df[column])\n",
    "    plt.show()"
   ]
  },
  {
   "cell_type": "markdown",
   "metadata": {},
   "source": [
    "### deal with outliers in num_df"
   ]
  },
  {
   "cell_type": "code",
   "execution_count": null,
   "metadata": {},
   "outputs": [],
   "source": []
  },
  {
   "cell_type": "markdown",
   "metadata": {},
   "source": [
    "## scaling"
   ]
  },
  {
   "cell_type": "markdown",
   "metadata": {},
   "source": [
    "\n",
    "- `Standard scaler`: Removes the mean and scales the data to unit variance. For each column, each value in the column is subtracted by the mean of the column and then divided by the standard deviation.\n",
    "- `Min-max scaler`: It scales the data in the range of [0,1]. For each column, each value in the column is subtracted by the max of the column and then divided by the difference of max and min of the column. It is very sensitive to the presence of outliers.\n",
    "- `Normalize`: It rescales the vector to have a unit norm. This means that, for each column, each value is divided by the magnitude of the column. The magnitude is calculated as the euclidean distance.\n"
   ]
  },
  {
   "cell_type": "markdown",
   "metadata": {},
   "source": [
    "### StandardScaler"
   ]
  },
  {
   "cell_type": "code",
   "execution_count": 65,
   "metadata": {},
   "outputs": [],
   "source": [
    "from sklearn.preprocessing import StandardScaler\n",
    "transformer = StandardScaler().fit(X_num)\n",
    "x_standardized = transformer.transform(X_num)\n",
    "x_standardized"
   ]
  },
  {
   "cell_type": "markdown",
   "metadata": {},
   "source": [
    "### MinMaxScaler"
   ]
  },
  {
   "cell_type": "code",
   "execution_count": null,
   "metadata": {},
   "outputs": [],
   "source": [
    "from sklearn.preprocessing import MinMaxScaler\n",
    "transformer = MinMaxScaler().fit(numerical)\n",
    "x_min_max = transformer.transform(numerical)\n",
    "x_min_max"
   ]
  },
  {
   "cell_type": "markdown",
   "metadata": {},
   "source": [
    "### Normalizer"
   ]
  },
  {
   "cell_type": "code",
   "execution_count": null,
   "metadata": {},
   "outputs": [],
   "source": [
    "from sklearn.preprocessing import Normalizer\n",
    "transformer = Normalizer().fit(numerical)\n",
    "x_normalized = transformer.transform(numerical)\n",
    "x_normalized"
   ]
  },
  {
   "cell_type": "markdown",
   "metadata": {},
   "source": [
    "## data imbalances"
   ]
  },
  {
   "cell_type": "markdown",
   "metadata": {},
   "source": [
    "### check whether data is imbalanced"
   ]
  },
  {
   "cell_type": "code",
   "execution_count": 55,
   "metadata": {
    "scrolled": false
   },
   "outputs": [
    {
     "data": {
      "text/plain": [
       "successful    108652\n",
       "failed         75902\n",
       "Name: state, dtype: int64"
      ]
     },
     "execution_count": 55,
     "metadata": {},
     "output_type": "execute_result"
    },
    {
     "data": {
      "image/png": "[encoded data removed]",
      "text/plain": [
       "<Figure size 432x288 with 1 Axes>"
      ]
     },
     "metadata": {
      "needs_background": "light"
     },
     "output_type": "display_data"
    }
   ],
   "source": [
    "pd.value_counts(df['state']).plot.bar()\n",
    "plt.title('goal reached?')\n",
    "plt.xlabel('state')\n",
    "plt.ylabel('Frequency')\n",
    "df['state'].value_counts()"
   ]
  },
  {
   "cell_type": "markdown",
   "metadata": {},
   "source": [
    "**YES** the data is a bit unbalanced as there are 108.652 (58.86%) successful and only 75.902 (41.12%) failed projects."
   ]
  },
  {
   "cell_type": "code",
   "execution_count": 56,
   "metadata": {},
   "outputs": [],
   "source": [
    "successful=108652\n",
    "failed=75902\n",
    "total=successful+failed"
   ]
  },
  {
   "cell_type": "code",
   "execution_count": 58,
   "metadata": {},
   "outputs": [
    {
     "data": {
      "text/plain": [
       "0.411272581466671"
      ]
     },
     "execution_count": 58,
     "metadata": {},
     "output_type": "execute_result"
    }
   ],
   "source": [
    "failed/total"
   ]
  },
  {
   "cell_type": "code",
   "execution_count": 59,
   "metadata": {},
   "outputs": [
    {
     "data": {
      "text/plain": [
       "0.588727418533329"
      ]
     },
     "execution_count": 59,
     "metadata": {},
     "output_type": "execute_result"
    }
   ],
   "source": [
    "successful/total"
   ]
  },
  {
   "cell_type": "markdown",
   "metadata": {},
   "source": [
    "### deal with imbalances"
   ]
  },
  {
   "cell_type": "markdown",
   "metadata": {},
   "source": [
    "#### Manual upsampling"
   ]
  },
  {
   "cell_type": "code",
   "execution_count": null,
   "metadata": {},
   "outputs": [],
   "source": [
    "successful = df[df['state'] == 'successful'].sample(400)\n",
    "failed = df[df['state'] == 'failed'].sample(400, replace=True)\n",
    "\n",
    "upsampled = pd.concat([successful, failed]).sample(frac=1)\n",
    "upsampled"
   ]
  },
  {
   "cell_type": "markdown",
   "metadata": {},
   "source": [
    "#### SMOTE for upsampling"
   ]
  },
  {
   "cell_type": "markdown",
   "metadata": {},
   "source": [
    "I have decided to upsample the minority class by using SMOTE. Why did I chose this?"
   ]
  },
  {
   "cell_type": "code",
   "execution_count": 63,
   "metadata": {},
   "outputs": [
    {
     "ename": "ValueError",
     "evalue": "could not convert string to float: 'the United States'",
     "output_type": "error",
     "traceback": [
      "\u001b[1;31m---------------------------------------------------------------------------\u001b[0m",
      "\u001b[1;31mValueError\u001b[0m                                Traceback (most recent call last)",
      "\u001b[1;32m<ipython-input-63-57e261b8cfae>\u001b[0m in \u001b[0;36m<module>\u001b[1;34m\u001b[0m\n\u001b[0;32m      6\u001b[0m \u001b[0my\u001b[0m \u001b[1;33m=\u001b[0m \u001b[0mdf\u001b[0m\u001b[1;33m[\u001b[0m\u001b[1;34m'state'\u001b[0m\u001b[1;33m]\u001b[0m\u001b[1;33m\u001b[0m\u001b[1;33m\u001b[0m\u001b[0m\n\u001b[0;32m      7\u001b[0m \u001b[1;33m\u001b[0m\u001b[0m\n\u001b[1;32m----> 8\u001b[1;33m \u001b[0mX_sm\u001b[0m\u001b[1;33m,\u001b[0m \u001b[0my_sm\u001b[0m \u001b[1;33m=\u001b[0m \u001b[0msmote\u001b[0m\u001b[1;33m.\u001b[0m\u001b[0mfit_resample\u001b[0m\u001b[1;33m(\u001b[0m\u001b[0mX\u001b[0m\u001b[1;33m,\u001b[0m \u001b[0my\u001b[0m\u001b[1;33m)\u001b[0m\u001b[1;33m\u001b[0m\u001b[1;33m\u001b[0m\u001b[0m\n\u001b[0m\u001b[0;32m      9\u001b[0m \u001b[0my_sm\u001b[0m\u001b[1;33m.\u001b[0m\u001b[0mvalue_counts\u001b[0m\u001b[1;33m(\u001b[0m\u001b[1;33m)\u001b[0m\u001b[1;33m\u001b[0m\u001b[1;33m\u001b[0m\u001b[0m\n",
      "\u001b[1;32m~\\AppData\\Roaming\\Python\\Python38\\site-packages\\imblearn\\base.py\u001b[0m in \u001b[0;36mfit_resample\u001b[1;34m(self, X, y)\u001b[0m\n\u001b[0;32m     75\u001b[0m         \u001b[0mcheck_classification_targets\u001b[0m\u001b[1;33m(\u001b[0m\u001b[0my\u001b[0m\u001b[1;33m)\u001b[0m\u001b[1;33m\u001b[0m\u001b[1;33m\u001b[0m\u001b[0m\n\u001b[0;32m     76\u001b[0m         \u001b[0marrays_transformer\u001b[0m \u001b[1;33m=\u001b[0m \u001b[0mArraysTransformer\u001b[0m\u001b[1;33m(\u001b[0m\u001b[0mX\u001b[0m\u001b[1;33m,\u001b[0m \u001b[0my\u001b[0m\u001b[1;33m)\u001b[0m\u001b[1;33m\u001b[0m\u001b[1;33m\u001b[0m\u001b[0m\n\u001b[1;32m---> 77\u001b[1;33m         \u001b[0mX\u001b[0m\u001b[1;33m,\u001b[0m \u001b[0my\u001b[0m\u001b[1;33m,\u001b[0m \u001b[0mbinarize_y\u001b[0m \u001b[1;33m=\u001b[0m \u001b[0mself\u001b[0m\u001b[1;33m.\u001b[0m\u001b[0m_check_X_y\u001b[0m\u001b[1;33m(\u001b[0m\u001b[0mX\u001b[0m\u001b[1;33m,\u001b[0m \u001b[0my\u001b[0m\u001b[1;33m)\u001b[0m\u001b[1;33m\u001b[0m\u001b[1;33m\u001b[0m\u001b[0m\n\u001b[0m\u001b[0;32m     78\u001b[0m \u001b[1;33m\u001b[0m\u001b[0m\n\u001b[0;32m     79\u001b[0m         self.sampling_strategy_ = check_sampling_strategy(\n",
      "\u001b[1;32m~\\AppData\\Roaming\\Python\\Python38\\site-packages\\imblearn\\base.py\u001b[0m in \u001b[0;36m_check_X_y\u001b[1;34m(self, X, y, accept_sparse)\u001b[0m\n\u001b[0;32m    128\u001b[0m             \u001b[0maccept_sparse\u001b[0m \u001b[1;33m=\u001b[0m \u001b[1;33m[\u001b[0m\u001b[1;34m\"csr\"\u001b[0m\u001b[1;33m,\u001b[0m \u001b[1;34m\"csc\"\u001b[0m\u001b[1;33m]\u001b[0m\u001b[1;33m\u001b[0m\u001b[1;33m\u001b[0m\u001b[0m\n\u001b[0;32m    129\u001b[0m         \u001b[0my\u001b[0m\u001b[1;33m,\u001b[0m \u001b[0mbinarize_y\u001b[0m \u001b[1;33m=\u001b[0m \u001b[0mcheck_target_type\u001b[0m\u001b[1;33m(\u001b[0m\u001b[0my\u001b[0m\u001b[1;33m,\u001b[0m \u001b[0mindicate_one_vs_all\u001b[0m\u001b[1;33m=\u001b[0m\u001b[1;32mTrue\u001b[0m\u001b[1;33m)\u001b[0m\u001b[1;33m\u001b[0m\u001b[1;33m\u001b[0m\u001b[0m\n\u001b[1;32m--> 130\u001b[1;33m         \u001b[0mX\u001b[0m\u001b[1;33m,\u001b[0m \u001b[0my\u001b[0m \u001b[1;33m=\u001b[0m \u001b[0mself\u001b[0m\u001b[1;33m.\u001b[0m\u001b[0m_validate_data\u001b[0m\u001b[1;33m(\u001b[0m\u001b[0mX\u001b[0m\u001b[1;33m,\u001b[0m \u001b[0my\u001b[0m\u001b[1;33m,\u001b[0m \u001b[0mreset\u001b[0m\u001b[1;33m=\u001b[0m\u001b[1;32mTrue\u001b[0m\u001b[1;33m,\u001b[0m \u001b[0maccept_sparse\u001b[0m\u001b[1;33m=\u001b[0m\u001b[0maccept_sparse\u001b[0m\u001b[1;33m)\u001b[0m\u001b[1;33m\u001b[0m\u001b[1;33m\u001b[0m\u001b[0m\n\u001b[0m\u001b[0;32m    131\u001b[0m         \u001b[1;32mreturn\u001b[0m \u001b[0mX\u001b[0m\u001b[1;33m,\u001b[0m \u001b[0my\u001b[0m\u001b[1;33m,\u001b[0m \u001b[0mbinarize_y\u001b[0m\u001b[1;33m\u001b[0m\u001b[1;33m\u001b[0m\u001b[0m\n\u001b[0;32m    132\u001b[0m \u001b[1;33m\u001b[0m\u001b[0m\n",
      "\u001b[1;32m~\\anaconda3\\lib\\site-packages\\sklearn\\base.py\u001b[0m in \u001b[0;36m_validate_data\u001b[1;34m(self, X, y, reset, validate_separately, **check_params)\u001b[0m\n\u001b[0;32m    431\u001b[0m                 \u001b[0my\u001b[0m \u001b[1;33m=\u001b[0m \u001b[0mcheck_array\u001b[0m\u001b[1;33m(\u001b[0m\u001b[0my\u001b[0m\u001b[1;33m,\u001b[0m \u001b[1;33m**\u001b[0m\u001b[0mcheck_y_params\u001b[0m\u001b[1;33m)\u001b[0m\u001b[1;33m\u001b[0m\u001b[1;33m\u001b[0m\u001b[0m\n\u001b[0;32m    432\u001b[0m             \u001b[1;32melse\u001b[0m\u001b[1;33m:\u001b[0m\u001b[1;33m\u001b[0m\u001b[1;33m\u001b[0m\u001b[0m\n\u001b[1;32m--> 433\u001b[1;33m                 \u001b[0mX\u001b[0m\u001b[1;33m,\u001b[0m \u001b[0my\u001b[0m \u001b[1;33m=\u001b[0m \u001b[0mcheck_X_y\u001b[0m\u001b[1;33m(\u001b[0m\u001b[0mX\u001b[0m\u001b[1;33m,\u001b[0m \u001b[0my\u001b[0m\u001b[1;33m,\u001b[0m \u001b[1;33m**\u001b[0m\u001b[0mcheck_params\u001b[0m\u001b[1;33m)\u001b[0m\u001b[1;33m\u001b[0m\u001b[1;33m\u001b[0m\u001b[0m\n\u001b[0m\u001b[0;32m    434\u001b[0m             \u001b[0mout\u001b[0m \u001b[1;33m=\u001b[0m \u001b[0mX\u001b[0m\u001b[1;33m,\u001b[0m \u001b[0my\u001b[0m\u001b[1;33m\u001b[0m\u001b[1;33m\u001b[0m\u001b[0m\n\u001b[0;32m    435\u001b[0m \u001b[1;33m\u001b[0m\u001b[0m\n",
      "\u001b[1;32m~\\anaconda3\\lib\\site-packages\\sklearn\\utils\\validation.py\u001b[0m in \u001b[0;36minner_f\u001b[1;34m(*args, **kwargs)\u001b[0m\n\u001b[0;32m     61\u001b[0m             \u001b[0mextra_args\u001b[0m \u001b[1;33m=\u001b[0m \u001b[0mlen\u001b[0m\u001b[1;33m(\u001b[0m\u001b[0margs\u001b[0m\u001b[1;33m)\u001b[0m \u001b[1;33m-\u001b[0m \u001b[0mlen\u001b[0m\u001b[1;33m(\u001b[0m\u001b[0mall_args\u001b[0m\u001b[1;33m)\u001b[0m\u001b[1;33m\u001b[0m\u001b[1;33m\u001b[0m\u001b[0m\n\u001b[0;32m     62\u001b[0m             \u001b[1;32mif\u001b[0m \u001b[0mextra_args\u001b[0m \u001b[1;33m<=\u001b[0m \u001b[1;36m0\u001b[0m\u001b[1;33m:\u001b[0m\u001b[1;33m\u001b[0m\u001b[1;33m\u001b[0m\u001b[0m\n\u001b[1;32m---> 63\u001b[1;33m                 \u001b[1;32mreturn\u001b[0m \u001b[0mf\u001b[0m\u001b[1;33m(\u001b[0m\u001b[1;33m*\u001b[0m\u001b[0margs\u001b[0m\u001b[1;33m,\u001b[0m \u001b[1;33m**\u001b[0m\u001b[0mkwargs\u001b[0m\u001b[1;33m)\u001b[0m\u001b[1;33m\u001b[0m\u001b[1;33m\u001b[0m\u001b[0m\n\u001b[0m\u001b[0;32m     64\u001b[0m \u001b[1;33m\u001b[0m\u001b[0m\n\u001b[0;32m     65\u001b[0m             \u001b[1;31m# extra_args > 0\u001b[0m\u001b[1;33m\u001b[0m\u001b[1;33m\u001b[0m\u001b[1;33m\u001b[0m\u001b[0m\n",
      "\u001b[1;32m~\\anaconda3\\lib\\site-packages\\sklearn\\utils\\validation.py\u001b[0m in \u001b[0;36mcheck_X_y\u001b[1;34m(X, y, accept_sparse, accept_large_sparse, dtype, order, copy, force_all_finite, ensure_2d, allow_nd, multi_output, ensure_min_samples, ensure_min_features, y_numeric, estimator)\u001b[0m\n\u001b[0;32m    869\u001b[0m         \u001b[1;32mraise\u001b[0m \u001b[0mValueError\u001b[0m\u001b[1;33m(\u001b[0m\u001b[1;34m\"y cannot be None\"\u001b[0m\u001b[1;33m)\u001b[0m\u001b[1;33m\u001b[0m\u001b[1;33m\u001b[0m\u001b[0m\n\u001b[0;32m    870\u001b[0m \u001b[1;33m\u001b[0m\u001b[0m\n\u001b[1;32m--> 871\u001b[1;33m     X = check_array(X, accept_sparse=accept_sparse,\n\u001b[0m\u001b[0;32m    872\u001b[0m                     \u001b[0maccept_large_sparse\u001b[0m\u001b[1;33m=\u001b[0m\u001b[0maccept_large_sparse\u001b[0m\u001b[1;33m,\u001b[0m\u001b[1;33m\u001b[0m\u001b[1;33m\u001b[0m\u001b[0m\n\u001b[0;32m    873\u001b[0m                     \u001b[0mdtype\u001b[0m\u001b[1;33m=\u001b[0m\u001b[0mdtype\u001b[0m\u001b[1;33m,\u001b[0m \u001b[0morder\u001b[0m\u001b[1;33m=\u001b[0m\u001b[0morder\u001b[0m\u001b[1;33m,\u001b[0m \u001b[0mcopy\u001b[0m\u001b[1;33m=\u001b[0m\u001b[0mcopy\u001b[0m\u001b[1;33m,\u001b[0m\u001b[1;33m\u001b[0m\u001b[1;33m\u001b[0m\u001b[0m\n",
      "\u001b[1;32m~\\anaconda3\\lib\\site-packages\\sklearn\\utils\\validation.py\u001b[0m in \u001b[0;36minner_f\u001b[1;34m(*args, **kwargs)\u001b[0m\n\u001b[0;32m     61\u001b[0m             \u001b[0mextra_args\u001b[0m \u001b[1;33m=\u001b[0m \u001b[0mlen\u001b[0m\u001b[1;33m(\u001b[0m\u001b[0margs\u001b[0m\u001b[1;33m)\u001b[0m \u001b[1;33m-\u001b[0m \u001b[0mlen\u001b[0m\u001b[1;33m(\u001b[0m\u001b[0mall_args\u001b[0m\u001b[1;33m)\u001b[0m\u001b[1;33m\u001b[0m\u001b[1;33m\u001b[0m\u001b[0m\n\u001b[0;32m     62\u001b[0m             \u001b[1;32mif\u001b[0m \u001b[0mextra_args\u001b[0m \u001b[1;33m<=\u001b[0m \u001b[1;36m0\u001b[0m\u001b[1;33m:\u001b[0m\u001b[1;33m\u001b[0m\u001b[1;33m\u001b[0m\u001b[0m\n\u001b[1;32m---> 63\u001b[1;33m                 \u001b[1;32mreturn\u001b[0m \u001b[0mf\u001b[0m\u001b[1;33m(\u001b[0m\u001b[1;33m*\u001b[0m\u001b[0margs\u001b[0m\u001b[1;33m,\u001b[0m \u001b[1;33m**\u001b[0m\u001b[0mkwargs\u001b[0m\u001b[1;33m)\u001b[0m\u001b[1;33m\u001b[0m\u001b[1;33m\u001b[0m\u001b[0m\n\u001b[0m\u001b[0;32m     64\u001b[0m \u001b[1;33m\u001b[0m\u001b[0m\n\u001b[0;32m     65\u001b[0m             \u001b[1;31m# extra_args > 0\u001b[0m\u001b[1;33m\u001b[0m\u001b[1;33m\u001b[0m\u001b[1;33m\u001b[0m\u001b[0m\n",
      "\u001b[1;32m~\\anaconda3\\lib\\site-packages\\sklearn\\utils\\validation.py\u001b[0m in \u001b[0;36mcheck_array\u001b[1;34m(array, accept_sparse, accept_large_sparse, dtype, order, copy, force_all_finite, ensure_2d, allow_nd, ensure_min_samples, ensure_min_features, estimator)\u001b[0m\n\u001b[0;32m    671\u001b[0m                     \u001b[0marray\u001b[0m \u001b[1;33m=\u001b[0m \u001b[0marray\u001b[0m\u001b[1;33m.\u001b[0m\u001b[0mastype\u001b[0m\u001b[1;33m(\u001b[0m\u001b[0mdtype\u001b[0m\u001b[1;33m,\u001b[0m \u001b[0mcasting\u001b[0m\u001b[1;33m=\u001b[0m\u001b[1;34m\"unsafe\"\u001b[0m\u001b[1;33m,\u001b[0m \u001b[0mcopy\u001b[0m\u001b[1;33m=\u001b[0m\u001b[1;32mFalse\u001b[0m\u001b[1;33m)\u001b[0m\u001b[1;33m\u001b[0m\u001b[1;33m\u001b[0m\u001b[0m\n\u001b[0;32m    672\u001b[0m                 \u001b[1;32melse\u001b[0m\u001b[1;33m:\u001b[0m\u001b[1;33m\u001b[0m\u001b[1;33m\u001b[0m\u001b[0m\n\u001b[1;32m--> 673\u001b[1;33m                     \u001b[0marray\u001b[0m \u001b[1;33m=\u001b[0m \u001b[0mnp\u001b[0m\u001b[1;33m.\u001b[0m\u001b[0masarray\u001b[0m\u001b[1;33m(\u001b[0m\u001b[0marray\u001b[0m\u001b[1;33m,\u001b[0m \u001b[0morder\u001b[0m\u001b[1;33m=\u001b[0m\u001b[0morder\u001b[0m\u001b[1;33m,\u001b[0m \u001b[0mdtype\u001b[0m\u001b[1;33m=\u001b[0m\u001b[0mdtype\u001b[0m\u001b[1;33m)\u001b[0m\u001b[1;33m\u001b[0m\u001b[1;33m\u001b[0m\u001b[0m\n\u001b[0m\u001b[0;32m    674\u001b[0m             \u001b[1;32mexcept\u001b[0m \u001b[0mComplexWarning\u001b[0m \u001b[1;32mas\u001b[0m \u001b[0mcomplex_warning\u001b[0m\u001b[1;33m:\u001b[0m\u001b[1;33m\u001b[0m\u001b[1;33m\u001b[0m\u001b[0m\n\u001b[0;32m    675\u001b[0m                 raise ValueError(\"Complex data not supported\\n\"\n",
      "\u001b[1;32m~\\anaconda3\\lib\\site-packages\\numpy\\core\\_asarray.py\u001b[0m in \u001b[0;36masarray\u001b[1;34m(a, dtype, order)\u001b[0m\n\u001b[0;32m     81\u001b[0m \u001b[1;33m\u001b[0m\u001b[0m\n\u001b[0;32m     82\u001b[0m     \"\"\"\n\u001b[1;32m---> 83\u001b[1;33m     \u001b[1;32mreturn\u001b[0m \u001b[0marray\u001b[0m\u001b[1;33m(\u001b[0m\u001b[0ma\u001b[0m\u001b[1;33m,\u001b[0m \u001b[0mdtype\u001b[0m\u001b[1;33m,\u001b[0m \u001b[0mcopy\u001b[0m\u001b[1;33m=\u001b[0m\u001b[1;32mFalse\u001b[0m\u001b[1;33m,\u001b[0m \u001b[0morder\u001b[0m\u001b[1;33m=\u001b[0m\u001b[0morder\u001b[0m\u001b[1;33m)\u001b[0m\u001b[1;33m\u001b[0m\u001b[1;33m\u001b[0m\u001b[0m\n\u001b[0m\u001b[0;32m     84\u001b[0m \u001b[1;33m\u001b[0m\u001b[0m\n\u001b[0;32m     85\u001b[0m \u001b[1;33m\u001b[0m\u001b[0m\n",
      "\u001b[1;32m~\\anaconda3\\lib\\site-packages\\pandas\\core\\generic.py\u001b[0m in \u001b[0;36m__array__\u001b[1;34m(self, dtype)\u001b[0m\n\u001b[0;32m   1779\u001b[0m \u001b[1;33m\u001b[0m\u001b[0m\n\u001b[0;32m   1780\u001b[0m     \u001b[1;32mdef\u001b[0m \u001b[0m__array__\u001b[0m\u001b[1;33m(\u001b[0m\u001b[0mself\u001b[0m\u001b[1;33m,\u001b[0m \u001b[0mdtype\u001b[0m\u001b[1;33m=\u001b[0m\u001b[1;32mNone\u001b[0m\u001b[1;33m)\u001b[0m \u001b[1;33m->\u001b[0m \u001b[0mnp\u001b[0m\u001b[1;33m.\u001b[0m\u001b[0mndarray\u001b[0m\u001b[1;33m:\u001b[0m\u001b[1;33m\u001b[0m\u001b[1;33m\u001b[0m\u001b[0m\n\u001b[1;32m-> 1781\u001b[1;33m         \u001b[1;32mreturn\u001b[0m \u001b[0mnp\u001b[0m\u001b[1;33m.\u001b[0m\u001b[0masarray\u001b[0m\u001b[1;33m(\u001b[0m\u001b[0mself\u001b[0m\u001b[1;33m.\u001b[0m\u001b[0m_values\u001b[0m\u001b[1;33m,\u001b[0m \u001b[0mdtype\u001b[0m\u001b[1;33m=\u001b[0m\u001b[0mdtype\u001b[0m\u001b[1;33m)\u001b[0m\u001b[1;33m\u001b[0m\u001b[1;33m\u001b[0m\u001b[0m\n\u001b[0m\u001b[0;32m   1782\u001b[0m \u001b[1;33m\u001b[0m\u001b[0m\n\u001b[0;32m   1783\u001b[0m     \u001b[1;32mdef\u001b[0m \u001b[0m__array_wrap__\u001b[0m\u001b[1;33m(\u001b[0m\u001b[0mself\u001b[0m\u001b[1;33m,\u001b[0m \u001b[0mresult\u001b[0m\u001b[1;33m,\u001b[0m \u001b[0mcontext\u001b[0m\u001b[1;33m=\u001b[0m\u001b[1;32mNone\u001b[0m\u001b[1;33m)\u001b[0m\u001b[1;33m:\u001b[0m\u001b[1;33m\u001b[0m\u001b[1;33m\u001b[0m\u001b[0m\n",
      "\u001b[1;32m~\\anaconda3\\lib\\site-packages\\numpy\\core\\_asarray.py\u001b[0m in \u001b[0;36masarray\u001b[1;34m(a, dtype, order)\u001b[0m\n\u001b[0;32m     81\u001b[0m \u001b[1;33m\u001b[0m\u001b[0m\n\u001b[0;32m     82\u001b[0m     \"\"\"\n\u001b[1;32m---> 83\u001b[1;33m     \u001b[1;32mreturn\u001b[0m \u001b[0marray\u001b[0m\u001b[1;33m(\u001b[0m\u001b[0ma\u001b[0m\u001b[1;33m,\u001b[0m \u001b[0mdtype\u001b[0m\u001b[1;33m,\u001b[0m \u001b[0mcopy\u001b[0m\u001b[1;33m=\u001b[0m\u001b[1;32mFalse\u001b[0m\u001b[1;33m,\u001b[0m \u001b[0morder\u001b[0m\u001b[1;33m=\u001b[0m\u001b[0morder\u001b[0m\u001b[1;33m)\u001b[0m\u001b[1;33m\u001b[0m\u001b[1;33m\u001b[0m\u001b[0m\n\u001b[0m\u001b[0;32m     84\u001b[0m \u001b[1;33m\u001b[0m\u001b[0m\n\u001b[0;32m     85\u001b[0m \u001b[1;33m\u001b[0m\u001b[0m\n",
      "\u001b[1;31mValueError\u001b[0m: could not convert string to float: 'the United States'"
     ]
    }
   ],
   "source": [
    "from imblearn.over_sampling import SMOTE\n",
    "\n",
    "smote = SMOTE()\n",
    "\n",
    "X = df.drop('state', axis=1)\n",
    "y = df['state']\n",
    "\n",
    "X_sm, y_sm = smote.fit_resample(X, y)\n",
    "y_sm.value_counts()"
   ]
  },
  {
   "cell_type": "markdown",
   "metadata": {},
   "source": [
    "#### TomekLinks for downsampling"
   ]
  },
  {
   "cell_type": "markdown",
   "metadata": {},
   "source": [
    "could be good because of the relatively small imbalance"
   ]
  },
  {
   "cell_type": "code",
   "execution_count": null,
   "metadata": {},
   "outputs": [],
   "source": [
    "from imblearn.under_sampling import TomekLinks\n",
    "\n",
    "X = df.drop('state', axis=1)\n",
    "y = df['state']\n",
    "\n",
    "tomek = TomekLinks()\n",
    "X_tl, y_tl = tomek.fit_resample(X, y)\n",
    "y_tl.value_counts()"
   ]
  },
  {
   "cell_type": "markdown",
   "metadata": {},
   "source": [
    "## encode categoricals"
   ]
  },
  {
   "cell_type": "markdown",
   "metadata": {},
   "source": [
    "### create test df to try model"
   ]
  },
  {
   "cell_type": "code",
   "execution_count": 38,
   "metadata": {},
   "outputs": [],
   "source": [
    "df = df.drop(['Unnamed: 0', 'backers_count', 'converted_pledged_amount',\n",
    "       'category_analytics_name', 'category_slug',\n",
    "       'created_at_date', 'created_at_time', \n",
    "       'launched_at_date', 'launched_at_time', \n",
    "       'deadline_date', 'deadline_time', 'funded_rate', 'description',\n",
    "       'description_kw'], axis=1)"
   ]
  },
  {
   "cell_type": "code",
   "execution_count": 39,
   "metadata": {},
   "outputs": [
    {
     "data": {
      "text/plain": [
       "Index(['country_displayable_name', 'goal', 'state', 'category_name',\n",
       "       'category_parent_name', 'created_at_weekday', 'launched_at_weekday',\n",
       "       'deadline_weekday', 'project_duration', 'blurb_language',\n",
       "       'description_pol', 'description_sub', 'description_len'],\n",
       "      dtype='object')"
      ]
     },
     "execution_count": 39,
     "metadata": {},
     "output_type": "execute_result"
    }
   ],
   "source": [
    "df.columns"
   ]
  },
  {
   "cell_type": "markdown",
   "metadata": {},
   "source": [
    "### x/y split"
   ]
  },
  {
   "cell_type": "code",
   "execution_count": 40,
   "metadata": {},
   "outputs": [],
   "source": [
    "y = df['state']\n",
    "X = df.drop('state', axis=1)"
   ]
  },
  {
   "cell_type": "markdown",
   "metadata": {},
   "source": [
    "### encoding"
   ]
  },
  {
   "cell_type": "code",
   "execution_count": 41,
   "metadata": {},
   "outputs": [
    {
     "data": {
      "text/html": [
       "<div>\n",
       "<style scoped>\n",
       "    .dataframe tbody tr th:only-of-type {\n",
       "        vertical-align: middle;\n",
       "    }\n",
       "\n",
       "    .dataframe tbody tr th {\n",
       "        vertical-align: top;\n",
       "    }\n",
       "\n",
       "    .dataframe thead th {\n",
       "        text-align: right;\n",
       "    }\n",
       "</style>\n",
       "<table border=\"1\" class=\"dataframe\">\n",
       "  <thead>\n",
       "    <tr style=\"text-align: right;\">\n",
       "      <th></th>\n",
       "      <th>country_displayable_name</th>\n",
       "      <th>goal</th>\n",
       "      <th>category_name</th>\n",
       "      <th>category_parent_name</th>\n",
       "      <th>created_at_weekday</th>\n",
       "      <th>launched_at_weekday</th>\n",
       "      <th>deadline_weekday</th>\n",
       "      <th>project_duration</th>\n",
       "      <th>blurb_language</th>\n",
       "      <th>description_pol</th>\n",
       "      <th>description_sub</th>\n",
       "      <th>description_len</th>\n",
       "    </tr>\n",
       "  </thead>\n",
       "  <tbody>\n",
       "    <tr>\n",
       "      <th>13143</th>\n",
       "      <td>the United States</td>\n",
       "      <td>10000.0</td>\n",
       "      <td>Robots</td>\n",
       "      <td>Technology</td>\n",
       "      <td>Saturday</td>\n",
       "      <td>Friday</td>\n",
       "      <td>Sunday</td>\n",
       "      <td>30.000000</td>\n",
       "      <td>en</td>\n",
       "      <td>0.00</td>\n",
       "      <td>0.00</td>\n",
       "      <td>125</td>\n",
       "    </tr>\n",
       "    <tr>\n",
       "      <th>17744</th>\n",
       "      <td>the United States</td>\n",
       "      <td>10000.0</td>\n",
       "      <td>Drinks</td>\n",
       "      <td>Food</td>\n",
       "      <td>Tuesday</td>\n",
       "      <td>Thursday</td>\n",
       "      <td>Saturday</td>\n",
       "      <td>30.000000</td>\n",
       "      <td>en</td>\n",
       "      <td>0.23</td>\n",
       "      <td>0.42</td>\n",
       "      <td>128</td>\n",
       "    </tr>\n",
       "    <tr>\n",
       "      <th>28845</th>\n",
       "      <td>the United States</td>\n",
       "      <td>5000.0</td>\n",
       "      <td>Public Art</td>\n",
       "      <td>Art</td>\n",
       "      <td>Friday</td>\n",
       "      <td>Thursday</td>\n",
       "      <td>Tuesday</td>\n",
       "      <td>19.021539</td>\n",
       "      <td>en</td>\n",
       "      <td>0.00</td>\n",
       "      <td>0.00</td>\n",
       "      <td>101</td>\n",
       "    </tr>\n",
       "    <tr>\n",
       "      <th>19727</th>\n",
       "      <td>Germany</td>\n",
       "      <td>700.0</td>\n",
       "      <td>Accessories</td>\n",
       "      <td>Fashion</td>\n",
       "      <td>Wednesday</td>\n",
       "      <td>Sunday</td>\n",
       "      <td>Sunday</td>\n",
       "      <td>28.000000</td>\n",
       "      <td>en</td>\n",
       "      <td>0.00</td>\n",
       "      <td>0.00</td>\n",
       "      <td>58</td>\n",
       "    </tr>\n",
       "    <tr>\n",
       "      <th>159170</th>\n",
       "      <td>the United States</td>\n",
       "      <td>5000.0</td>\n",
       "      <td>Narrative Film</td>\n",
       "      <td>Film &amp; Video</td>\n",
       "      <td>Saturday</td>\n",
       "      <td>Tuesday</td>\n",
       "      <td>Thursday</td>\n",
       "      <td>30.000000</td>\n",
       "      <td>en</td>\n",
       "      <td>-0.25</td>\n",
       "      <td>0.47</td>\n",
       "      <td>131</td>\n",
       "    </tr>\n",
       "  </tbody>\n",
       "</table>\n",
       "</div>"
      ],
      "text/plain": [
       "       country_displayable_name     goal   category_name category_parent_name  \\\n",
       "13143         the United States  10000.0          Robots           Technology   \n",
       "17744         the United States  10000.0          Drinks                 Food   \n",
       "28845         the United States   5000.0      Public Art                  Art   \n",
       "19727                   Germany    700.0     Accessories              Fashion   \n",
       "159170        the United States   5000.0  Narrative Film         Film & Video   \n",
       "\n",
       "       created_at_weekday launched_at_weekday deadline_weekday  \\\n",
       "13143            Saturday              Friday           Sunday   \n",
       "17744             Tuesday            Thursday         Saturday   \n",
       "28845              Friday            Thursday          Tuesday   \n",
       "19727           Wednesday              Sunday           Sunday   \n",
       "159170           Saturday             Tuesday         Thursday   \n",
       "\n",
       "        project_duration blurb_language  description_pol  description_sub  \\\n",
       "13143          30.000000             en             0.00             0.00   \n",
       "17744          30.000000             en             0.23             0.42   \n",
       "28845          19.021539             en             0.00             0.00   \n",
       "19727          28.000000             en             0.00             0.00   \n",
       "159170         30.000000             en            -0.25             0.47   \n",
       "\n",
       "        description_len  \n",
       "13143               125  \n",
       "17744               128  \n",
       "28845               101  \n",
       "19727                58  \n",
       "159170              131  "
      ]
     },
     "execution_count": 41,
     "metadata": {},
     "output_type": "execute_result"
    }
   ],
   "source": [
    "X.sample(5)"
   ]
  },
  {
   "cell_type": "code",
   "execution_count": 42,
   "metadata": {},
   "outputs": [],
   "source": [
    "X = pd.get_dummies(X, columns=['country_displayable_name', 'category_name', 'category_parent_name', 'created_at_weekday', 'launched_at_weekday', 'deadline_weekday', 'blurb_language'])"
   ]
  },
  {
   "cell_type": "code",
   "execution_count": 43,
   "metadata": {},
   "outputs": [
    {
     "data": {
      "text/html": [
       "<div>\n",
       "<style scoped>\n",
       "    .dataframe tbody tr th:only-of-type {\n",
       "        vertical-align: middle;\n",
       "    }\n",
       "\n",
       "    .dataframe tbody tr th {\n",
       "        vertical-align: top;\n",
       "    }\n",
       "\n",
       "    .dataframe thead th {\n",
       "        text-align: right;\n",
       "    }\n",
       "</style>\n",
       "<table border=\"1\" class=\"dataframe\">\n",
       "  <thead>\n",
       "    <tr style=\"text-align: right;\">\n",
       "      <th></th>\n",
       "      <th>goal</th>\n",
       "      <th>project_duration</th>\n",
       "      <th>description_pol</th>\n",
       "      <th>description_sub</th>\n",
       "      <th>description_len</th>\n",
       "      <th>country_displayable_name_Australia</th>\n",
       "      <th>country_displayable_name_Austria</th>\n",
       "      <th>country_displayable_name_Belgium</th>\n",
       "      <th>country_displayable_name_Canada</th>\n",
       "      <th>country_displayable_name_Denmark</th>\n",
       "      <th>...</th>\n",
       "      <th>blurb_language_sq</th>\n",
       "      <th>blurb_language_sv</th>\n",
       "      <th>blurb_language_sw</th>\n",
       "      <th>blurb_language_tl</th>\n",
       "      <th>blurb_language_tr</th>\n",
       "      <th>blurb_language_vo</th>\n",
       "      <th>blurb_language_wa</th>\n",
       "      <th>blurb_language_xh</th>\n",
       "      <th>blurb_language_zh</th>\n",
       "      <th>blurb_language_zu</th>\n",
       "    </tr>\n",
       "  </thead>\n",
       "  <tbody>\n",
       "    <tr>\n",
       "      <th>142998</th>\n",
       "      <td>7000.0</td>\n",
       "      <td>25.594375</td>\n",
       "      <td>0.00</td>\n",
       "      <td>0.00</td>\n",
       "      <td>117</td>\n",
       "      <td>0</td>\n",
       "      <td>0</td>\n",
       "      <td>0</td>\n",
       "      <td>0</td>\n",
       "      <td>0</td>\n",
       "      <td>...</td>\n",
       "      <td>0</td>\n",
       "      <td>0</td>\n",
       "      <td>0</td>\n",
       "      <td>0</td>\n",
       "      <td>0</td>\n",
       "      <td>0</td>\n",
       "      <td>0</td>\n",
       "      <td>0</td>\n",
       "      <td>0</td>\n",
       "      <td>0</td>\n",
       "    </tr>\n",
       "    <tr>\n",
       "      <th>164490</th>\n",
       "      <td>2800.0</td>\n",
       "      <td>35.000000</td>\n",
       "      <td>0.13</td>\n",
       "      <td>0.55</td>\n",
       "      <td>117</td>\n",
       "      <td>0</td>\n",
       "      <td>0</td>\n",
       "      <td>0</td>\n",
       "      <td>0</td>\n",
       "      <td>0</td>\n",
       "      <td>...</td>\n",
       "      <td>0</td>\n",
       "      <td>0</td>\n",
       "      <td>0</td>\n",
       "      <td>0</td>\n",
       "      <td>0</td>\n",
       "      <td>0</td>\n",
       "      <td>0</td>\n",
       "      <td>0</td>\n",
       "      <td>0</td>\n",
       "      <td>0</td>\n",
       "    </tr>\n",
       "    <tr>\n",
       "      <th>5288</th>\n",
       "      <td>300.0</td>\n",
       "      <td>40.000000</td>\n",
       "      <td>-0.29</td>\n",
       "      <td>0.54</td>\n",
       "      <td>26</td>\n",
       "      <td>0</td>\n",
       "      <td>0</td>\n",
       "      <td>0</td>\n",
       "      <td>0</td>\n",
       "      <td>0</td>\n",
       "      <td>...</td>\n",
       "      <td>0</td>\n",
       "      <td>0</td>\n",
       "      <td>0</td>\n",
       "      <td>0</td>\n",
       "      <td>0</td>\n",
       "      <td>0</td>\n",
       "      <td>0</td>\n",
       "      <td>0</td>\n",
       "      <td>0</td>\n",
       "      <td>0</td>\n",
       "    </tr>\n",
       "    <tr>\n",
       "      <th>179343</th>\n",
       "      <td>100000.0</td>\n",
       "      <td>30.000000</td>\n",
       "      <td>0.00</td>\n",
       "      <td>0.00</td>\n",
       "      <td>75</td>\n",
       "      <td>0</td>\n",
       "      <td>0</td>\n",
       "      <td>0</td>\n",
       "      <td>0</td>\n",
       "      <td>0</td>\n",
       "      <td>...</td>\n",
       "      <td>0</td>\n",
       "      <td>0</td>\n",
       "      <td>0</td>\n",
       "      <td>0</td>\n",
       "      <td>0</td>\n",
       "      <td>0</td>\n",
       "      <td>0</td>\n",
       "      <td>0</td>\n",
       "      <td>0</td>\n",
       "      <td>0</td>\n",
       "    </tr>\n",
       "    <tr>\n",
       "      <th>61379</th>\n",
       "      <td>10000.0</td>\n",
       "      <td>45.000000</td>\n",
       "      <td>0.36</td>\n",
       "      <td>0.61</td>\n",
       "      <td>122</td>\n",
       "      <td>0</td>\n",
       "      <td>0</td>\n",
       "      <td>0</td>\n",
       "      <td>0</td>\n",
       "      <td>0</td>\n",
       "      <td>...</td>\n",
       "      <td>0</td>\n",
       "      <td>0</td>\n",
       "      <td>0</td>\n",
       "      <td>0</td>\n",
       "      <td>0</td>\n",
       "      <td>0</td>\n",
       "      <td>0</td>\n",
       "      <td>0</td>\n",
       "      <td>0</td>\n",
       "      <td>0</td>\n",
       "    </tr>\n",
       "  </tbody>\n",
       "</table>\n",
       "<p>5 rows × 296 columns</p>\n",
       "</div>"
      ],
      "text/plain": [
       "            goal  project_duration  description_pol  description_sub  \\\n",
       "142998    7000.0         25.594375             0.00             0.00   \n",
       "164490    2800.0         35.000000             0.13             0.55   \n",
       "5288       300.0         40.000000            -0.29             0.54   \n",
       "179343  100000.0         30.000000             0.00             0.00   \n",
       "61379    10000.0         45.000000             0.36             0.61   \n",
       "\n",
       "        description_len  country_displayable_name_Australia  \\\n",
       "142998              117                                   0   \n",
       "164490              117                                   0   \n",
       "5288                 26                                   0   \n",
       "179343               75                                   0   \n",
       "61379               122                                   0   \n",
       "\n",
       "        country_displayable_name_Austria  country_displayable_name_Belgium  \\\n",
       "142998                                 0                                 0   \n",
       "164490                                 0                                 0   \n",
       "5288                                   0                                 0   \n",
       "179343                                 0                                 0   \n",
       "61379                                  0                                 0   \n",
       "\n",
       "        country_displayable_name_Canada  country_displayable_name_Denmark  \\\n",
       "142998                                0                                 0   \n",
       "164490                                0                                 0   \n",
       "5288                                  0                                 0   \n",
       "179343                                0                                 0   \n",
       "61379                                 0                                 0   \n",
       "\n",
       "        ...  blurb_language_sq  blurb_language_sv  blurb_language_sw  \\\n",
       "142998  ...                  0                  0                  0   \n",
       "164490  ...                  0                  0                  0   \n",
       "5288    ...                  0                  0                  0   \n",
       "179343  ...                  0                  0                  0   \n",
       "61379   ...                  0                  0                  0   \n",
       "\n",
       "        blurb_language_tl  blurb_language_tr  blurb_language_vo  \\\n",
       "142998                  0                  0                  0   \n",
       "164490                  0                  0                  0   \n",
       "5288                    0                  0                  0   \n",
       "179343                  0                  0                  0   \n",
       "61379                   0                  0                  0   \n",
       "\n",
       "        blurb_language_wa  blurb_language_xh  blurb_language_zh  \\\n",
       "142998                  0                  0                  0   \n",
       "164490                  0                  0                  0   \n",
       "5288                    0                  0                  0   \n",
       "179343                  0                  0                  0   \n",
       "61379                   0                  0                  0   \n",
       "\n",
       "        blurb_language_zu  \n",
       "142998                  0  \n",
       "164490                  0  \n",
       "5288                    0  \n",
       "179343                  0  \n",
       "61379                   0  \n",
       "\n",
       "[5 rows x 296 columns]"
      ]
     },
     "execution_count": 43,
     "metadata": {},
     "output_type": "execute_result"
    }
   ],
   "source": [
    "X.sample(5)"
   ]
  },
  {
   "cell_type": "markdown",
   "metadata": {},
   "source": [
    "## build model"
   ]
  },
  {
   "cell_type": "markdown",
   "metadata": {},
   "source": [
    "### join numerical and categorical variables"
   ]
  },
  {
   "cell_type": "code",
   "execution_count": null,
   "metadata": {},
   "outputs": [],
   "source": [
    "X_num.shape, X_cat.shape"
   ]
  },
  {
   "cell_type": "code",
   "execution_count": null,
   "metadata": {},
   "outputs": [],
   "source": [
    "model_df = pd.merge(X_cat, X_num, left_index=True, right_index=True)"
   ]
  },
  {
   "cell_type": "code",
   "execution_count": null,
   "metadata": {},
   "outputs": [],
   "source": [
    "model_df.shape"
   ]
  },
  {
   "cell_type": "code",
   "execution_count": null,
   "metadata": {},
   "outputs": [],
   "source": [
    "model_df"
   ]
  },
  {
   "cell_type": "markdown",
   "metadata": {},
   "source": [
    "### test and train split"
   ]
  },
  {
   "cell_type": "code",
   "execution_count": 46,
   "metadata": {},
   "outputs": [
    {
     "data": {
      "text/plain": [
       "0.608869984557449"
      ]
     },
     "execution_count": 46,
     "metadata": {},
     "output_type": "execute_result"
    }
   ],
   "source": [
    "classification.score(X_test, y_test) # checking the score without the need for predictions\n",
    "# 0.8729913265649163"
   ]
  },
  {
   "cell_type": "code",
   "execution_count": 47,
   "metadata": {},
   "outputs": [
    {
     "data": {
      "text/plain": [
       "array(['successful', 'successful', 'successful', ..., 'successful',\n",
       "       'successful', 'successful'], dtype=object)"
      ]
     },
     "execution_count": 47,
     "metadata": {},
     "output_type": "execute_result"
    }
   ],
   "source": [
    "# to get predictions\n",
    "predictions = classification.predict(X_test)\n",
    "predictions"
   ]
  },
  {
   "cell_type": "code",
   "execution_count": 48,
   "metadata": {},
   "outputs": [
    {
     "data": {
      "text/plain": [
       "64582         failed\n",
       "111026    successful\n",
       "71832     successful\n",
       "143066    successful\n",
       "36632     successful\n",
       "             ...    \n",
       "126644    successful\n",
       "149116        failed\n",
       "27231         failed\n",
       "157066    successful\n",
       "111909    successful\n",
       "Name: state, Length: 36911, dtype: object"
      ]
     },
     "execution_count": 48,
     "metadata": {},
     "output_type": "execute_result"
    }
   ],
   "source": [
    "y_test"
   ]
  },
  {
   "cell_type": "code",
   "execution_count": 49,
   "metadata": {},
   "outputs": [
    {
     "data": {
      "text/plain": [
       "array([[0.39303119, 0.60696881],\n",
       "       [0.42541358, 0.57458642],\n",
       "       [0.4251216 , 0.5748784 ],\n",
       "       ...,\n",
       "       [0.44266124, 0.55733876],\n",
       "       [0.3960452 , 0.6039548 ],\n",
       "       [0.39533711, 0.60466289]])"
      ]
     },
     "execution_count": 49,
     "metadata": {},
     "output_type": "execute_result"
    }
   ],
   "source": [
    "# to get the probability instead\n",
    "predictions_ = classification.predict_proba(X_test)\n",
    "predictions_"
   ]
  },
  {
   "cell_type": "markdown",
   "metadata": {},
   "source": [
    "## evaluation of the model"
   ]
  },
  {
   "cell_type": "markdown",
   "metadata": {},
   "source": [
    "### Logistic Regression Metrics\n",
    "\n",
    "Concepts:\n",
    "- Sensitivity: True Positives rate = TP/(TP+FN)\n",
    "- Specificity: True Negatives rate = TN/(TN+FP)\n",
    "\n",
    "There are many metrics to aid us on evaluating our model. \n",
    "Some famous ones are:\n",
    "- Accuracy = (TP + TN)/(TP+TN+FP+FN);\n",
    "- AUC-ROC (Area Under the Curve - Receiver Operating Characteristics);\n",
    "- F1 score = 2*(precision * recall)/(precision+recall);\n",
    "- Precision = TP/(TP+FP) - when you rather be sure it is a positive;\n",
    "- Recall (sensitivity) = TP/(TP+FN) - when we want to get most positives as possible.\n",
    "\n",
    "More metrics and when to use each: [here](https://towardsdatascience.com/the-5-classification-evaluation-metrics-you-must-know-aa97784ff226)."
   ]
  },
  {
   "cell_type": "markdown",
   "metadata": {},
   "source": [
    "## conclusion"
   ]
  },
  {
   "cell_type": "code",
   "execution_count": null,
   "metadata": {},
   "outputs": [],
   "source": []
  }
 ],
 "metadata": {
  "kernelspec": {
   "display_name": "Python 3",
   "language": "python",
   "name": "python3"
  },
  "language_info": {
   "codemirror_mode": {
    "name": "ipython",
    "version": 3
   },
   "file_extension": ".py",
   "mimetype": "text/x-python",
   "name": "python",
   "nbconvert_exporter": "python",
   "pygments_lexer": "ipython3",
   "version": "3.8.5"
  },
  "toc": {
   "base_numbering": 1,
   "nav_menu": {},
   "number_sections": true,
   "sideBar": true,
   "skip_h1_title": true,
   "title_cell": "Table of Contents",
   "title_sidebar": "Contents",
   "toc_cell": false,
   "toc_position": {
    "height": "calc(100% - 180px)",
    "left": "10px",
    "top": "150px",
    "width": "329.774px"
   },
   "toc_section_display": true,
   "toc_window_display": true
  }
 },
 "nbformat": 4,
 "nbformat_minor": 4
}
